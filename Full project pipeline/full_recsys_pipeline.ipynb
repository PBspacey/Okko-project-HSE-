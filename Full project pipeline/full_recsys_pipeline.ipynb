{
 "cells": [
  {
   "cell_type": "markdown",
   "metadata": {},
   "source": [
    "# 0. Configuration"
   ]
  },
  {
   "cell_type": "code",
   "execution_count": 1,
   "metadata": {},
   "outputs": [],
   "source": [
    "# links to shared data MovieLens\n",
    "# source on kaggle: https://www.kaggle.com/code/quangnhatbui/movie-recommender/data\n",
    "INTERACTIONS_PATH = '/Users/nikitasenyatkin/Documents/Мага/1 курс/Okko/Okko-project-HSE-/Full project pipeline/interactions_df.csv'\n",
    "ITEMS_METADATA_PATH = 'https://drive.google.com/file/d/12a80lS3vXQOl6i6ENgz-WqWw3Wms0nqB/view?usp=share_link'\n",
    "USERS_DATA_PATH = 'https://drive.google.com/file/d/1MwPaye0cRi53czLqCnH0bOuvIhOeNlAx/view?usp=share_link'"
   ]
  },
  {
   "cell_type": "markdown",
   "metadata": {},
   "source": [
    "# 1. Modules and functions"
   ]
  },
  {
   "cell_type": "code",
   "execution_count": 2,
   "metadata": {},
   "outputs": [
    {
     "name": "stderr",
     "output_type": "stream",
     "text": [
      "LightFM was compiled without OpenMP support. Only a single thread will be used.\n"
     ]
    }
   ],
   "source": [
    "# just to make it available to download w/o SSL verification\n",
    "import ssl\n",
    "ssl._create_default_https_context = ssl._create_unverified_context\n",
    "\n",
    "import shap\n",
    "import numpy as np\n",
    "import pandas as pd\n",
    "import datetime as dt\n",
    "\n",
    "from sklearn.utils import shuffle\n",
    "from sklearn.model_selection import train_test_split\n",
    "\n",
    "from lightfm.data import Dataset\n",
    "from lightfm import LightFM\n",
    "\n",
    "from catboost import CatBoostClassifier\n",
    "\n",
    "from tqdm import tqdm_notebook\n",
    "import warnings\n",
    "warnings.filterwarnings('ignore')\n",
    "\n",
    "pd.set_option('display.float_format', lambda x: '%.3f' % x)"
   ]
  },
  {
   "cell_type": "markdown",
   "metadata": {},
   "source": [
    "## 1. 1. Helper functions to avoid copy paste"
   ]
  },
  {
   "cell_type": "code",
   "execution_count": 3,
   "metadata": {},
   "outputs": [],
   "source": [
    "def read_csv_from_gdrive(url):\n",
    "    \"\"\"\n",
    "    gets csv data from a given url (taken from file -> share -> copy link)\n",
    "    :url: example https://drive.google.com/file/d/1BlZfCLLs5A13tbNSJZ1GPkHLWQOnPlE4/view?usp=share_link\n",
    "    \"\"\"\n",
    "    file_id = url.split('/')[-2]\n",
    "    file_path = 'https://drive.google.com/uc?export=download&id=' + file_id\n",
    "    data = pd.read_csv(file_path)\n",
    "\n",
    "    return data"
   ]
  },
  {
   "cell_type": "markdown",
   "metadata": {},
   "source": [
    "# 2. Main"
   ]
  },
  {
   "cell_type": "markdown",
   "metadata": {},
   "source": [
    "## 2.1. Load Data"
   ]
  },
  {
   "cell_type": "markdown",
   "metadata": {},
   "source": [
    "`interactions` dataset shows list of movies that users watched, along with given `total_dur` in seconds and `watched_pct` proportion:"
   ]
  },
  {
   "cell_type": "code",
   "execution_count": 4,
   "metadata": {},
   "outputs": [
    {
     "data": {
      "text/html": [
       "<div>\n",
       "<style scoped>\n",
       "    .dataframe tbody tr th:only-of-type {\n",
       "        vertical-align: middle;\n",
       "    }\n",
       "\n",
       "    .dataframe tbody tr th {\n",
       "        vertical-align: top;\n",
       "    }\n",
       "\n",
       "    .dataframe thead th {\n",
       "        text-align: right;\n",
       "    }\n",
       "</style>\n",
       "<table border=\"1\" class=\"dataframe\">\n",
       "  <thead>\n",
       "    <tr style=\"text-align: right;\">\n",
       "      <th></th>\n",
       "      <th>user_id</th>\n",
       "      <th>item_id</th>\n",
       "      <th>last_watch_dt</th>\n",
       "      <th>total_dur</th>\n",
       "      <th>watched_pct</th>\n",
       "    </tr>\n",
       "  </thead>\n",
       "  <tbody>\n",
       "    <tr>\n",
       "      <th>0</th>\n",
       "      <td>176549</td>\n",
       "      <td>9506</td>\n",
       "      <td>2021-05-11</td>\n",
       "      <td>4250</td>\n",
       "      <td>72.000</td>\n",
       "    </tr>\n",
       "    <tr>\n",
       "      <th>1</th>\n",
       "      <td>699317</td>\n",
       "      <td>1659</td>\n",
       "      <td>2021-05-29</td>\n",
       "      <td>8317</td>\n",
       "      <td>100.000</td>\n",
       "    </tr>\n",
       "    <tr>\n",
       "      <th>2</th>\n",
       "      <td>656683</td>\n",
       "      <td>7107</td>\n",
       "      <td>2021-05-09</td>\n",
       "      <td>10</td>\n",
       "      <td>0.000</td>\n",
       "    </tr>\n",
       "    <tr>\n",
       "      <th>3</th>\n",
       "      <td>864613</td>\n",
       "      <td>7638</td>\n",
       "      <td>2021-07-05</td>\n",
       "      <td>14483</td>\n",
       "      <td>100.000</td>\n",
       "    </tr>\n",
       "    <tr>\n",
       "      <th>4</th>\n",
       "      <td>964868</td>\n",
       "      <td>9506</td>\n",
       "      <td>2021-04-30</td>\n",
       "      <td>6725</td>\n",
       "      <td>100.000</td>\n",
       "    </tr>\n",
       "  </tbody>\n",
       "</table>\n",
       "</div>"
      ],
      "text/plain": [
       "   user_id  item_id last_watch_dt  total_dur  watched_pct\n",
       "0   176549     9506    2021-05-11       4250       72.000\n",
       "1   699317     1659    2021-05-29       8317      100.000\n",
       "2   656683     7107    2021-05-09         10        0.000\n",
       "3   864613     7638    2021-07-05      14483      100.000\n",
       "4   964868     9506    2021-04-30       6725      100.000"
      ]
     },
     "execution_count": 4,
     "metadata": {},
     "output_type": "execute_result"
    }
   ],
   "source": [
    "# interactions data\n",
    "interactions = pd.read_csv(INTERACTIONS_PATH)\n",
    "interactions.head()"
   ]
  },
  {
   "cell_type": "markdown",
   "metadata": {},
   "source": [
    "`movies_metadata` dataset shows the list of movies existing on OKKO platform:"
   ]
  },
  {
   "cell_type": "code",
   "execution_count": 5,
   "metadata": {},
   "outputs": [
    {
     "data": {
      "text/html": [
       "<div>\n",
       "<style scoped>\n",
       "    .dataframe tbody tr th:only-of-type {\n",
       "        vertical-align: middle;\n",
       "    }\n",
       "\n",
       "    .dataframe tbody tr th {\n",
       "        vertical-align: top;\n",
       "    }\n",
       "\n",
       "    .dataframe thead th {\n",
       "        text-align: right;\n",
       "    }\n",
       "</style>\n",
       "<table border=\"1\" class=\"dataframe\">\n",
       "  <thead>\n",
       "    <tr style=\"text-align: right;\">\n",
       "      <th></th>\n",
       "      <th>item_id</th>\n",
       "      <th>content_type</th>\n",
       "      <th>title</th>\n",
       "      <th>title_orig</th>\n",
       "      <th>release_year</th>\n",
       "      <th>genres</th>\n",
       "      <th>countries</th>\n",
       "      <th>for_kids</th>\n",
       "      <th>age_rating</th>\n",
       "      <th>studios</th>\n",
       "      <th>directors</th>\n",
       "      <th>actors</th>\n",
       "      <th>description</th>\n",
       "      <th>keywords</th>\n",
       "    </tr>\n",
       "  </thead>\n",
       "  <tbody>\n",
       "    <tr>\n",
       "      <th>0</th>\n",
       "      <td>10711</td>\n",
       "      <td>film</td>\n",
       "      <td>Поговори с ней</td>\n",
       "      <td>Hable con ella</td>\n",
       "      <td>2002.000</td>\n",
       "      <td>драмы, зарубежные, детективы, мелодрамы</td>\n",
       "      <td>Испания</td>\n",
       "      <td>NaN</td>\n",
       "      <td>16.000</td>\n",
       "      <td>NaN</td>\n",
       "      <td>Педро Альмодовар</td>\n",
       "      <td>Адольфо Фернандес, Ана Фернандес, Дарио Гранди...</td>\n",
       "      <td>Мелодрама легендарного Педро Альмодовара «Пого...</td>\n",
       "      <td>Поговори, ней, 2002, Испания, друзья, любовь, ...</td>\n",
       "    </tr>\n",
       "    <tr>\n",
       "      <th>1</th>\n",
       "      <td>2508</td>\n",
       "      <td>film</td>\n",
       "      <td>Голые перцы</td>\n",
       "      <td>Search Party</td>\n",
       "      <td>2014.000</td>\n",
       "      <td>зарубежные, приключения, комедии</td>\n",
       "      <td>США</td>\n",
       "      <td>NaN</td>\n",
       "      <td>16.000</td>\n",
       "      <td>NaN</td>\n",
       "      <td>Скот Армстронг</td>\n",
       "      <td>Адам Палли, Брайан Хаски, Дж.Б. Смув, Джейсон ...</td>\n",
       "      <td>Уморительная современная комедия на популярную...</td>\n",
       "      <td>Голые, перцы, 2014, США, друзья, свадьбы, прео...</td>\n",
       "    </tr>\n",
       "    <tr>\n",
       "      <th>2</th>\n",
       "      <td>10716</td>\n",
       "      <td>film</td>\n",
       "      <td>Тактическая сила</td>\n",
       "      <td>Tactical Force</td>\n",
       "      <td>2011.000</td>\n",
       "      <td>криминал, зарубежные, триллеры, боевики, комедии</td>\n",
       "      <td>Канада</td>\n",
       "      <td>NaN</td>\n",
       "      <td>16.000</td>\n",
       "      <td>NaN</td>\n",
       "      <td>Адам П. Калтраро</td>\n",
       "      <td>Адриан Холмс, Даррен Шалави, Джерри Вассерман,...</td>\n",
       "      <td>Профессиональный рестлер Стив Остин («Все или ...</td>\n",
       "      <td>Тактическая, сила, 2011, Канада, бандиты, ганг...</td>\n",
       "    </tr>\n",
       "  </tbody>\n",
       "</table>\n",
       "</div>"
      ],
      "text/plain": [
       "   item_id content_type             title      title_orig  release_year  \\\n",
       "0    10711         film    Поговори с ней  Hable con ella      2002.000   \n",
       "1     2508         film       Голые перцы    Search Party      2014.000   \n",
       "2    10716         film  Тактическая сила  Tactical Force      2011.000   \n",
       "\n",
       "                                             genres countries  for_kids  \\\n",
       "0           драмы, зарубежные, детективы, мелодрамы   Испания       NaN   \n",
       "1                  зарубежные, приключения, комедии       США       NaN   \n",
       "2  криминал, зарубежные, триллеры, боевики, комедии    Канада       NaN   \n",
       "\n",
       "   age_rating studios         directors  \\\n",
       "0      16.000     NaN  Педро Альмодовар   \n",
       "1      16.000     NaN    Скот Армстронг   \n",
       "2      16.000     NaN  Адам П. Калтраро   \n",
       "\n",
       "                                              actors  \\\n",
       "0  Адольфо Фернандес, Ана Фернандес, Дарио Гранди...   \n",
       "1  Адам Палли, Брайан Хаски, Дж.Б. Смув, Джейсон ...   \n",
       "2  Адриан Холмс, Даррен Шалави, Джерри Вассерман,...   \n",
       "\n",
       "                                         description  \\\n",
       "0  Мелодрама легендарного Педро Альмодовара «Пого...   \n",
       "1  Уморительная современная комедия на популярную...   \n",
       "2  Профессиональный рестлер Стив Остин («Все или ...   \n",
       "\n",
       "                                            keywords  \n",
       "0  Поговори, ней, 2002, Испания, друзья, любовь, ...  \n",
       "1  Голые, перцы, 2014, США, друзья, свадьбы, прео...  \n",
       "2  Тактическая, сила, 2011, Канада, бандиты, ганг...  "
      ]
     },
     "execution_count": 5,
     "metadata": {},
     "output_type": "execute_result"
    }
   ],
   "source": [
    "# information about films etc\n",
    "movies_metadata = read_csv_from_gdrive(ITEMS_METADATA_PATH)\n",
    "movies_metadata.head(3)"
   ]
  },
  {
   "cell_type": "code",
   "execution_count": 6,
   "metadata": {},
   "outputs": [
    {
     "data": {
      "text/html": [
       "<div>\n",
       "<style scoped>\n",
       "    .dataframe tbody tr th:only-of-type {\n",
       "        vertical-align: middle;\n",
       "    }\n",
       "\n",
       "    .dataframe tbody tr th {\n",
       "        vertical-align: top;\n",
       "    }\n",
       "\n",
       "    .dataframe thead th {\n",
       "        text-align: right;\n",
       "    }\n",
       "</style>\n",
       "<table border=\"1\" class=\"dataframe\">\n",
       "  <thead>\n",
       "    <tr style=\"text-align: right;\">\n",
       "      <th></th>\n",
       "      <th>user_id</th>\n",
       "      <th>age</th>\n",
       "      <th>income</th>\n",
       "      <th>sex</th>\n",
       "      <th>kids_flg</th>\n",
       "    </tr>\n",
       "  </thead>\n",
       "  <tbody>\n",
       "    <tr>\n",
       "      <th>0</th>\n",
       "      <td>973171</td>\n",
       "      <td>age_25_34</td>\n",
       "      <td>income_60_90</td>\n",
       "      <td>М</td>\n",
       "      <td>1</td>\n",
       "    </tr>\n",
       "    <tr>\n",
       "      <th>1</th>\n",
       "      <td>962099</td>\n",
       "      <td>age_18_24</td>\n",
       "      <td>income_20_40</td>\n",
       "      <td>М</td>\n",
       "      <td>0</td>\n",
       "    </tr>\n",
       "    <tr>\n",
       "      <th>2</th>\n",
       "      <td>1047345</td>\n",
       "      <td>age_45_54</td>\n",
       "      <td>income_40_60</td>\n",
       "      <td>Ж</td>\n",
       "      <td>0</td>\n",
       "    </tr>\n",
       "    <tr>\n",
       "      <th>3</th>\n",
       "      <td>721985</td>\n",
       "      <td>age_45_54</td>\n",
       "      <td>income_20_40</td>\n",
       "      <td>Ж</td>\n",
       "      <td>0</td>\n",
       "    </tr>\n",
       "    <tr>\n",
       "      <th>4</th>\n",
       "      <td>704055</td>\n",
       "      <td>age_35_44</td>\n",
       "      <td>income_60_90</td>\n",
       "      <td>Ж</td>\n",
       "      <td>0</td>\n",
       "    </tr>\n",
       "  </tbody>\n",
       "</table>\n",
       "</div>"
      ],
      "text/plain": [
       "   user_id        age        income sex  kids_flg\n",
       "0   973171  age_25_34  income_60_90   М         1\n",
       "1   962099  age_18_24  income_20_40   М         0\n",
       "2  1047345  age_45_54  income_40_60   Ж         0\n",
       "3   721985  age_45_54  income_20_40   Ж         0\n",
       "4   704055  age_35_44  income_60_90   Ж         0"
      ]
     },
     "execution_count": 6,
     "metadata": {},
     "output_type": "execute_result"
    }
   ],
   "source": [
    "users_data = read_csv_from_gdrive(USERS_DATA_PATH)\n",
    "users_data.head()"
   ]
  },
  {
   "cell_type": "markdown",
   "metadata": {},
   "source": [
    "## 2.2. Train/test split"
   ]
  },
  {
   "cell_type": "markdown",
   "metadata": {},
   "source": [
    "## 2.3 Data preparation using LightFM Dataset (first-level model)"
   ]
  },
  {
   "cell_type": "markdown",
   "metadata": {},
   "source": [
    "To use implicit kNN method `fit` we need a sparse matrix in COOrdinate format. To achieve that we will use `scipy.sparse.coo_matrix` from scipy;\n"
   ]
  },
  {
   "cell_type": "code",
   "execution_count": 7,
   "metadata": {},
   "outputs": [],
   "source": [
    "# remove redundant data points\n",
    "interactions_filtered = interactions.loc[interactions['total_dur'] > 300].reset_index(drop = True)"
   ]
  },
  {
   "cell_type": "code",
   "execution_count": 8,
   "metadata": {},
   "outputs": [
    {
     "name": "stdout",
     "output_type": "stream",
     "text": [
      "(5476251, 5) (4195689, 5)\n"
     ]
    }
   ],
   "source": [
    "print(interactions.shape, interactions_filtered.shape)"
   ]
  },
  {
   "cell_type": "code",
   "execution_count": 9,
   "metadata": {},
   "outputs": [],
   "source": [
    "interactions_filtered['last_watch_dt'] = pd.to_datetime(interactions_filtered['last_watch_dt'])"
   ]
  },
  {
   "cell_type": "code",
   "execution_count": 10,
   "metadata": {},
   "outputs": [
    {
     "name": "stdout",
     "output_type": "stream",
     "text": [
      "min date in filtered interactions: 2021-08-22 00:00:00\n",
      "max date in filtered interactions:: 2021-03-13 00:00:00\n"
     ]
    }
   ],
   "source": [
    "# set dates params for filter\n",
    "MAX_DATE = interactions_filtered['last_watch_dt'].max()\n",
    "MIN_DATE = interactions_filtered['last_watch_dt'].min()\n",
    "TEST_INTERVAL_DAYS = 14\n",
    "\n",
    "print(f\"min date in filtered interactions: {MAX_DATE}\")\n",
    "print(f\"max date in filtered interactions:: {MIN_DATE}\")"
   ]
  },
  {
   "cell_type": "code",
   "execution_count": 11,
   "metadata": {},
   "outputs": [],
   "source": [
    "TEST_MAX_DATE = MAX_DATE - dt.timedelta(days = TEST_INTERVAL_DAYS)"
   ]
  },
  {
   "cell_type": "code",
   "execution_count": 12,
   "metadata": {},
   "outputs": [
    {
     "name": "stdout",
     "output_type": "stream",
     "text": [
      "(3530674, 5) (665015, 5)\n"
     ]
    }
   ],
   "source": [
    "# define global train and test\n",
    "global_train = interactions_filtered.loc[interactions_filtered['last_watch_dt'] < TEST_MAX_DATE]\n",
    "global_test = interactions_filtered.loc[interactions_filtered['last_watch_dt'] >= TEST_MAX_DATE]\n",
    "\n",
    "print(global_train.shape, global_test.shape)"
   ]
  },
  {
   "cell_type": "code",
   "execution_count": 13,
   "metadata": {},
   "outputs": [
    {
     "name": "stdout",
     "output_type": "stream",
     "text": [
      "2021-07-11 00:00:00\n"
     ]
    }
   ],
   "source": [
    "# now, we define \"local\" train and test to use some part of the global train for ranker\n",
    "local_train_thresh = global_train['last_watch_dt'].quantile(q = .7, interpolation = 'nearest')\n",
    "print(local_train_thresh)"
   ]
  },
  {
   "cell_type": "code",
   "execution_count": 14,
   "metadata": {},
   "outputs": [],
   "source": [
    "global_train = global_train.dropna().reset_index(drop = True)"
   ]
  },
  {
   "cell_type": "code",
   "execution_count": 15,
   "metadata": {},
   "outputs": [
    {
     "name": "stdout",
     "output_type": "stream",
     "text": [
      "(2451040, 5) (1079183, 5)\n"
     ]
    }
   ],
   "source": [
    "local_train = global_train.loc[global_train['last_watch_dt'] < local_train_thresh]\n",
    "local_test = global_train.loc[global_train['last_watch_dt'] >= local_train_thresh]\n",
    "\n",
    "print(local_train.shape, local_test.shape)"
   ]
  },
  {
   "cell_type": "code",
   "execution_count": 16,
   "metadata": {},
   "outputs": [
    {
     "name": "stdout",
     "output_type": "stream",
     "text": [
      "(579382, 5)\n"
     ]
    }
   ],
   "source": [
    "# finally, we will focus on warm start -- remove cold start users\n",
    "local_test = local_test.loc[local_test['user_id'].isin(local_train['user_id'].unique())]\n",
    "print(local_test.shape)"
   ]
  },
  {
   "cell_type": "code",
   "execution_count": 17,
   "metadata": {},
   "outputs": [],
   "source": [
    "# init class\n",
    "dataset = Dataset()\n",
    "\n",
    "# fit tuple of user and movie interactions\n",
    "dataset.fit(local_train['user_id'].unique(), local_train['item_id'].unique())"
   ]
  },
  {
   "cell_type": "code",
   "execution_count": 18,
   "metadata": {},
   "outputs": [],
   "source": [
    "# now, we define lightfm mapper to use it later for checks\n",
    "lightfm_mapping = dataset.mapping()\n",
    "# lightfm_mapping"
   ]
  },
  {
   "cell_type": "code",
   "execution_count": 19,
   "metadata": {},
   "outputs": [
    {
     "name": "stdout",
     "output_type": "stream",
     "text": [
      "user mapper length -  539173\n",
      "user features mapper length -  539173\n",
      "movies mapper length -  13006\n",
      "Users movie features mapper length -  13006\n"
     ]
    }
   ],
   "source": [
    "lightfm_mapping = {\n",
    "    'users_mapping': lightfm_mapping[0],\n",
    "    'user_features_mapping': lightfm_mapping[1],\n",
    "    'items_mapping': lightfm_mapping[2],\n",
    "    'item_features_mapping': lightfm_mapping[3],\n",
    "}\n",
    "print('user mapper length - ', len(lightfm_mapping['users_mapping']))\n",
    "print('user features mapper length - ', len(lightfm_mapping['user_features_mapping']))\n",
    "print('movies mapper length - ', len(lightfm_mapping['items_mapping']))\n",
    "print('Users movie features mapper length - ', len(lightfm_mapping['item_features_mapping']))"
   ]
  },
  {
   "cell_type": "code",
   "execution_count": 20,
   "metadata": {},
   "outputs": [],
   "source": [
    "# here we create inverted mappers to check recommendations later\n",
    "lightfm_mapping['users_inv_mapping'] = {v: k for k, v in lightfm_mapping['users_mapping'].items()}\n",
    "lightfm_mapping['items_inv_mapping'] = {v: k for k, v in lightfm_mapping['items_mapping'].items()}"
   ]
  },
  {
   "cell_type": "code",
   "execution_count": 21,
   "metadata": {},
   "outputs": [],
   "source": [
    "# special iterator to use with lightfm\n",
    "def df_to_tuple_iterator(df: pd.DataFrame):\n",
    "    '''\n",
    "    :df: pd.DataFrame, interactions dataframe\n",
    "    returs iterator\n",
    "    '''\n",
    "    return zip(*df.values.T)\n",
    "\n",
    "def concat_last_to_list(t):\n",
    "    return (t[0], list(t[1:])[0])\n",
    "\n",
    "def df_to_tuple_list_iterator(df):\n",
    "    return map(concat_last_to_list, zip(*df.values.T))"
   ]
  },
  {
   "cell_type": "code",
   "execution_count": 22,
   "metadata": {},
   "outputs": [],
   "source": [
    "# defining train set on the whole interactions dataset (as HW you will have to split into test and train for evaluation)\n",
    "train_mat, train_mat_weights = dataset.build_interactions(df_to_tuple_iterator(local_train[['user_id', 'item_id']]))"
   ]
  },
  {
   "cell_type": "code",
   "execution_count": 23,
   "metadata": {},
   "outputs": [
    {
     "data": {
      "text/plain": [
       "<539173x13006 sparse matrix of type '<class 'numpy.int32'>'\n",
       "\twith 2451040 stored elements in COOrdinate format>"
      ]
     },
     "execution_count": 23,
     "metadata": {},
     "output_type": "execute_result"
    }
   ],
   "source": [
    "train_mat"
   ]
  },
  {
   "cell_type": "code",
   "execution_count": 24,
   "metadata": {},
   "outputs": [
    {
     "data": {
      "text/plain": [
       "<539173x13006 sparse matrix of type '<class 'numpy.float32'>'\n",
       "\twith 2451040 stored elements in COOrdinate format>"
      ]
     },
     "execution_count": 24,
     "metadata": {},
     "output_type": "execute_result"
    }
   ],
   "source": [
    "train_mat_weights"
   ]
  },
  {
   "cell_type": "markdown",
   "metadata": {},
   "source": [
    "## 2.4. Train LigthFM model"
   ]
  },
  {
   "cell_type": "code",
   "execution_count": 25,
   "metadata": {},
   "outputs": [],
   "source": [
    "# set params\n",
    "NO_COMPONENTS = 64\n",
    "LEARNING_RATE = .03\n",
    "LOSS = 'warp'\n",
    "MAX_SAMPLED = 5\n",
    "RANDOM_STATE = 42\n",
    "EPOCHS = 20"
   ]
  },
  {
   "cell_type": "code",
   "execution_count": 26,
   "metadata": {},
   "outputs": [],
   "source": [
    "# init model\n",
    "lfm_model = LightFM(\n",
    "    no_components = NO_COMPONENTS,\n",
    "    learning_rate = LEARNING_RATE,\n",
    "    loss = LOSS,\n",
    "    max_sampled = MAX_SAMPLED,\n",
    "    random_state = RANDOM_STATE\n",
    "    )"
   ]
  },
  {
   "cell_type": "code",
   "execution_count": 27,
   "metadata": {},
   "outputs": [
    {
     "data": {
      "application/vnd.jupyter.widget-view+json": {
       "model_id": "1cd72ecc928d47b2aba672d952ca5695",
       "version_major": 2,
       "version_minor": 0
      },
      "text/plain": [
       "  0%|          | 0/20 [00:00<?, ?it/s]"
      ]
     },
     "metadata": {},
     "output_type": "display_data"
    }
   ],
   "source": [
    "# execute training\n",
    "for _ in tqdm_notebook(range(EPOCHS), total = EPOCHS):\n",
    "    lfm_model.fit_partial(\n",
    "        train_mat,\n",
    "        num_threads = 4\n",
    "    )"
   ]
  },
  {
   "cell_type": "code",
   "execution_count": 28,
   "metadata": {},
   "outputs": [
    {
     "name": "stdout",
     "output_type": "stream",
     "text": [
      "Rekko for user 713676, row number in matrix - 62\n"
     ]
    }
   ],
   "source": [
    "# let's make sense-check\n",
    "top_N = 10\n",
    "user_id = local_train['user_id'][100]\n",
    "row_id = lightfm_mapping['users_mapping'][user_id]\n",
    "print(f'Rekko for user {user_id}, row number in matrix - {row_id}')"
   ]
  },
  {
   "cell_type": "code",
   "execution_count": 29,
   "metadata": {},
   "outputs": [
    {
     "data": {
      "text/plain": [
       "13006"
      ]
     },
     "execution_count": 29,
     "metadata": {},
     "output_type": "execute_result"
    }
   ],
   "source": [
    "all_cols = list(lightfm_mapping['items_mapping'].values())\n",
    "len(all_cols)"
   ]
  },
  {
   "cell_type": "code",
   "execution_count": 30,
   "metadata": {},
   "outputs": [
    {
     "data": {
      "text/plain": [
       "(array([ 2.2222135,  1.4464369, -1.9280975, ..., -2.1294303, -1.9549031,\n",
       "        -2.0654202], dtype=float32),\n",
       " (13006,))"
      ]
     },
     "execution_count": 30,
     "metadata": {},
     "output_type": "execute_result"
    }
   ],
   "source": [
    "pred = lfm_model.predict(\n",
    "    row_id,\n",
    "    all_cols,\n",
    "    num_threads = 4)\n",
    "pred, pred.shape"
   ]
  },
  {
   "cell_type": "code",
   "execution_count": 31,
   "metadata": {},
   "outputs": [
    {
     "data": {
      "text/plain": [
       "array([ 87,   5, 298, 506, 435, 302,  20, 168, 146, 675])"
      ]
     },
     "execution_count": 31,
     "metadata": {},
     "output_type": "execute_result"
    }
   ],
   "source": [
    "top_cols = np.argpartition(pred, -np.arange(top_N))[-top_N:][::-1]\n",
    "top_cols"
   ]
  },
  {
   "cell_type": "code",
   "execution_count": 32,
   "metadata": {},
   "outputs": [],
   "source": [
    "# crate mapper for movieId and title names\n",
    "item_name_mapper = dict(zip(movies_metadata['item_id'], movies_metadata['title']))"
   ]
  },
  {
   "cell_type": "code",
   "execution_count": 33,
   "metadata": {},
   "outputs": [
    {
     "data": {
      "text/html": [
       "<div>\n",
       "<style scoped>\n",
       "    .dataframe tbody tr th:only-of-type {\n",
       "        vertical-align: middle;\n",
       "    }\n",
       "\n",
       "    .dataframe tbody tr th {\n",
       "        vertical-align: top;\n",
       "    }\n",
       "\n",
       "    .dataframe thead th {\n",
       "        text-align: right;\n",
       "    }\n",
       "</style>\n",
       "<table border=\"1\" class=\"dataframe\">\n",
       "  <thead>\n",
       "    <tr style=\"text-align: right;\">\n",
       "      <th></th>\n",
       "      <th>col_id</th>\n",
       "      <th>item_id</th>\n",
       "      <th>title</th>\n",
       "    </tr>\n",
       "  </thead>\n",
       "  <tbody>\n",
       "    <tr>\n",
       "      <th>0</th>\n",
       "      <td>87</td>\n",
       "      <td>16166</td>\n",
       "      <td>Зверополис</td>\n",
       "    </tr>\n",
       "    <tr>\n",
       "      <th>1</th>\n",
       "      <td>5</td>\n",
       "      <td>7571</td>\n",
       "      <td>100% волк</td>\n",
       "    </tr>\n",
       "    <tr>\n",
       "      <th>2</th>\n",
       "      <td>298</td>\n",
       "      <td>13915</td>\n",
       "      <td>Вперёд</td>\n",
       "    </tr>\n",
       "    <tr>\n",
       "      <th>3</th>\n",
       "      <td>506</td>\n",
       "      <td>10761</td>\n",
       "      <td>Моана</td>\n",
       "    </tr>\n",
       "    <tr>\n",
       "      <th>4</th>\n",
       "      <td>435</td>\n",
       "      <td>13018</td>\n",
       "      <td>Король лев (2019)</td>\n",
       "    </tr>\n",
       "    <tr>\n",
       "      <th>5</th>\n",
       "      <td>302</td>\n",
       "      <td>12173</td>\n",
       "      <td>Мстители: Финал</td>\n",
       "    </tr>\n",
       "    <tr>\n",
       "      <th>6</th>\n",
       "      <td>20</td>\n",
       "      <td>7626</td>\n",
       "      <td>Мстители: Война бесконечности</td>\n",
       "    </tr>\n",
       "    <tr>\n",
       "      <th>7</th>\n",
       "      <td>168</td>\n",
       "      <td>3182</td>\n",
       "      <td>Ральф против Интернета</td>\n",
       "    </tr>\n",
       "    <tr>\n",
       "      <th>8</th>\n",
       "      <td>146</td>\n",
       "      <td>11310</td>\n",
       "      <td>Аладдин</td>\n",
       "    </tr>\n",
       "    <tr>\n",
       "      <th>9</th>\n",
       "      <td>675</td>\n",
       "      <td>13159</td>\n",
       "      <td>Рататуй</td>\n",
       "    </tr>\n",
       "  </tbody>\n",
       "</table>\n",
       "</div>"
      ],
      "text/plain": [
       "   col_id  item_id                          title\n",
       "0      87    16166                     Зверополис\n",
       "1       5     7571                      100% волк\n",
       "2     298    13915                         Вперёд\n",
       "3     506    10761                          Моана\n",
       "4     435    13018              Король лев (2019)\n",
       "5     302    12173                Мстители: Финал\n",
       "6      20     7626  Мстители: Война бесконечности\n",
       "7     168     3182         Ральф против Интернета\n",
       "8     146    11310                        Аладдин\n",
       "9     675    13159                        Рататуй"
      ]
     },
     "execution_count": 33,
     "metadata": {},
     "output_type": "execute_result"
    }
   ],
   "source": [
    "recs = pd.DataFrame({'col_id': top_cols})\n",
    "recs['item_id'] = recs['col_id'].map(lightfm_mapping['items_inv_mapping'].get)\n",
    "recs['title'] = recs['item_id'].map(item_name_mapper)\n",
    "recs"
   ]
  },
  {
   "cell_type": "code",
   "execution_count": 34,
   "metadata": {},
   "outputs": [
    {
     "name": "stdout",
     "output_type": "stream",
     "text": [
      "Rekko for user 869219, row number in matrix - 675\n"
     ]
    }
   ],
   "source": [
    "# let's make sense-check\n",
    "top_N = 10\n",
    "user_id = local_train['user_id'][1000]\n",
    "row_id = lightfm_mapping['users_mapping'][user_id]\n",
    "print(f'Rekko for user {user_id}, row number in matrix - {row_id}')"
   ]
  },
  {
   "cell_type": "code",
   "execution_count": 35,
   "metadata": {},
   "outputs": [
    {
     "data": {
      "text/plain": [
       "(array([-0.19702657, -0.38245714, -2.658608  , ..., -3.2753859 ,\n",
       "        -3.0609252 , -2.8367202 ], dtype=float32),\n",
       " (13006,))"
      ]
     },
     "execution_count": 35,
     "metadata": {},
     "output_type": "execute_result"
    }
   ],
   "source": [
    "pred = lfm_model.predict(\n",
    "    row_id,\n",
    "    all_cols,\n",
    "    num_threads = 4)\n",
    "pred, pred.shape\n"
   ]
  },
  {
   "cell_type": "code",
   "execution_count": 36,
   "metadata": {},
   "outputs": [
    {
     "data": {
      "text/plain": [
       "array([ 222,  682,   52,  207,  962,  333, 2935, 2059,  306, 5235])"
      ]
     },
     "execution_count": 36,
     "metadata": {},
     "output_type": "execute_result"
    }
   ],
   "source": [
    "top_cols = np.argpartition(pred, -np.arange(top_N))[-top_N:][::-1]\n",
    "top_cols"
   ]
  },
  {
   "cell_type": "code",
   "execution_count": 37,
   "metadata": {},
   "outputs": [
    {
     "data": {
      "text/html": [
       "<div>\n",
       "<style scoped>\n",
       "    .dataframe tbody tr th:only-of-type {\n",
       "        vertical-align: middle;\n",
       "    }\n",
       "\n",
       "    .dataframe tbody tr th {\n",
       "        vertical-align: top;\n",
       "    }\n",
       "\n",
       "    .dataframe thead th {\n",
       "        text-align: right;\n",
       "    }\n",
       "</style>\n",
       "<table border=\"1\" class=\"dataframe\">\n",
       "  <thead>\n",
       "    <tr style=\"text-align: right;\">\n",
       "      <th></th>\n",
       "      <th>col_id</th>\n",
       "      <th>item_id</th>\n",
       "      <th>title</th>\n",
       "    </tr>\n",
       "  </thead>\n",
       "  <tbody>\n",
       "    <tr>\n",
       "      <th>0</th>\n",
       "      <td>222</td>\n",
       "      <td>676</td>\n",
       "      <td>Человек-невидимка</td>\n",
       "    </tr>\n",
       "    <tr>\n",
       "      <th>1</th>\n",
       "      <td>682</td>\n",
       "      <td>16361</td>\n",
       "      <td>Doom: Аннигиляция</td>\n",
       "    </tr>\n",
       "    <tr>\n",
       "      <th>2</th>\n",
       "      <td>52</td>\n",
       "      <td>2647</td>\n",
       "      <td>Идеальный пациент</td>\n",
       "    </tr>\n",
       "    <tr>\n",
       "      <th>3</th>\n",
       "      <td>207</td>\n",
       "      <td>11143</td>\n",
       "      <td>На пятьдесят оттенков темнее</td>\n",
       "    </tr>\n",
       "    <tr>\n",
       "      <th>4</th>\n",
       "      <td>962</td>\n",
       "      <td>9335</td>\n",
       "      <td>Подводная братва</td>\n",
       "    </tr>\n",
       "    <tr>\n",
       "      <th>5</th>\n",
       "      <td>333</td>\n",
       "      <td>4141</td>\n",
       "      <td>Пятьдесят оттенков серого</td>\n",
       "    </tr>\n",
       "    <tr>\n",
       "      <th>6</th>\n",
       "      <td>2935</td>\n",
       "      <td>1090</td>\n",
       "      <td>Нерождённый</td>\n",
       "    </tr>\n",
       "    <tr>\n",
       "      <th>7</th>\n",
       "      <td>2059</td>\n",
       "      <td>10647</td>\n",
       "      <td>Винчестер. Дом, который построили призраки</td>\n",
       "    </tr>\n",
       "    <tr>\n",
       "      <th>8</th>\n",
       "      <td>306</td>\n",
       "      <td>9169</td>\n",
       "      <td>Взаперти</td>\n",
       "    </tr>\n",
       "    <tr>\n",
       "      <th>9</th>\n",
       "      <td>5235</td>\n",
       "      <td>13948</td>\n",
       "      <td>Смерть ей к лицу</td>\n",
       "    </tr>\n",
       "  </tbody>\n",
       "</table>\n",
       "</div>"
      ],
      "text/plain": [
       "   col_id  item_id                                       title\n",
       "0     222      676                           Человек-невидимка\n",
       "1     682    16361                           Doom: Аннигиляция\n",
       "2      52     2647                           Идеальный пациент\n",
       "3     207    11143                На пятьдесят оттенков темнее\n",
       "4     962     9335                            Подводная братва\n",
       "5     333     4141                   Пятьдесят оттенков серого\n",
       "6    2935     1090                                 Нерождённый\n",
       "7    2059    10647  Винчестер. Дом, который построили призраки\n",
       "8     306     9169                                    Взаперти\n",
       "9    5235    13948                            Смерть ей к лицу"
      ]
     },
     "execution_count": 37,
     "metadata": {},
     "output_type": "execute_result"
    }
   ],
   "source": [
    "recs = pd.DataFrame({'col_id': top_cols})\n",
    "recs['item_id'] = recs['col_id'].map(lightfm_mapping['items_inv_mapping'].get)\n",
    "recs['title'] = recs['item_id'].map(item_name_mapper)\n",
    "recs"
   ]
  },
  {
   "cell_type": "code",
   "execution_count": 38,
   "metadata": {},
   "outputs": [
    {
     "data": {
      "text/plain": [
       "144739"
      ]
     },
     "execution_count": 38,
     "metadata": {},
     "output_type": "execute_result"
    }
   ],
   "source": [
    "# let's make predictions for all users in test\n",
    "test_preds = pd.DataFrame({\n",
    "    'user_id': local_test['user_id'].unique()\n",
    "})\n",
    "len(test_preds)"
   ]
  },
  {
   "cell_type": "code",
   "execution_count": 39,
   "metadata": {},
   "outputs": [],
   "source": [
    "# all_recs = pd.DataFrame()\n",
    "# for user in tqdm_notebook(users_mapping.keys()):\n",
    "#     row_id = users_mapping[user]\n",
    "#     pred = lfm_model.predict(\n",
    "#         row_id,\n",
    "#         all_cols,\n",
    "#         num_threads = 4)\n",
    "#     top_cols = np.argpartition(pred, -np.arange(top_N))[-top_N:][::-1]\n",
    "#     user_recs = pd.DataFrame({'col_id': top_cols})\n",
    "#     user_recs['item_id'] = user_recs['col_id'].map(lightfm_mapping['items_inv_mapping'].get)\n",
    "#     user_recs['title'] = user_recs['item_id'].map(item_name_mapper)\n",
    "\n",
    "#     all_recs = pd.concat([all_recs, user_recs], ignore_index = True)"
   ]
  },
  {
   "cell_type": "code",
   "execution_count": 40,
   "metadata": {},
   "outputs": [],
   "source": [
    "def generate_lightfm_recs_mapper(\n",
    "        model: object,\n",
    "        item_ids: list,\n",
    "        known_items: dict,\n",
    "        user_features: list,\n",
    "        item_features: list,\n",
    "        N: int,\n",
    "        user_mapping: dict,\n",
    "        item_inv_mapping: dict,\n",
    "        num_threads: int = 4\n",
    "        ):\n",
    "    def _recs_mapper(user):\n",
    "        user_id = user_mapping[user]\n",
    "        recs = model.predict(\n",
    "            user_id,\n",
    "            item_ids,\n",
    "            user_features = user_features,\n",
    "            item_features = item_features,\n",
    "            num_threads = num_threads)\n",
    "        \n",
    "        additional_N = len(known_items[user_id]) if user_id in known_items else 0\n",
    "        total_N = N + additional_N\n",
    "        top_cols = np.argpartition(recs, -np.arange(total_N))[-total_N:][::-1]\n",
    "        \n",
    "        final_recs = [item_inv_mapping[item] for item in top_cols]\n",
    "        if additional_N > 0:\n",
    "            filter_items = known_items[user_id]\n",
    "            final_recs = [item for item in final_recs if item not in filter_items]\n",
    "        return final_recs[:N]\n",
    "    return _recs_mapper"
   ]
  },
  {
   "cell_type": "code",
   "execution_count": 41,
   "metadata": {},
   "outputs": [],
   "source": [
    "mapper = generate_lightfm_recs_mapper(\n",
    "    lfm_model, \n",
    "    item_ids = all_cols, \n",
    "    known_items = dict(),\n",
    "    N = top_N,\n",
    "    user_features = None, \n",
    "    item_features = None, \n",
    "    user_mapping = lightfm_mapping['users_mapping'],\n",
    "    item_inv_mapping = lightfm_mapping['items_inv_mapping'],\n",
    "    num_threads = 20\n",
    ")"
   ]
  },
  {
   "cell_type": "code",
   "execution_count": 42,
   "metadata": {},
   "outputs": [],
   "source": [
    "test_preds['item_id'] = test_preds['user_id'].map(mapper)"
   ]
  },
  {
   "cell_type": "code",
   "execution_count": 43,
   "metadata": {},
   "outputs": [
    {
     "data": {
      "text/plain": [
       "(1447390, 2)"
      ]
     },
     "execution_count": 43,
     "metadata": {},
     "output_type": "execute_result"
    }
   ],
   "source": [
    "test_preds = test_preds.explode('item_id')\n",
    "test_preds.shape"
   ]
  },
  {
   "cell_type": "code",
   "execution_count": 44,
   "metadata": {},
   "outputs": [],
   "source": [
    "test_preds['rank'] = test_preds.groupby('user_id').cumcount() + 1 "
   ]
  },
  {
   "cell_type": "code",
   "execution_count": 45,
   "metadata": {},
   "outputs": [
    {
     "data": {
      "text/html": [
       "<div>\n",
       "<style scoped>\n",
       "    .dataframe tbody tr th:only-of-type {\n",
       "        vertical-align: middle;\n",
       "    }\n",
       "\n",
       "    .dataframe tbody tr th {\n",
       "        vertical-align: top;\n",
       "    }\n",
       "\n",
       "    .dataframe thead th {\n",
       "        text-align: right;\n",
       "    }\n",
       "</style>\n",
       "<table border=\"1\" class=\"dataframe\">\n",
       "  <thead>\n",
       "    <tr style=\"text-align: right;\">\n",
       "      <th></th>\n",
       "      <th>user_id</th>\n",
       "      <th>item_id</th>\n",
       "      <th>rank</th>\n",
       "    </tr>\n",
       "  </thead>\n",
       "  <tbody>\n",
       "    <tr>\n",
       "      <th>0</th>\n",
       "      <td>646903</td>\n",
       "      <td>10440</td>\n",
       "      <td>1</td>\n",
       "    </tr>\n",
       "    <tr>\n",
       "      <th>0</th>\n",
       "      <td>646903</td>\n",
       "      <td>14741</td>\n",
       "      <td>2</td>\n",
       "    </tr>\n",
       "    <tr>\n",
       "      <th>0</th>\n",
       "      <td>646903</td>\n",
       "      <td>16361</td>\n",
       "      <td>3</td>\n",
       "    </tr>\n",
       "    <tr>\n",
       "      <th>0</th>\n",
       "      <td>646903</td>\n",
       "      <td>9728</td>\n",
       "      <td>4</td>\n",
       "    </tr>\n",
       "    <tr>\n",
       "      <th>0</th>\n",
       "      <td>646903</td>\n",
       "      <td>9169</td>\n",
       "      <td>5</td>\n",
       "    </tr>\n",
       "  </tbody>\n",
       "</table>\n",
       "</div>"
      ],
      "text/plain": [
       "   user_id item_id  rank\n",
       "0   646903   10440     1\n",
       "0   646903   14741     2\n",
       "0   646903   16361     3\n",
       "0   646903    9728     4\n",
       "0   646903    9169     5"
      ]
     },
     "execution_count": 45,
     "metadata": {},
     "output_type": "execute_result"
    }
   ],
   "source": [
    "test_preds.head()"
   ]
  },
  {
   "cell_type": "code",
   "execution_count": 46,
   "metadata": {},
   "outputs": [
    {
     "data": {
      "text/html": [
       "<div>\n",
       "<style scoped>\n",
       "    .dataframe tbody tr th:only-of-type {\n",
       "        vertical-align: middle;\n",
       "    }\n",
       "\n",
       "    .dataframe tbody tr th {\n",
       "        vertical-align: top;\n",
       "    }\n",
       "\n",
       "    .dataframe thead th {\n",
       "        text-align: right;\n",
       "    }\n",
       "</style>\n",
       "<table border=\"1\" class=\"dataframe\">\n",
       "  <thead>\n",
       "    <tr style=\"text-align: right;\">\n",
       "      <th></th>\n",
       "      <th>user_id</th>\n",
       "      <th>item_id</th>\n",
       "      <th>rank</th>\n",
       "      <th>item_name</th>\n",
       "    </tr>\n",
       "  </thead>\n",
       "  <tbody>\n",
       "    <tr>\n",
       "      <th>0</th>\n",
       "      <td>646903</td>\n",
       "      <td>10440</td>\n",
       "      <td>1</td>\n",
       "      <td>Хрустальный</td>\n",
       "    </tr>\n",
       "    <tr>\n",
       "      <th>0</th>\n",
       "      <td>646903</td>\n",
       "      <td>14741</td>\n",
       "      <td>2</td>\n",
       "      <td>Цвет из иных миров</td>\n",
       "    </tr>\n",
       "    <tr>\n",
       "      <th>0</th>\n",
       "      <td>646903</td>\n",
       "      <td>16361</td>\n",
       "      <td>3</td>\n",
       "      <td>Doom: Аннигиляция</td>\n",
       "    </tr>\n",
       "    <tr>\n",
       "      <th>0</th>\n",
       "      <td>646903</td>\n",
       "      <td>9728</td>\n",
       "      <td>4</td>\n",
       "      <td>Гнев человеческий</td>\n",
       "    </tr>\n",
       "    <tr>\n",
       "      <th>0</th>\n",
       "      <td>646903</td>\n",
       "      <td>9169</td>\n",
       "      <td>5</td>\n",
       "      <td>Взаперти</td>\n",
       "    </tr>\n",
       "  </tbody>\n",
       "</table>\n",
       "</div>"
      ],
      "text/plain": [
       "   user_id item_id  rank           item_name\n",
       "0   646903   10440     1         Хрустальный\n",
       "0   646903   14741     2  Цвет из иных миров\n",
       "0   646903   16361     3   Doom: Аннигиляция\n",
       "0   646903    9728     4   Гнев человеческий\n",
       "0   646903    9169     5            Взаперти"
      ]
     },
     "execution_count": 46,
     "metadata": {},
     "output_type": "execute_result"
    }
   ],
   "source": [
    "test_preds['item_name'] = test_preds['item_id'].map(item_name_mapper)\n",
    "test_preds.head()"
   ]
  },
  {
   "cell_type": "code",
   "execution_count": 47,
   "metadata": {},
   "outputs": [
    {
     "data": {
      "text/plain": [
       "1739"
      ]
     },
     "execution_count": 47,
     "metadata": {},
     "output_type": "execute_result"
    }
   ],
   "source": [
    "# sense check for diversity of recommendations\n",
    "test_preds.item_id.nunique()"
   ]
  },
  {
   "cell_type": "markdown",
   "metadata": {},
   "source": [
    "## 2.5. CatBoostClassifier"
   ]
  },
  {
   "cell_type": "markdown",
   "metadata": {},
   "source": [
    "### 2.5.1. Data Preparation"
   ]
  },
  {
   "cell_type": "markdown",
   "metadata": {},
   "source": [
    "Now, we need to creat 0/1 as indication of interaction:\n",
    "\n",
    "- positive event -- 1, if watch_pct is not null;\n",
    "- negative venet -- 0 otherwise"
   ]
  },
  {
   "cell_type": "code",
   "execution_count": 48,
   "metadata": {},
   "outputs": [
    {
     "data": {
      "text/plain": [
       "(77563, 8)"
      ]
     },
     "execution_count": 48,
     "metadata": {},
     "output_type": "execute_result"
    }
   ],
   "source": [
    "positive_preds = pd.merge(test_preds, local_test, how = 'inner', on = ['user_id', 'item_id'])\n",
    "positive_preds['target'] = 1\n",
    "positive_preds.shape"
   ]
  },
  {
   "cell_type": "code",
   "execution_count": 49,
   "metadata": {},
   "outputs": [
    {
     "data": {
      "text/plain": [
       "(273965, 8)"
      ]
     },
     "execution_count": 49,
     "metadata": {},
     "output_type": "execute_result"
    }
   ],
   "source": [
    "negative_preds = pd.merge(test_preds, local_test, how = 'left', on = ['user_id', 'item_id'])\n",
    "negative_preds = negative_preds.loc[negative_preds['watched_pct'].isnull()].sample(frac = .2)\n",
    "negative_preds['target'] = 0\n",
    "negative_preds.shape"
   ]
  },
  {
   "cell_type": "code",
   "execution_count": 50,
   "metadata": {},
   "outputs": [],
   "source": [
    "# random split to train ranker\n",
    "train_users, test_users = train_test_split(\n",
    "    local_test['user_id'].unique(),\n",
    "    test_size = .2,\n",
    "    random_state = 13\n",
    "    )"
   ]
  },
  {
   "cell_type": "code",
   "execution_count": 51,
   "metadata": {},
   "outputs": [],
   "source": [
    "cbm_train_set = shuffle(\n",
    "    pd.concat(\n",
    "    [positive_preds.loc[positive_preds['user_id'].isin(train_users)],\n",
    "    negative_preds.loc[negative_preds['user_id'].isin(train_users)]]\n",
    "    )\n",
    ")"
   ]
  },
  {
   "cell_type": "code",
   "execution_count": 52,
   "metadata": {},
   "outputs": [],
   "source": [
    "cbm_test_set = shuffle(\n",
    "    pd.concat(\n",
    "    [positive_preds.loc[positive_preds['user_id'].isin(test_users)],\n",
    "    negative_preds.loc[negative_preds['user_id'].isin(test_users)]]\n",
    "    )\n",
    ")"
   ]
  },
  {
   "cell_type": "code",
   "execution_count": 53,
   "metadata": {},
   "outputs": [
    {
     "name": "stdout",
     "output_type": "stream",
     "text": [
      "TRAIN:           user_id       rank   total_dur  watched_pct     target\n",
      "count  281029.000 281029.000   61862.000    61862.000 281029.000\n",
      "mean   548112.626      5.293   18601.904       65.298      0.220\n",
      "std    316258.260      2.885   39027.982       36.848      0.414\n",
      "min        11.000      1.000     301.000        0.000      0.000\n",
      "25%    274506.000      3.000    4006.250       25.000      0.000\n",
      "50%    547769.000      5.000    7802.000       80.000      0.000\n",
      "75%    820938.000      8.000   22667.750      100.000      0.000\n",
      "max   1097528.000     10.000 3127021.000      100.000      1.000 \n",
      ", TEST:           user_id      rank   total_dur  watched_pct    target\n",
      "count   70499.000 70499.000   15701.000    15701.000 70499.000\n",
      "mean   546913.356     5.292   19211.613       64.979     0.223\n",
      "std    317608.040     2.886   37892.571       36.952     0.416\n",
      "min       166.000     1.000     301.000        0.000     0.000\n",
      "25%    269951.000     3.000    3875.000       25.000     0.000\n",
      "50%    548020.000     5.000    7764.000       80.000     0.000\n",
      "75%    823236.000     8.000   22922.000      100.000     0.000\n",
      "max   1097465.000    10.000 1083250.000      100.000     1.000\n"
     ]
    }
   ],
   "source": [
    "print(f'TRAIN: {cbm_train_set.describe()} \\n, TEST: {cbm_test_set.describe()}')"
   ]
  },
  {
   "cell_type": "code",
   "execution_count": 54,
   "metadata": {},
   "outputs": [],
   "source": [
    "# in this tutorial, I will not do any feature aggregation - use default ones from data\n",
    "USER_FEATURES = ['age', 'income', 'sex', 'kids_flg']\n",
    "ITEM_FEATURES = ['content_type', 'release_year', 'for_kids', 'age_rating']"
   ]
  },
  {
   "cell_type": "code",
   "execution_count": 55,
   "metadata": {},
   "outputs": [],
   "source": [
    "# joins user features\n",
    "cbm_train_set = pd.merge(cbm_train_set, users_data[['user_id'] + USER_FEATURES],\n",
    "                         how = 'left', on = ['user_id'])\n",
    "cbm_test_set = pd.merge(cbm_test_set, users_data[['user_id'] + USER_FEATURES],\n",
    "                        how = 'left', on = ['user_id'])\n"
   ]
  },
  {
   "cell_type": "code",
   "execution_count": 56,
   "metadata": {},
   "outputs": [],
   "source": [
    "# joins item features\n",
    "cbm_train_set = pd.merge(cbm_train_set, movies_metadata[['item_id'] + ITEM_FEATURES],\n",
    "                         how = 'left', on = ['item_id'])\n",
    "cbm_test_set = pd.merge(cbm_test_set, movies_metadata[['item_id'] + ITEM_FEATURES],\n",
    "                        how = 'left', on = ['item_id'])\n"
   ]
  },
  {
   "cell_type": "code",
   "execution_count": 57,
   "metadata": {},
   "outputs": [
    {
     "name": "stdout",
     "output_type": "stream",
     "text": [
      "(281029, 16) (70499, 16)\n"
     ]
    }
   ],
   "source": [
    "print(cbm_train_set.shape, cbm_test_set.shape)"
   ]
  },
  {
   "cell_type": "code",
   "execution_count": 58,
   "metadata": {},
   "outputs": [
    {
     "data": {
      "text/html": [
       "<div>\n",
       "<style scoped>\n",
       "    .dataframe tbody tr th:only-of-type {\n",
       "        vertical-align: middle;\n",
       "    }\n",
       "\n",
       "    .dataframe tbody tr th {\n",
       "        vertical-align: top;\n",
       "    }\n",
       "\n",
       "    .dataframe thead th {\n",
       "        text-align: right;\n",
       "    }\n",
       "</style>\n",
       "<table border=\"1\" class=\"dataframe\">\n",
       "  <thead>\n",
       "    <tr style=\"text-align: right;\">\n",
       "      <th></th>\n",
       "      <th>user_id</th>\n",
       "      <th>item_id</th>\n",
       "      <th>rank</th>\n",
       "      <th>item_name</th>\n",
       "      <th>last_watch_dt</th>\n",
       "      <th>total_dur</th>\n",
       "      <th>watched_pct</th>\n",
       "      <th>target</th>\n",
       "      <th>age</th>\n",
       "      <th>income</th>\n",
       "      <th>sex</th>\n",
       "      <th>kids_flg</th>\n",
       "      <th>content_type</th>\n",
       "      <th>release_year</th>\n",
       "      <th>for_kids</th>\n",
       "      <th>age_rating</th>\n",
       "    </tr>\n",
       "  </thead>\n",
       "  <tbody>\n",
       "    <tr>\n",
       "      <th>0</th>\n",
       "      <td>842990</td>\n",
       "      <td>4151</td>\n",
       "      <td>3</td>\n",
       "      <td>Секреты семейной жизни</td>\n",
       "      <td>NaT</td>\n",
       "      <td>NaN</td>\n",
       "      <td>NaN</td>\n",
       "      <td>0</td>\n",
       "      <td>age_25_34</td>\n",
       "      <td>income_20_40</td>\n",
       "      <td>Ж</td>\n",
       "      <td>0.000</td>\n",
       "      <td>series</td>\n",
       "      <td>2021.000</td>\n",
       "      <td>NaN</td>\n",
       "      <td>18.000</td>\n",
       "    </tr>\n",
       "    <tr>\n",
       "      <th>1</th>\n",
       "      <td>565806</td>\n",
       "      <td>13865</td>\n",
       "      <td>2</td>\n",
       "      <td>Девятаев</td>\n",
       "      <td>NaT</td>\n",
       "      <td>NaN</td>\n",
       "      <td>NaN</td>\n",
       "      <td>0</td>\n",
       "      <td>age_25_34</td>\n",
       "      <td>income_20_40</td>\n",
       "      <td>Ж</td>\n",
       "      <td>1.000</td>\n",
       "      <td>film</td>\n",
       "      <td>2021.000</td>\n",
       "      <td>NaN</td>\n",
       "      <td>12.000</td>\n",
       "    </tr>\n",
       "    <tr>\n",
       "      <th>2</th>\n",
       "      <td>307833</td>\n",
       "      <td>15297</td>\n",
       "      <td>1</td>\n",
       "      <td>Клиника счастья</td>\n",
       "      <td>2021-07-30</td>\n",
       "      <td>29128.000</td>\n",
       "      <td>100.000</td>\n",
       "      <td>1</td>\n",
       "      <td>age_35_44</td>\n",
       "      <td>income_40_60</td>\n",
       "      <td>Ж</td>\n",
       "      <td>1.000</td>\n",
       "      <td>series</td>\n",
       "      <td>2021.000</td>\n",
       "      <td>NaN</td>\n",
       "      <td>18.000</td>\n",
       "    </tr>\n",
       "    <tr>\n",
       "      <th>3</th>\n",
       "      <td>971750</td>\n",
       "      <td>15297</td>\n",
       "      <td>2</td>\n",
       "      <td>Клиника счастья</td>\n",
       "      <td>NaT</td>\n",
       "      <td>NaN</td>\n",
       "      <td>NaN</td>\n",
       "      <td>0</td>\n",
       "      <td>age_45_54</td>\n",
       "      <td>income_40_60</td>\n",
       "      <td>М</td>\n",
       "      <td>0.000</td>\n",
       "      <td>series</td>\n",
       "      <td>2021.000</td>\n",
       "      <td>NaN</td>\n",
       "      <td>18.000</td>\n",
       "    </tr>\n",
       "    <tr>\n",
       "      <th>4</th>\n",
       "      <td>650949</td>\n",
       "      <td>3071</td>\n",
       "      <td>2</td>\n",
       "      <td>Родные</td>\n",
       "      <td>NaT</td>\n",
       "      <td>NaN</td>\n",
       "      <td>NaN</td>\n",
       "      <td>0</td>\n",
       "      <td>age_35_44</td>\n",
       "      <td>income_60_90</td>\n",
       "      <td>М</td>\n",
       "      <td>0.000</td>\n",
       "      <td>film</td>\n",
       "      <td>2021.000</td>\n",
       "      <td>0.000</td>\n",
       "      <td>12.000</td>\n",
       "    </tr>\n",
       "  </tbody>\n",
       "</table>\n",
       "</div>"
      ],
      "text/plain": [
       "   user_id item_id  rank               item_name last_watch_dt  total_dur  \\\n",
       "0   842990    4151     3  Секреты семейной жизни           NaT        NaN   \n",
       "1   565806   13865     2                Девятаев           NaT        NaN   \n",
       "2   307833   15297     1         Клиника счастья    2021-07-30  29128.000   \n",
       "3   971750   15297     2         Клиника счастья           NaT        NaN   \n",
       "4   650949    3071     2                  Родные           NaT        NaN   \n",
       "\n",
       "   watched_pct  target        age        income sex  kids_flg content_type  \\\n",
       "0          NaN       0  age_25_34  income_20_40   Ж     0.000       series   \n",
       "1          NaN       0  age_25_34  income_20_40   Ж     1.000         film   \n",
       "2      100.000       1  age_35_44  income_40_60   Ж     1.000       series   \n",
       "3          NaN       0  age_45_54  income_40_60   М     0.000       series   \n",
       "4          NaN       0  age_35_44  income_60_90   М     0.000         film   \n",
       "\n",
       "   release_year  for_kids  age_rating  \n",
       "0      2021.000       NaN      18.000  \n",
       "1      2021.000       NaN      12.000  \n",
       "2      2021.000       NaN      18.000  \n",
       "3      2021.000       NaN      18.000  \n",
       "4      2021.000     0.000      12.000  "
      ]
     },
     "execution_count": 58,
     "metadata": {},
     "output_type": "execute_result"
    }
   ],
   "source": [
    "cbm_train_set.head()"
   ]
  },
  {
   "cell_type": "code",
   "execution_count": 59,
   "metadata": {},
   "outputs": [],
   "source": [
    "ID_COLS = ['user_id', 'item_id']\n",
    "TARGET = ['target']\n",
    "CATEGORICAL_COLS = ['age', 'income', 'sex', 'content_type']\n",
    "DROP_COLS = ['item_name', 'last_watch_dt', 'watched_pct', 'total_dur']"
   ]
  },
  {
   "cell_type": "code",
   "execution_count": 60,
   "metadata": {},
   "outputs": [
    {
     "name": "stdout",
     "output_type": "stream",
     "text": [
      "(281029, 9) (70499, 9)\n"
     ]
    }
   ],
   "source": [
    "X_train, y_train = cbm_train_set.drop(ID_COLS + DROP_COLS + TARGET, axis = 1), cbm_train_set[TARGET]\n",
    "X_test, y_test = cbm_test_set.drop(ID_COLS + DROP_COLS + TARGET, axis = 1), cbm_test_set[TARGET]\n",
    "print(X_train.shape, X_test.shape)"
   ]
  },
  {
   "cell_type": "code",
   "execution_count": 61,
   "metadata": {},
   "outputs": [
    {
     "data": {
      "text/html": [
       "<div>\n",
       "<style scoped>\n",
       "    .dataframe tbody tr th:only-of-type {\n",
       "        vertical-align: middle;\n",
       "    }\n",
       "\n",
       "    .dataframe tbody tr th {\n",
       "        vertical-align: top;\n",
       "    }\n",
       "\n",
       "    .dataframe thead th {\n",
       "        text-align: right;\n",
       "    }\n",
       "</style>\n",
       "<table border=\"1\" class=\"dataframe\">\n",
       "  <thead>\n",
       "    <tr style=\"text-align: right;\">\n",
       "      <th></th>\n",
       "      <th>rank</th>\n",
       "      <th>age</th>\n",
       "      <th>income</th>\n",
       "      <th>sex</th>\n",
       "      <th>kids_flg</th>\n",
       "      <th>content_type</th>\n",
       "      <th>release_year</th>\n",
       "      <th>for_kids</th>\n",
       "      <th>age_rating</th>\n",
       "    </tr>\n",
       "  </thead>\n",
       "  <tbody>\n",
       "    <tr>\n",
       "      <th>0</th>\n",
       "      <td>3</td>\n",
       "      <td>age_25_34</td>\n",
       "      <td>income_20_40</td>\n",
       "      <td>Ж</td>\n",
       "      <td>0.000</td>\n",
       "      <td>series</td>\n",
       "      <td>2021.000</td>\n",
       "      <td>NaN</td>\n",
       "      <td>18.000</td>\n",
       "    </tr>\n",
       "    <tr>\n",
       "      <th>1</th>\n",
       "      <td>2</td>\n",
       "      <td>age_25_34</td>\n",
       "      <td>income_20_40</td>\n",
       "      <td>Ж</td>\n",
       "      <td>1.000</td>\n",
       "      <td>film</td>\n",
       "      <td>2021.000</td>\n",
       "      <td>NaN</td>\n",
       "      <td>12.000</td>\n",
       "    </tr>\n",
       "    <tr>\n",
       "      <th>2</th>\n",
       "      <td>1</td>\n",
       "      <td>age_35_44</td>\n",
       "      <td>income_40_60</td>\n",
       "      <td>Ж</td>\n",
       "      <td>1.000</td>\n",
       "      <td>series</td>\n",
       "      <td>2021.000</td>\n",
       "      <td>NaN</td>\n",
       "      <td>18.000</td>\n",
       "    </tr>\n",
       "    <tr>\n",
       "      <th>3</th>\n",
       "      <td>2</td>\n",
       "      <td>age_45_54</td>\n",
       "      <td>income_40_60</td>\n",
       "      <td>М</td>\n",
       "      <td>0.000</td>\n",
       "      <td>series</td>\n",
       "      <td>2021.000</td>\n",
       "      <td>NaN</td>\n",
       "      <td>18.000</td>\n",
       "    </tr>\n",
       "    <tr>\n",
       "      <th>4</th>\n",
       "      <td>2</td>\n",
       "      <td>age_35_44</td>\n",
       "      <td>income_60_90</td>\n",
       "      <td>М</td>\n",
       "      <td>0.000</td>\n",
       "      <td>film</td>\n",
       "      <td>2021.000</td>\n",
       "      <td>0.000</td>\n",
       "      <td>12.000</td>\n",
       "    </tr>\n",
       "  </tbody>\n",
       "</table>\n",
       "</div>"
      ],
      "text/plain": [
       "   rank        age        income sex  kids_flg content_type  release_year  \\\n",
       "0     3  age_25_34  income_20_40   Ж     0.000       series      2021.000   \n",
       "1     2  age_25_34  income_20_40   Ж     1.000         film      2021.000   \n",
       "2     1  age_35_44  income_40_60   Ж     1.000       series      2021.000   \n",
       "3     2  age_45_54  income_40_60   М     0.000       series      2021.000   \n",
       "4     2  age_35_44  income_60_90   М     0.000         film      2021.000   \n",
       "\n",
       "   for_kids  age_rating  \n",
       "0       NaN      18.000  \n",
       "1       NaN      12.000  \n",
       "2       NaN      18.000  \n",
       "3       NaN      18.000  \n",
       "4     0.000      12.000  "
      ]
     },
     "execution_count": 61,
     "metadata": {},
     "output_type": "execute_result"
    }
   ],
   "source": [
    "X_train.head()"
   ]
  },
  {
   "cell_type": "code",
   "execution_count": 62,
   "metadata": {},
   "outputs": [],
   "source": [
    "X_train = X_train.fillna(X_train.mode().iloc[0])\n",
    "X_test = X_test.fillna(X_test.mode().iloc[0])"
   ]
  },
  {
   "cell_type": "markdown",
   "metadata": {},
   "source": [
    "## 2.5.2. Train Model"
   ]
  },
  {
   "cell_type": "code",
   "execution_count": 63,
   "metadata": {},
   "outputs": [],
   "source": [
    "cbm_classifier = CatBoostClassifier(\n",
    "    loss_function = 'CrossEntropy',\n",
    "    iterations = 5000,\n",
    "    learning_rate = .1,\n",
    "    depth = 6,\n",
    "    random_state = 1234,\n",
    "    verbose = True\n",
    ")"
   ]
  },
  {
   "cell_type": "code",
   "execution_count": 64,
   "metadata": {},
   "outputs": [
    {
     "name": "stdout",
     "output_type": "stream",
     "text": [
      "0:\tlearn: 0.6504188\ttest: 0.6509327\tbest: 0.6509327 (0)\ttotal: 120ms\tremaining: 9m 58s\n",
      "1:\tlearn: 0.6167657\ttest: 0.6177114\tbest: 0.6177114 (1)\ttotal: 169ms\tremaining: 7m 1s\n",
      "2:\tlearn: 0.5903504\ttest: 0.5917225\tbest: 0.5917225 (2)\ttotal: 212ms\tremaining: 5m 53s\n",
      "3:\tlearn: 0.5700412\ttest: 0.5717134\tbest: 0.5717134 (3)\ttotal: 252ms\tremaining: 5m 14s\n",
      "4:\tlearn: 0.5537882\ttest: 0.5558248\tbest: 0.5558248 (4)\ttotal: 294ms\tremaining: 4m 54s\n",
      "5:\tlearn: 0.5412934\ttest: 0.5436088\tbest: 0.5436088 (5)\ttotal: 341ms\tremaining: 4m 44s\n",
      "6:\tlearn: 0.5322708\ttest: 0.5348748\tbest: 0.5348748 (6)\ttotal: 369ms\tremaining: 4m 23s\n",
      "7:\tlearn: 0.5240147\ttest: 0.5269104\tbest: 0.5269104 (7)\ttotal: 414ms\tremaining: 4m 18s\n",
      "8:\tlearn: 0.5175713\ttest: 0.5206753\tbest: 0.5206753 (8)\ttotal: 456ms\tremaining: 4m 13s\n",
      "9:\tlearn: 0.5122323\ttest: 0.5155180\tbest: 0.5155180 (9)\ttotal: 499ms\tremaining: 4m 8s\n",
      "10:\tlearn: 0.5079845\ttest: 0.5114627\tbest: 0.5114627 (10)\ttotal: 550ms\tremaining: 4m 9s\n",
      "11:\tlearn: 0.5047271\ttest: 0.5083317\tbest: 0.5083317 (11)\ttotal: 590ms\tremaining: 4m 5s\n",
      "12:\tlearn: 0.5023797\ttest: 0.5061564\tbest: 0.5061564 (12)\ttotal: 626ms\tremaining: 4m\n",
      "13:\tlearn: 0.5004217\ttest: 0.5043701\tbest: 0.5043701 (13)\ttotal: 689ms\tremaining: 4m 5s\n",
      "14:\tlearn: 0.4988779\ttest: 0.5029682\tbest: 0.5029682 (14)\ttotal: 751ms\tremaining: 4m 9s\n",
      "15:\tlearn: 0.4976223\ttest: 0.5018161\tbest: 0.5018161 (15)\ttotal: 800ms\tremaining: 4m 9s\n",
      "16:\tlearn: 0.4967352\ttest: 0.5009968\tbest: 0.5009968 (16)\ttotal: 830ms\tremaining: 4m 3s\n",
      "17:\tlearn: 0.4955690\ttest: 0.4999367\tbest: 0.4999367 (17)\ttotal: 875ms\tremaining: 4m 2s\n",
      "18:\tlearn: 0.4946644\ttest: 0.4991277\tbest: 0.4991277 (18)\ttotal: 920ms\tremaining: 4m 1s\n",
      "19:\tlearn: 0.4938932\ttest: 0.4984358\tbest: 0.4984358 (19)\ttotal: 965ms\tremaining: 4m\n",
      "20:\tlearn: 0.4934940\ttest: 0.4980846\tbest: 0.4980846 (20)\ttotal: 1.01s\tremaining: 3m 58s\n",
      "21:\tlearn: 0.4932429\ttest: 0.4978650\tbest: 0.4978650 (21)\ttotal: 1.03s\tremaining: 3m 53s\n",
      "22:\tlearn: 0.4927767\ttest: 0.4974369\tbest: 0.4974369 (22)\ttotal: 1.08s\tremaining: 3m 52s\n",
      "23:\tlearn: 0.4925477\ttest: 0.4972372\tbest: 0.4972372 (23)\ttotal: 1.1s\tremaining: 3m 48s\n",
      "24:\tlearn: 0.4922218\ttest: 0.4969559\tbest: 0.4969559 (24)\ttotal: 1.14s\tremaining: 3m 47s\n",
      "25:\tlearn: 0.4919143\ttest: 0.4966864\tbest: 0.4966864 (25)\ttotal: 1.18s\tremaining: 3m 46s\n",
      "26:\tlearn: 0.4917465\ttest: 0.4965809\tbest: 0.4965809 (26)\ttotal: 1.22s\tremaining: 3m 44s\n",
      "27:\tlearn: 0.4914593\ttest: 0.4963623\tbest: 0.4963623 (27)\ttotal: 1.27s\tremaining: 3m 45s\n",
      "28:\tlearn: 0.4912604\ttest: 0.4962298\tbest: 0.4962298 (28)\ttotal: 1.33s\tremaining: 3m 47s\n",
      "29:\tlearn: 0.4911514\ttest: 0.4961865\tbest: 0.4961865 (29)\ttotal: 1.38s\tremaining: 3m 48s\n",
      "30:\tlearn: 0.4909325\ttest: 0.4960081\tbest: 0.4960081 (30)\ttotal: 1.42s\tremaining: 3m 46s\n",
      "31:\tlearn: 0.4907504\ttest: 0.4958877\tbest: 0.4958877 (31)\ttotal: 1.46s\tremaining: 3m 46s\n",
      "32:\tlearn: 0.4906623\ttest: 0.4958453\tbest: 0.4958453 (32)\ttotal: 1.51s\tremaining: 3m 47s\n",
      "33:\tlearn: 0.4905136\ttest: 0.4957275\tbest: 0.4957275 (33)\ttotal: 1.55s\tremaining: 3m 47s\n",
      "34:\tlearn: 0.4904329\ttest: 0.4957002\tbest: 0.4957002 (34)\ttotal: 1.59s\tremaining: 3m 45s\n",
      "35:\tlearn: 0.4903700\ttest: 0.4956615\tbest: 0.4956615 (35)\ttotal: 1.63s\tremaining: 3m 45s\n",
      "36:\tlearn: 0.4902859\ttest: 0.4956205\tbest: 0.4956205 (36)\ttotal: 1.67s\tremaining: 3m 44s\n",
      "37:\tlearn: 0.4901964\ttest: 0.4955513\tbest: 0.4955513 (37)\ttotal: 1.72s\tremaining: 3m 44s\n",
      "38:\tlearn: 0.4901145\ttest: 0.4955153\tbest: 0.4955153 (38)\ttotal: 1.75s\tremaining: 3m 42s\n",
      "39:\tlearn: 0.4900940\ttest: 0.4955123\tbest: 0.4955123 (39)\ttotal: 1.79s\tremaining: 3m 42s\n",
      "40:\tlearn: 0.4900250\ttest: 0.4954745\tbest: 0.4954745 (40)\ttotal: 1.83s\tremaining: 3m 41s\n",
      "41:\tlearn: 0.4899890\ttest: 0.4954596\tbest: 0.4954596 (41)\ttotal: 1.87s\tremaining: 3m 40s\n",
      "42:\tlearn: 0.4899719\ttest: 0.4954596\tbest: 0.4954596 (41)\ttotal: 1.9s\tremaining: 3m 39s\n",
      "43:\tlearn: 0.4899528\ttest: 0.4954542\tbest: 0.4954542 (43)\ttotal: 1.93s\tremaining: 3m 37s\n",
      "44:\tlearn: 0.4899501\ttest: 0.4954551\tbest: 0.4954542 (43)\ttotal: 1.97s\tremaining: 3m 36s\n",
      "45:\tlearn: 0.4898337\ttest: 0.4953520\tbest: 0.4953520 (45)\ttotal: 2.02s\tremaining: 3m 37s\n",
      "46:\tlearn: 0.4898057\ttest: 0.4953505\tbest: 0.4953505 (46)\ttotal: 2.05s\tremaining: 3m 36s\n",
      "47:\tlearn: 0.4897687\ttest: 0.4953329\tbest: 0.4953329 (47)\ttotal: 2.09s\tremaining: 3m 35s\n",
      "48:\tlearn: 0.4897645\ttest: 0.4953333\tbest: 0.4953329 (47)\ttotal: 2.11s\tremaining: 3m 33s\n",
      "49:\tlearn: 0.4896867\ttest: 0.4952880\tbest: 0.4952880 (49)\ttotal: 2.16s\tremaining: 3m 33s\n",
      "50:\tlearn: 0.4896633\ttest: 0.4952831\tbest: 0.4952831 (50)\ttotal: 2.2s\tremaining: 3m 33s\n",
      "51:\tlearn: 0.4896585\ttest: 0.4952812\tbest: 0.4952812 (51)\ttotal: 2.24s\tremaining: 3m 32s\n",
      "52:\tlearn: 0.4896553\ttest: 0.4952828\tbest: 0.4952812 (51)\ttotal: 2.27s\tremaining: 3m 31s\n",
      "53:\tlearn: 0.4896209\ttest: 0.4952684\tbest: 0.4952684 (53)\ttotal: 2.31s\tremaining: 3m 31s\n",
      "54:\tlearn: 0.4896011\ttest: 0.4952674\tbest: 0.4952674 (54)\ttotal: 2.34s\tremaining: 3m 30s\n",
      "55:\tlearn: 0.4895737\ttest: 0.4952610\tbest: 0.4952610 (55)\ttotal: 2.4s\tremaining: 3m 31s\n",
      "56:\tlearn: 0.4895455\ttest: 0.4952414\tbest: 0.4952414 (56)\ttotal: 2.43s\tremaining: 3m 30s\n",
      "57:\tlearn: 0.4895352\ttest: 0.4952476\tbest: 0.4952414 (56)\ttotal: 2.47s\tremaining: 3m 30s\n",
      "58:\tlearn: 0.4894676\ttest: 0.4951959\tbest: 0.4951959 (58)\ttotal: 2.51s\tremaining: 3m 30s\n",
      "59:\tlearn: 0.4894649\ttest: 0.4951992\tbest: 0.4951959 (58)\ttotal: 2.53s\tremaining: 3m 28s\n",
      "60:\tlearn: 0.4894567\ttest: 0.4951969\tbest: 0.4951959 (58)\ttotal: 2.56s\tremaining: 3m 27s\n",
      "61:\tlearn: 0.4894327\ttest: 0.4951960\tbest: 0.4951959 (58)\ttotal: 2.6s\tremaining: 3m 27s\n",
      "62:\tlearn: 0.4894260\ttest: 0.4951976\tbest: 0.4951959 (58)\ttotal: 2.63s\tremaining: 3m 26s\n",
      "63:\tlearn: 0.4894260\ttest: 0.4951977\tbest: 0.4951959 (58)\ttotal: 2.65s\tremaining: 3m 24s\n",
      "64:\tlearn: 0.4893963\ttest: 0.4951871\tbest: 0.4951871 (64)\ttotal: 2.69s\tremaining: 3m 24s\n",
      "65:\tlearn: 0.4893785\ttest: 0.4951953\tbest: 0.4951871 (64)\ttotal: 2.73s\tremaining: 3m 24s\n",
      "66:\tlearn: 0.4893389\ttest: 0.4951625\tbest: 0.4951625 (66)\ttotal: 2.77s\tremaining: 3m 23s\n",
      "67:\tlearn: 0.4893320\ttest: 0.4951636\tbest: 0.4951625 (66)\ttotal: 2.8s\tremaining: 3m 23s\n",
      "68:\tlearn: 0.4893142\ttest: 0.4951507\tbest: 0.4951507 (68)\ttotal: 2.84s\tremaining: 3m 22s\n",
      "69:\tlearn: 0.4892977\ttest: 0.4951549\tbest: 0.4951507 (68)\ttotal: 2.88s\tremaining: 3m 23s\n",
      "70:\tlearn: 0.4892869\ttest: 0.4951521\tbest: 0.4951507 (68)\ttotal: 2.92s\tremaining: 3m 22s\n",
      "71:\tlearn: 0.4892666\ttest: 0.4951384\tbest: 0.4951384 (71)\ttotal: 2.96s\tremaining: 3m 22s\n",
      "72:\tlearn: 0.4892647\ttest: 0.4951358\tbest: 0.4951358 (72)\ttotal: 2.98s\tremaining: 3m 21s\n",
      "73:\tlearn: 0.4892608\ttest: 0.4951351\tbest: 0.4951351 (73)\ttotal: 3.02s\tremaining: 3m 20s\n",
      "74:\tlearn: 0.4892208\ttest: 0.4951427\tbest: 0.4951351 (73)\ttotal: 3.05s\tremaining: 3m 20s\n",
      "75:\tlearn: 0.4892073\ttest: 0.4951356\tbest: 0.4951351 (73)\ttotal: 3.09s\tremaining: 3m 20s\n",
      "76:\tlearn: 0.4891815\ttest: 0.4951282\tbest: 0.4951282 (76)\ttotal: 3.13s\tremaining: 3m 20s\n",
      "77:\tlearn: 0.4891790\ttest: 0.4951302\tbest: 0.4951282 (76)\ttotal: 3.16s\tremaining: 3m 19s\n",
      "78:\tlearn: 0.4891302\ttest: 0.4950992\tbest: 0.4950992 (78)\ttotal: 3.2s\tremaining: 3m 19s\n",
      "79:\tlearn: 0.4891154\ttest: 0.4950884\tbest: 0.4950884 (79)\ttotal: 3.24s\tremaining: 3m 19s\n",
      "80:\tlearn: 0.4891087\ttest: 0.4950865\tbest: 0.4950865 (80)\ttotal: 3.28s\tremaining: 3m 19s\n",
      "81:\tlearn: 0.4891007\ttest: 0.4950860\tbest: 0.4950860 (81)\ttotal: 3.31s\tremaining: 3m 18s\n",
      "82:\tlearn: 0.4890572\ttest: 0.4950508\tbest: 0.4950508 (82)\ttotal: 3.35s\tremaining: 3m 18s\n",
      "83:\tlearn: 0.4890327\ttest: 0.4950364\tbest: 0.4950364 (83)\ttotal: 3.41s\tremaining: 3m 19s\n",
      "84:\tlearn: 0.4890148\ttest: 0.4950214\tbest: 0.4950214 (84)\ttotal: 3.45s\tremaining: 3m 19s\n",
      "85:\tlearn: 0.4889525\ttest: 0.4949667\tbest: 0.4949667 (85)\ttotal: 3.49s\tremaining: 3m 19s\n",
      "86:\tlearn: 0.4889477\ttest: 0.4949631\tbest: 0.4949631 (86)\ttotal: 3.53s\tremaining: 3m 19s\n",
      "87:\tlearn: 0.4889335\ttest: 0.4949545\tbest: 0.4949545 (87)\ttotal: 3.56s\tremaining: 3m 18s\n",
      "88:\tlearn: 0.4889244\ttest: 0.4949531\tbest: 0.4949531 (88)\ttotal: 3.6s\tremaining: 3m 18s\n",
      "89:\tlearn: 0.4889238\ttest: 0.4949525\tbest: 0.4949525 (89)\ttotal: 3.62s\tremaining: 3m 17s\n",
      "90:\tlearn: 0.4888629\ttest: 0.4949027\tbest: 0.4949027 (90)\ttotal: 3.66s\tremaining: 3m 17s\n",
      "91:\tlearn: 0.4888499\ttest: 0.4949050\tbest: 0.4949027 (90)\ttotal: 3.69s\tremaining: 3m 17s\n",
      "92:\tlearn: 0.4888375\ttest: 0.4948999\tbest: 0.4948999 (92)\ttotal: 3.73s\tremaining: 3m 16s\n",
      "93:\tlearn: 0.4888244\ttest: 0.4949011\tbest: 0.4948999 (92)\ttotal: 3.77s\tremaining: 3m 16s\n",
      "94:\tlearn: 0.4888108\ttest: 0.4949012\tbest: 0.4948999 (92)\ttotal: 3.81s\tremaining: 3m 16s\n"
     ]
    },
    {
     "name": "stdout",
     "output_type": "stream",
     "text": [
      "95:\tlearn: 0.4888100\ttest: 0.4949035\tbest: 0.4948999 (92)\ttotal: 3.83s\tremaining: 3m 15s\n",
      "96:\tlearn: 0.4888060\ttest: 0.4949073\tbest: 0.4948999 (92)\ttotal: 3.87s\tremaining: 3m 15s\n",
      "97:\tlearn: 0.4888044\ttest: 0.4949079\tbest: 0.4948999 (92)\ttotal: 3.9s\tremaining: 3m 15s\n",
      "98:\tlearn: 0.4887824\ttest: 0.4949100\tbest: 0.4948999 (92)\ttotal: 3.94s\tremaining: 3m 14s\n",
      "99:\tlearn: 0.4887731\ttest: 0.4949119\tbest: 0.4948999 (92)\ttotal: 3.98s\tremaining: 3m 15s\n",
      "100:\tlearn: 0.4887652\ttest: 0.4949097\tbest: 0.4948999 (92)\ttotal: 4.02s\tremaining: 3m 14s\n",
      "101:\tlearn: 0.4887573\ttest: 0.4949085\tbest: 0.4948999 (92)\ttotal: 4.06s\tremaining: 3m 14s\n",
      "102:\tlearn: 0.4887199\ttest: 0.4948992\tbest: 0.4948992 (102)\ttotal: 4.1s\tremaining: 3m 14s\n",
      "103:\tlearn: 0.4886861\ttest: 0.4948674\tbest: 0.4948674 (103)\ttotal: 4.14s\tremaining: 3m 14s\n",
      "104:\tlearn: 0.4886770\ttest: 0.4948658\tbest: 0.4948658 (104)\ttotal: 4.17s\tremaining: 3m 14s\n",
      "105:\tlearn: 0.4886699\ttest: 0.4948680\tbest: 0.4948658 (104)\ttotal: 4.21s\tremaining: 3m 14s\n",
      "106:\tlearn: 0.4886641\ttest: 0.4948665\tbest: 0.4948658 (104)\ttotal: 4.24s\tremaining: 3m 13s\n",
      "107:\tlearn: 0.4886454\ttest: 0.4948614\tbest: 0.4948614 (107)\ttotal: 4.28s\tremaining: 3m 14s\n",
      "108:\tlearn: 0.4886365\ttest: 0.4948611\tbest: 0.4948611 (108)\ttotal: 4.32s\tremaining: 3m 13s\n",
      "109:\tlearn: 0.4886247\ttest: 0.4948545\tbest: 0.4948545 (109)\ttotal: 4.36s\tremaining: 3m 13s\n",
      "110:\tlearn: 0.4886203\ttest: 0.4948546\tbest: 0.4948545 (109)\ttotal: 4.39s\tremaining: 3m 13s\n",
      "111:\tlearn: 0.4886119\ttest: 0.4948497\tbest: 0.4948497 (111)\ttotal: 4.43s\tremaining: 3m 13s\n",
      "112:\tlearn: 0.4885751\ttest: 0.4948175\tbest: 0.4948175 (112)\ttotal: 4.47s\tremaining: 3m 13s\n",
      "113:\tlearn: 0.4885558\ttest: 0.4948202\tbest: 0.4948175 (112)\ttotal: 4.54s\tremaining: 3m 14s\n",
      "114:\tlearn: 0.4885510\ttest: 0.4948150\tbest: 0.4948150 (114)\ttotal: 4.58s\tremaining: 3m 14s\n",
      "115:\tlearn: 0.4885491\ttest: 0.4948170\tbest: 0.4948150 (114)\ttotal: 4.62s\tremaining: 3m 14s\n",
      "116:\tlearn: 0.4884977\ttest: 0.4947757\tbest: 0.4947757 (116)\ttotal: 4.68s\tremaining: 3m 15s\n",
      "117:\tlearn: 0.4884791\ttest: 0.4947790\tbest: 0.4947757 (116)\ttotal: 4.72s\tremaining: 3m 15s\n",
      "118:\tlearn: 0.4884764\ttest: 0.4947806\tbest: 0.4947757 (116)\ttotal: 4.77s\tremaining: 3m 15s\n",
      "119:\tlearn: 0.4884168\ttest: 0.4947433\tbest: 0.4947433 (119)\ttotal: 4.82s\tremaining: 3m 15s\n",
      "120:\tlearn: 0.4884168\ttest: 0.4947433\tbest: 0.4947433 (120)\ttotal: 4.83s\tremaining: 3m 14s\n",
      "121:\tlearn: 0.4884066\ttest: 0.4947406\tbest: 0.4947406 (121)\ttotal: 4.87s\tremaining: 3m 14s\n",
      "122:\tlearn: 0.4883747\ttest: 0.4947322\tbest: 0.4947322 (122)\ttotal: 4.91s\tremaining: 3m 14s\n",
      "123:\tlearn: 0.4883698\ttest: 0.4947306\tbest: 0.4947306 (123)\ttotal: 4.95s\tremaining: 3m 14s\n",
      "124:\tlearn: 0.4883176\ttest: 0.4946926\tbest: 0.4946926 (124)\ttotal: 4.99s\tremaining: 3m 14s\n",
      "125:\tlearn: 0.4883176\ttest: 0.4946925\tbest: 0.4946925 (125)\ttotal: 5.01s\tremaining: 3m 13s\n",
      "126:\tlearn: 0.4883150\ttest: 0.4946924\tbest: 0.4946924 (126)\ttotal: 5.04s\tremaining: 3m 13s\n",
      "127:\tlearn: 0.4882731\ttest: 0.4946583\tbest: 0.4946583 (127)\ttotal: 5.08s\tremaining: 3m 13s\n",
      "128:\tlearn: 0.4882689\ttest: 0.4946576\tbest: 0.4946576 (128)\ttotal: 5.12s\tremaining: 3m 13s\n",
      "129:\tlearn: 0.4882489\ttest: 0.4946544\tbest: 0.4946544 (129)\ttotal: 5.16s\tremaining: 3m 13s\n",
      "130:\tlearn: 0.4882442\ttest: 0.4946584\tbest: 0.4946544 (129)\ttotal: 5.2s\tremaining: 3m 13s\n",
      "131:\tlearn: 0.4882396\ttest: 0.4946602\tbest: 0.4946544 (129)\ttotal: 5.24s\tremaining: 3m 13s\n",
      "132:\tlearn: 0.4882356\ttest: 0.4946602\tbest: 0.4946544 (129)\ttotal: 5.27s\tremaining: 3m 12s\n",
      "133:\tlearn: 0.4882192\ttest: 0.4946615\tbest: 0.4946544 (129)\ttotal: 5.31s\tremaining: 3m 12s\n",
      "134:\tlearn: 0.4882060\ttest: 0.4946632\tbest: 0.4946544 (129)\ttotal: 5.37s\tremaining: 3m 13s\n",
      "135:\tlearn: 0.4881994\ttest: 0.4946619\tbest: 0.4946544 (129)\ttotal: 5.42s\tremaining: 3m 13s\n",
      "136:\tlearn: 0.4881798\ttest: 0.4946624\tbest: 0.4946544 (129)\ttotal: 5.47s\tremaining: 3m 14s\n",
      "137:\tlearn: 0.4881686\ttest: 0.4946602\tbest: 0.4946544 (129)\ttotal: 5.51s\tremaining: 3m 14s\n",
      "138:\tlearn: 0.4881447\ttest: 0.4946358\tbest: 0.4946358 (138)\ttotal: 5.55s\tremaining: 3m 14s\n",
      "139:\tlearn: 0.4881214\ttest: 0.4946236\tbest: 0.4946236 (139)\ttotal: 5.6s\tremaining: 3m 14s\n",
      "140:\tlearn: 0.4881117\ttest: 0.4946248\tbest: 0.4946236 (139)\ttotal: 5.65s\tremaining: 3m 14s\n",
      "141:\tlearn: 0.4881026\ttest: 0.4946262\tbest: 0.4946236 (139)\ttotal: 5.69s\tremaining: 3m 14s\n",
      "142:\tlearn: 0.4880991\ttest: 0.4946251\tbest: 0.4946236 (139)\ttotal: 5.72s\tremaining: 3m 14s\n",
      "143:\tlearn: 0.4880654\ttest: 0.4946151\tbest: 0.4946151 (143)\ttotal: 5.77s\tremaining: 3m 14s\n",
      "144:\tlearn: 0.4880468\ttest: 0.4946117\tbest: 0.4946117 (144)\ttotal: 5.81s\tremaining: 3m 14s\n",
      "145:\tlearn: 0.4880379\ttest: 0.4946081\tbest: 0.4946081 (145)\ttotal: 5.85s\tremaining: 3m 14s\n",
      "146:\tlearn: 0.4880230\ttest: 0.4945987\tbest: 0.4945987 (146)\ttotal: 5.88s\tremaining: 3m 14s\n",
      "147:\tlearn: 0.4880163\ttest: 0.4945974\tbest: 0.4945974 (147)\ttotal: 5.92s\tremaining: 3m 14s\n",
      "148:\tlearn: 0.4880136\ttest: 0.4945961\tbest: 0.4945961 (148)\ttotal: 6s\tremaining: 3m 15s\n",
      "149:\tlearn: 0.4880005\ttest: 0.4945886\tbest: 0.4945886 (149)\ttotal: 6.04s\tremaining: 3m 15s\n",
      "150:\tlearn: 0.4879848\ttest: 0.4945893\tbest: 0.4945886 (149)\ttotal: 6.08s\tremaining: 3m 15s\n",
      "151:\tlearn: 0.4879830\ttest: 0.4945913\tbest: 0.4945886 (149)\ttotal: 6.14s\tremaining: 3m 15s\n",
      "152:\tlearn: 0.4879760\ttest: 0.4945905\tbest: 0.4945886 (149)\ttotal: 6.18s\tremaining: 3m 15s\n",
      "153:\tlearn: 0.4879250\ttest: 0.4945514\tbest: 0.4945514 (153)\ttotal: 6.22s\tremaining: 3m 15s\n",
      "154:\tlearn: 0.4878871\ttest: 0.4945135\tbest: 0.4945135 (154)\ttotal: 6.26s\tremaining: 3m 15s\n",
      "155:\tlearn: 0.4878803\ttest: 0.4945102\tbest: 0.4945102 (155)\ttotal: 6.3s\tremaining: 3m 15s\n",
      "156:\tlearn: 0.4878421\ttest: 0.4944908\tbest: 0.4944908 (156)\ttotal: 6.34s\tremaining: 3m 15s\n",
      "157:\tlearn: 0.4878326\ttest: 0.4944872\tbest: 0.4944872 (157)\ttotal: 6.38s\tremaining: 3m 15s\n",
      "158:\tlearn: 0.4878272\ttest: 0.4944859\tbest: 0.4944859 (158)\ttotal: 6.41s\tremaining: 3m 15s\n",
      "159:\tlearn: 0.4878230\ttest: 0.4944849\tbest: 0.4944849 (159)\ttotal: 6.45s\tremaining: 3m 15s\n",
      "160:\tlearn: 0.4878117\ttest: 0.4944795\tbest: 0.4944795 (160)\ttotal: 6.49s\tremaining: 3m 15s\n",
      "161:\tlearn: 0.4877918\ttest: 0.4944682\tbest: 0.4944682 (161)\ttotal: 6.54s\tremaining: 3m 15s\n",
      "162:\tlearn: 0.4877842\ttest: 0.4944694\tbest: 0.4944682 (161)\ttotal: 6.58s\tremaining: 3m 15s\n",
      "163:\tlearn: 0.4877598\ttest: 0.4944515\tbest: 0.4944515 (163)\ttotal: 6.62s\tremaining: 3m 15s\n",
      "164:\tlearn: 0.4877423\ttest: 0.4944448\tbest: 0.4944448 (164)\ttotal: 6.67s\tremaining: 3m 15s\n",
      "165:\tlearn: 0.4877138\ttest: 0.4944191\tbest: 0.4944191 (165)\ttotal: 6.71s\tremaining: 3m 15s\n",
      "166:\tlearn: 0.4876995\ttest: 0.4944069\tbest: 0.4944069 (166)\ttotal: 6.75s\tremaining: 3m 15s\n",
      "167:\tlearn: 0.4876949\ttest: 0.4944093\tbest: 0.4944069 (166)\ttotal: 6.8s\tremaining: 3m 15s\n",
      "168:\tlearn: 0.4876916\ttest: 0.4944082\tbest: 0.4944069 (166)\ttotal: 6.83s\tremaining: 3m 15s\n",
      "169:\tlearn: 0.4876816\ttest: 0.4944108\tbest: 0.4944069 (166)\ttotal: 6.87s\tremaining: 3m 15s\n",
      "170:\tlearn: 0.4876804\ttest: 0.4944111\tbest: 0.4944069 (166)\ttotal: 6.91s\tremaining: 3m 15s\n",
      "171:\tlearn: 0.4876751\ttest: 0.4944145\tbest: 0.4944069 (166)\ttotal: 6.95s\tremaining: 3m 14s\n",
      "172:\tlearn: 0.4876308\ttest: 0.4944010\tbest: 0.4944010 (172)\ttotal: 6.99s\tremaining: 3m 14s\n",
      "173:\tlearn: 0.4876234\ttest: 0.4944029\tbest: 0.4944010 (172)\ttotal: 7.03s\tremaining: 3m 14s\n",
      "174:\tlearn: 0.4876011\ttest: 0.4944057\tbest: 0.4944010 (172)\ttotal: 7.07s\tremaining: 3m 14s\n",
      "175:\tlearn: 0.4875916\ttest: 0.4943986\tbest: 0.4943986 (175)\ttotal: 7.11s\tremaining: 3m 14s\n",
      "176:\tlearn: 0.4875768\ttest: 0.4943982\tbest: 0.4943982 (176)\ttotal: 7.15s\tremaining: 3m 14s\n",
      "177:\tlearn: 0.4875682\ttest: 0.4943970\tbest: 0.4943970 (177)\ttotal: 7.19s\tremaining: 3m 14s\n",
      "178:\tlearn: 0.4875608\ttest: 0.4943933\tbest: 0.4943933 (178)\ttotal: 7.23s\tremaining: 3m 14s\n",
      "179:\tlearn: 0.4875419\ttest: 0.4943858\tbest: 0.4943858 (179)\ttotal: 7.28s\tremaining: 3m 14s\n",
      "180:\tlearn: 0.4875381\ttest: 0.4943868\tbest: 0.4943858 (179)\ttotal: 7.31s\tremaining: 3m 14s\n",
      "181:\tlearn: 0.4875290\ttest: 0.4943855\tbest: 0.4943855 (181)\ttotal: 7.35s\tremaining: 3m 14s\n",
      "182:\tlearn: 0.4874975\ttest: 0.4943679\tbest: 0.4943679 (182)\ttotal: 7.39s\tremaining: 3m 14s\n",
      "183:\tlearn: 0.4874899\ttest: 0.4943647\tbest: 0.4943647 (183)\ttotal: 7.43s\tremaining: 3m 14s\n",
      "184:\tlearn: 0.4874740\ttest: 0.4943645\tbest: 0.4943645 (184)\ttotal: 7.47s\tremaining: 3m 14s\n",
      "185:\tlearn: 0.4874673\ttest: 0.4943679\tbest: 0.4943645 (184)\ttotal: 7.51s\tremaining: 3m 14s\n",
      "186:\tlearn: 0.4874606\ttest: 0.4943681\tbest: 0.4943645 (184)\ttotal: 7.55s\tremaining: 3m 14s\n",
      "187:\tlearn: 0.4874556\ttest: 0.4943673\tbest: 0.4943645 (184)\ttotal: 7.59s\tremaining: 3m 14s\n"
     ]
    },
    {
     "name": "stdout",
     "output_type": "stream",
     "text": [
      "188:\tlearn: 0.4874464\ttest: 0.4943659\tbest: 0.4943645 (184)\ttotal: 7.63s\tremaining: 3m 14s\n",
      "189:\tlearn: 0.4874299\ttest: 0.4943476\tbest: 0.4943476 (189)\ttotal: 7.68s\tremaining: 3m 14s\n",
      "190:\tlearn: 0.4874101\ttest: 0.4943394\tbest: 0.4943394 (190)\ttotal: 7.72s\tremaining: 3m 14s\n",
      "191:\tlearn: 0.4874027\ttest: 0.4943352\tbest: 0.4943352 (191)\ttotal: 7.75s\tremaining: 3m 14s\n",
      "192:\tlearn: 0.4873851\ttest: 0.4943248\tbest: 0.4943248 (192)\ttotal: 7.79s\tremaining: 3m 14s\n",
      "193:\tlearn: 0.4873696\ttest: 0.4943287\tbest: 0.4943248 (192)\ttotal: 7.84s\tremaining: 3m 14s\n",
      "194:\tlearn: 0.4873593\ttest: 0.4943338\tbest: 0.4943248 (192)\ttotal: 7.87s\tremaining: 3m 13s\n",
      "195:\tlearn: 0.4873576\ttest: 0.4943338\tbest: 0.4943248 (192)\ttotal: 7.91s\tremaining: 3m 13s\n",
      "196:\tlearn: 0.4873343\ttest: 0.4943311\tbest: 0.4943248 (192)\ttotal: 7.94s\tremaining: 3m 13s\n",
      "197:\tlearn: 0.4873213\ttest: 0.4943230\tbest: 0.4943230 (197)\ttotal: 7.98s\tremaining: 3m 13s\n",
      "198:\tlearn: 0.4873105\ttest: 0.4943146\tbest: 0.4943146 (198)\ttotal: 8.02s\tremaining: 3m 13s\n",
      "199:\tlearn: 0.4872838\ttest: 0.4943200\tbest: 0.4943146 (198)\ttotal: 8.05s\tremaining: 3m 13s\n",
      "200:\tlearn: 0.4872775\ttest: 0.4943196\tbest: 0.4943146 (198)\ttotal: 8.09s\tremaining: 3m 13s\n",
      "201:\tlearn: 0.4872752\ttest: 0.4943198\tbest: 0.4943146 (198)\ttotal: 8.13s\tremaining: 3m 13s\n",
      "202:\tlearn: 0.4872680\ttest: 0.4943207\tbest: 0.4943146 (198)\ttotal: 8.18s\tremaining: 3m 13s\n",
      "203:\tlearn: 0.4872647\ttest: 0.4943239\tbest: 0.4943146 (198)\ttotal: 8.21s\tremaining: 3m 13s\n",
      "204:\tlearn: 0.4872633\ttest: 0.4943234\tbest: 0.4943146 (198)\ttotal: 8.25s\tremaining: 3m 12s\n",
      "205:\tlearn: 0.4872487\ttest: 0.4943148\tbest: 0.4943146 (198)\ttotal: 8.29s\tremaining: 3m 12s\n",
      "206:\tlearn: 0.4872410\ttest: 0.4943159\tbest: 0.4943146 (198)\ttotal: 8.32s\tremaining: 3m 12s\n",
      "207:\tlearn: 0.4872250\ttest: 0.4943081\tbest: 0.4943081 (207)\ttotal: 8.37s\tremaining: 3m 12s\n",
      "208:\tlearn: 0.4872119\ttest: 0.4943029\tbest: 0.4943029 (208)\ttotal: 8.4s\tremaining: 3m 12s\n",
      "209:\tlearn: 0.4872083\ttest: 0.4943033\tbest: 0.4943029 (208)\ttotal: 8.45s\tremaining: 3m 12s\n",
      "210:\tlearn: 0.4872007\ttest: 0.4943050\tbest: 0.4943029 (208)\ttotal: 8.48s\tremaining: 3m 12s\n",
      "211:\tlearn: 0.4871880\ttest: 0.4943076\tbest: 0.4943029 (208)\ttotal: 8.53s\tremaining: 3m 12s\n",
      "212:\tlearn: 0.4871719\ttest: 0.4943033\tbest: 0.4943029 (208)\ttotal: 8.57s\tremaining: 3m 12s\n",
      "213:\tlearn: 0.4871590\ttest: 0.4943017\tbest: 0.4943017 (213)\ttotal: 8.62s\tremaining: 3m 12s\n",
      "214:\tlearn: 0.4871566\ttest: 0.4943091\tbest: 0.4943017 (213)\ttotal: 8.66s\tremaining: 3m 12s\n",
      "215:\tlearn: 0.4871545\ttest: 0.4943117\tbest: 0.4943017 (213)\ttotal: 8.71s\tremaining: 3m 12s\n",
      "216:\tlearn: 0.4871345\ttest: 0.4943066\tbest: 0.4943017 (213)\ttotal: 8.74s\tremaining: 3m 12s\n",
      "217:\tlearn: 0.4871315\ttest: 0.4943030\tbest: 0.4943017 (213)\ttotal: 8.79s\tremaining: 3m 12s\n",
      "218:\tlearn: 0.4871243\ttest: 0.4943018\tbest: 0.4943017 (213)\ttotal: 8.83s\tremaining: 3m 12s\n",
      "219:\tlearn: 0.4871059\ttest: 0.4943036\tbest: 0.4943017 (213)\ttotal: 8.87s\tremaining: 3m 12s\n",
      "220:\tlearn: 0.4870981\ttest: 0.4942987\tbest: 0.4942987 (220)\ttotal: 8.91s\tremaining: 3m 12s\n",
      "221:\tlearn: 0.4870975\ttest: 0.4942989\tbest: 0.4942987 (220)\ttotal: 8.95s\tremaining: 3m 12s\n",
      "222:\tlearn: 0.4870959\ttest: 0.4942985\tbest: 0.4942985 (222)\ttotal: 9.03s\tremaining: 3m 13s\n",
      "223:\tlearn: 0.4870910\ttest: 0.4943018\tbest: 0.4942985 (222)\ttotal: 9.09s\tremaining: 3m 13s\n",
      "224:\tlearn: 0.4870870\ttest: 0.4942985\tbest: 0.4942985 (222)\ttotal: 9.12s\tremaining: 3m 13s\n",
      "225:\tlearn: 0.4870834\ttest: 0.4943024\tbest: 0.4942985 (222)\ttotal: 9.16s\tremaining: 3m 13s\n",
      "226:\tlearn: 0.4870793\ttest: 0.4943037\tbest: 0.4942985 (222)\ttotal: 9.2s\tremaining: 3m 13s\n",
      "227:\tlearn: 0.4870553\ttest: 0.4942872\tbest: 0.4942872 (227)\ttotal: 9.25s\tremaining: 3m 13s\n",
      "228:\tlearn: 0.4870447\ttest: 0.4942901\tbest: 0.4942872 (227)\ttotal: 9.29s\tremaining: 3m 13s\n",
      "229:\tlearn: 0.4870189\ttest: 0.4942829\tbest: 0.4942829 (229)\ttotal: 9.33s\tremaining: 3m 13s\n",
      "230:\tlearn: 0.4870152\ttest: 0.4942836\tbest: 0.4942829 (229)\ttotal: 9.37s\tremaining: 3m 13s\n",
      "231:\tlearn: 0.4870138\ttest: 0.4942831\tbest: 0.4942829 (229)\ttotal: 9.41s\tremaining: 3m 13s\n",
      "232:\tlearn: 0.4870121\ttest: 0.4942830\tbest: 0.4942829 (229)\ttotal: 9.45s\tremaining: 3m 13s\n",
      "233:\tlearn: 0.4870073\ttest: 0.4942837\tbest: 0.4942829 (229)\ttotal: 9.48s\tremaining: 3m 13s\n",
      "234:\tlearn: 0.4870063\ttest: 0.4942835\tbest: 0.4942829 (229)\ttotal: 9.53s\tremaining: 3m 13s\n",
      "235:\tlearn: 0.4869969\ttest: 0.4942836\tbest: 0.4942829 (229)\ttotal: 9.57s\tremaining: 3m 13s\n",
      "236:\tlearn: 0.4869880\ttest: 0.4942835\tbest: 0.4942829 (229)\ttotal: 9.62s\tremaining: 3m 13s\n",
      "237:\tlearn: 0.4869645\ttest: 0.4942763\tbest: 0.4942763 (237)\ttotal: 9.66s\tremaining: 3m 13s\n",
      "238:\tlearn: 0.4869597\ttest: 0.4942808\tbest: 0.4942763 (237)\ttotal: 9.7s\tremaining: 3m 13s\n",
      "239:\tlearn: 0.4869518\ttest: 0.4942808\tbest: 0.4942763 (237)\ttotal: 9.74s\tremaining: 3m 13s\n",
      "240:\tlearn: 0.4869320\ttest: 0.4942661\tbest: 0.4942661 (240)\ttotal: 9.78s\tremaining: 3m 13s\n",
      "241:\tlearn: 0.4869272\ttest: 0.4942642\tbest: 0.4942642 (241)\ttotal: 9.82s\tremaining: 3m 13s\n",
      "242:\tlearn: 0.4869113\ttest: 0.4942701\tbest: 0.4942642 (241)\ttotal: 9.86s\tremaining: 3m 12s\n",
      "243:\tlearn: 0.4869026\ttest: 0.4942639\tbest: 0.4942639 (243)\ttotal: 9.9s\tremaining: 3m 12s\n",
      "244:\tlearn: 0.4868978\ttest: 0.4942619\tbest: 0.4942619 (244)\ttotal: 9.94s\tremaining: 3m 12s\n",
      "245:\tlearn: 0.4868958\ttest: 0.4942617\tbest: 0.4942617 (245)\ttotal: 9.97s\tremaining: 3m 12s\n",
      "246:\tlearn: 0.4868726\ttest: 0.4942631\tbest: 0.4942617 (245)\ttotal: 10s\tremaining: 3m 12s\n",
      "247:\tlearn: 0.4868676\ttest: 0.4942642\tbest: 0.4942617 (245)\ttotal: 10s\tremaining: 3m 12s\n",
      "248:\tlearn: 0.4868651\ttest: 0.4942622\tbest: 0.4942617 (245)\ttotal: 10.1s\tremaining: 3m 12s\n",
      "249:\tlearn: 0.4868595\ttest: 0.4942615\tbest: 0.4942615 (249)\ttotal: 10.1s\tremaining: 3m 12s\n",
      "250:\tlearn: 0.4868552\ttest: 0.4942615\tbest: 0.4942615 (249)\ttotal: 10.2s\tremaining: 3m 12s\n",
      "251:\tlearn: 0.4868502\ttest: 0.4942670\tbest: 0.4942615 (249)\ttotal: 10.2s\tremaining: 3m 12s\n",
      "252:\tlearn: 0.4868416\ttest: 0.4942686\tbest: 0.4942615 (249)\ttotal: 10.2s\tremaining: 3m 11s\n",
      "253:\tlearn: 0.4868353\ttest: 0.4942675\tbest: 0.4942615 (249)\ttotal: 10.3s\tremaining: 3m 11s\n",
      "254:\tlearn: 0.4868282\ttest: 0.4942661\tbest: 0.4942615 (249)\ttotal: 10.3s\tremaining: 3m 11s\n",
      "255:\tlearn: 0.4868195\ttest: 0.4942681\tbest: 0.4942615 (249)\ttotal: 10.4s\tremaining: 3m 11s\n",
      "256:\tlearn: 0.4868142\ttest: 0.4942717\tbest: 0.4942615 (249)\ttotal: 10.4s\tremaining: 3m 11s\n",
      "257:\tlearn: 0.4867945\ttest: 0.4942617\tbest: 0.4942615 (249)\ttotal: 10.4s\tremaining: 3m 11s\n",
      "258:\tlearn: 0.4867904\ttest: 0.4942595\tbest: 0.4942595 (258)\ttotal: 10.5s\tremaining: 3m 11s\n",
      "259:\tlearn: 0.4867880\ttest: 0.4942577\tbest: 0.4942577 (259)\ttotal: 10.5s\tremaining: 3m 11s\n",
      "260:\tlearn: 0.4867734\ttest: 0.4942603\tbest: 0.4942577 (259)\ttotal: 10.6s\tremaining: 3m 11s\n",
      "261:\tlearn: 0.4867507\ttest: 0.4942484\tbest: 0.4942484 (261)\ttotal: 10.6s\tremaining: 3m 11s\n",
      "262:\tlearn: 0.4867481\ttest: 0.4942483\tbest: 0.4942483 (262)\ttotal: 10.6s\tremaining: 3m 11s\n",
      "263:\tlearn: 0.4867409\ttest: 0.4942491\tbest: 0.4942483 (262)\ttotal: 10.7s\tremaining: 3m 11s\n",
      "264:\tlearn: 0.4867400\ttest: 0.4942493\tbest: 0.4942483 (262)\ttotal: 10.7s\tremaining: 3m 11s\n",
      "265:\tlearn: 0.4867286\ttest: 0.4942501\tbest: 0.4942483 (262)\ttotal: 10.8s\tremaining: 3m 11s\n",
      "266:\tlearn: 0.4867220\ttest: 0.4942482\tbest: 0.4942482 (266)\ttotal: 10.8s\tremaining: 3m 11s\n",
      "267:\tlearn: 0.4867209\ttest: 0.4942487\tbest: 0.4942482 (266)\ttotal: 10.8s\tremaining: 3m 11s\n",
      "268:\tlearn: 0.4867170\ttest: 0.4942518\tbest: 0.4942482 (266)\ttotal: 10.9s\tremaining: 3m 12s\n",
      "269:\tlearn: 0.4867138\ttest: 0.4942524\tbest: 0.4942482 (266)\ttotal: 11s\tremaining: 3m 12s\n",
      "270:\tlearn: 0.4867059\ttest: 0.4942527\tbest: 0.4942482 (266)\ttotal: 11s\tremaining: 3m 12s\n",
      "271:\tlearn: 0.4867056\ttest: 0.4942527\tbest: 0.4942482 (266)\ttotal: 11.1s\tremaining: 3m 12s\n",
      "272:\tlearn: 0.4867044\ttest: 0.4942527\tbest: 0.4942482 (266)\ttotal: 11.1s\tremaining: 3m 12s\n",
      "273:\tlearn: 0.4866925\ttest: 0.4942454\tbest: 0.4942454 (273)\ttotal: 11.1s\tremaining: 3m 12s\n",
      "274:\tlearn: 0.4866834\ttest: 0.4942444\tbest: 0.4942444 (274)\ttotal: 11.2s\tremaining: 3m 12s\n",
      "275:\tlearn: 0.4866781\ttest: 0.4942387\tbest: 0.4942387 (275)\ttotal: 11.2s\tremaining: 3m 12s\n",
      "276:\tlearn: 0.4866747\ttest: 0.4942374\tbest: 0.4942374 (276)\ttotal: 11.3s\tremaining: 3m 12s\n",
      "277:\tlearn: 0.4866649\ttest: 0.4942340\tbest: 0.4942340 (277)\ttotal: 11.3s\tremaining: 3m 12s\n",
      "278:\tlearn: 0.4866491\ttest: 0.4942318\tbest: 0.4942318 (278)\ttotal: 11.4s\tremaining: 3m 12s\n",
      "279:\tlearn: 0.4866467\ttest: 0.4942330\tbest: 0.4942318 (278)\ttotal: 11.4s\tremaining: 3m 12s\n",
      "280:\tlearn: 0.4866443\ttest: 0.4942302\tbest: 0.4942302 (280)\ttotal: 11.4s\tremaining: 3m 12s\n",
      "281:\tlearn: 0.4866294\ttest: 0.4942256\tbest: 0.4942256 (281)\ttotal: 11.5s\tremaining: 3m 12s\n",
      "282:\tlearn: 0.4866270\ttest: 0.4942253\tbest: 0.4942253 (282)\ttotal: 11.5s\tremaining: 3m 12s\n"
     ]
    },
    {
     "name": "stdout",
     "output_type": "stream",
     "text": [
      "283:\tlearn: 0.4866237\ttest: 0.4942248\tbest: 0.4942248 (283)\ttotal: 11.6s\tremaining: 3m 12s\n",
      "284:\tlearn: 0.4866176\ttest: 0.4942237\tbest: 0.4942237 (284)\ttotal: 11.6s\tremaining: 3m 12s\n",
      "285:\tlearn: 0.4866081\ttest: 0.4942244\tbest: 0.4942237 (284)\ttotal: 11.6s\tremaining: 3m 11s\n",
      "286:\tlearn: 0.4865948\ttest: 0.4942254\tbest: 0.4942237 (284)\ttotal: 11.7s\tremaining: 3m 12s\n",
      "287:\tlearn: 0.4865934\ttest: 0.4942243\tbest: 0.4942237 (284)\ttotal: 11.7s\tremaining: 3m 12s\n",
      "288:\tlearn: 0.4865896\ttest: 0.4942232\tbest: 0.4942232 (288)\ttotal: 11.8s\tremaining: 3m 12s\n",
      "289:\tlearn: 0.4865831\ttest: 0.4942177\tbest: 0.4942177 (289)\ttotal: 11.8s\tremaining: 3m 12s\n",
      "290:\tlearn: 0.4865812\ttest: 0.4942180\tbest: 0.4942177 (289)\ttotal: 11.9s\tremaining: 3m 12s\n",
      "291:\tlearn: 0.4865741\ttest: 0.4942200\tbest: 0.4942177 (289)\ttotal: 11.9s\tremaining: 3m 12s\n",
      "292:\tlearn: 0.4865625\ttest: 0.4942259\tbest: 0.4942177 (289)\ttotal: 12s\tremaining: 3m 12s\n",
      "293:\tlearn: 0.4865559\ttest: 0.4942276\tbest: 0.4942177 (289)\ttotal: 12s\tremaining: 3m 12s\n",
      "294:\tlearn: 0.4865328\ttest: 0.4942293\tbest: 0.4942177 (289)\ttotal: 12s\tremaining: 3m 12s\n",
      "295:\tlearn: 0.4865274\ttest: 0.4942292\tbest: 0.4942177 (289)\ttotal: 12.1s\tremaining: 3m 12s\n",
      "296:\tlearn: 0.4865180\ttest: 0.4942303\tbest: 0.4942177 (289)\ttotal: 12.1s\tremaining: 3m 12s\n",
      "297:\tlearn: 0.4865151\ttest: 0.4942296\tbest: 0.4942177 (289)\ttotal: 12.2s\tremaining: 3m 12s\n",
      "298:\tlearn: 0.4865115\ttest: 0.4942281\tbest: 0.4942177 (289)\ttotal: 12.2s\tremaining: 3m 12s\n",
      "299:\tlearn: 0.4865100\ttest: 0.4942275\tbest: 0.4942177 (289)\ttotal: 12.3s\tremaining: 3m 12s\n",
      "300:\tlearn: 0.4865053\ttest: 0.4942260\tbest: 0.4942177 (289)\ttotal: 12.3s\tremaining: 3m 12s\n",
      "301:\tlearn: 0.4865021\ttest: 0.4942263\tbest: 0.4942177 (289)\ttotal: 12.3s\tremaining: 3m 12s\n",
      "302:\tlearn: 0.4864993\ttest: 0.4942275\tbest: 0.4942177 (289)\ttotal: 12.4s\tremaining: 3m 12s\n",
      "303:\tlearn: 0.4864911\ttest: 0.4942178\tbest: 0.4942177 (289)\ttotal: 12.4s\tremaining: 3m 12s\n",
      "304:\tlearn: 0.4864901\ttest: 0.4942189\tbest: 0.4942177 (289)\ttotal: 12.5s\tremaining: 3m 11s\n",
      "305:\tlearn: 0.4864849\ttest: 0.4942192\tbest: 0.4942177 (289)\ttotal: 12.5s\tremaining: 3m 12s\n",
      "306:\tlearn: 0.4864775\ttest: 0.4942229\tbest: 0.4942177 (289)\ttotal: 12.6s\tremaining: 3m 12s\n",
      "307:\tlearn: 0.4864595\ttest: 0.4942220\tbest: 0.4942177 (289)\ttotal: 12.6s\tremaining: 3m 12s\n",
      "308:\tlearn: 0.4864571\ttest: 0.4942218\tbest: 0.4942177 (289)\ttotal: 12.7s\tremaining: 3m 12s\n",
      "309:\tlearn: 0.4864517\ttest: 0.4942213\tbest: 0.4942177 (289)\ttotal: 12.7s\tremaining: 3m 12s\n",
      "310:\tlearn: 0.4864444\ttest: 0.4942241\tbest: 0.4942177 (289)\ttotal: 12.7s\tremaining: 3m 12s\n",
      "311:\tlearn: 0.4864421\ttest: 0.4942236\tbest: 0.4942177 (289)\ttotal: 12.8s\tremaining: 3m 11s\n",
      "312:\tlearn: 0.4864352\ttest: 0.4942244\tbest: 0.4942177 (289)\ttotal: 12.8s\tremaining: 3m 11s\n",
      "313:\tlearn: 0.4864298\ttest: 0.4942245\tbest: 0.4942177 (289)\ttotal: 12.8s\tremaining: 3m 11s\n",
      "314:\tlearn: 0.4864254\ttest: 0.4942275\tbest: 0.4942177 (289)\ttotal: 12.9s\tremaining: 3m 11s\n",
      "315:\tlearn: 0.4864212\ttest: 0.4942270\tbest: 0.4942177 (289)\ttotal: 12.9s\tremaining: 3m 11s\n",
      "316:\tlearn: 0.4864137\ttest: 0.4942269\tbest: 0.4942177 (289)\ttotal: 13s\tremaining: 3m 11s\n",
      "317:\tlearn: 0.4864090\ttest: 0.4942281\tbest: 0.4942177 (289)\ttotal: 13s\tremaining: 3m 11s\n",
      "318:\tlearn: 0.4863986\ttest: 0.4942352\tbest: 0.4942177 (289)\ttotal: 13s\tremaining: 3m 11s\n",
      "319:\tlearn: 0.4863838\ttest: 0.4942371\tbest: 0.4942177 (289)\ttotal: 13.1s\tremaining: 3m 11s\n",
      "320:\tlearn: 0.4863786\ttest: 0.4942365\tbest: 0.4942177 (289)\ttotal: 13.1s\tremaining: 3m 11s\n",
      "321:\tlearn: 0.4863745\ttest: 0.4942402\tbest: 0.4942177 (289)\ttotal: 13.2s\tremaining: 3m 11s\n",
      "322:\tlearn: 0.4863705\ttest: 0.4942409\tbest: 0.4942177 (289)\ttotal: 13.2s\tremaining: 3m 11s\n",
      "323:\tlearn: 0.4863681\ttest: 0.4942390\tbest: 0.4942177 (289)\ttotal: 13.3s\tremaining: 3m 11s\n",
      "324:\tlearn: 0.4863607\ttest: 0.4942394\tbest: 0.4942177 (289)\ttotal: 13.3s\tremaining: 3m 11s\n",
      "325:\tlearn: 0.4863578\ttest: 0.4942382\tbest: 0.4942177 (289)\ttotal: 13.3s\tremaining: 3m 11s\n",
      "326:\tlearn: 0.4863509\ttest: 0.4942392\tbest: 0.4942177 (289)\ttotal: 13.4s\tremaining: 3m 10s\n",
      "327:\tlearn: 0.4863496\ttest: 0.4942387\tbest: 0.4942177 (289)\ttotal: 13.4s\tremaining: 3m 10s\n",
      "328:\tlearn: 0.4863449\ttest: 0.4942380\tbest: 0.4942177 (289)\ttotal: 13.4s\tremaining: 3m 10s\n",
      "329:\tlearn: 0.4863386\ttest: 0.4942392\tbest: 0.4942177 (289)\ttotal: 13.5s\tremaining: 3m 10s\n",
      "330:\tlearn: 0.4863117\ttest: 0.4942234\tbest: 0.4942177 (289)\ttotal: 13.5s\tremaining: 3m 10s\n",
      "331:\tlearn: 0.4863101\ttest: 0.4942232\tbest: 0.4942177 (289)\ttotal: 13.6s\tremaining: 3m 10s\n",
      "332:\tlearn: 0.4863098\ttest: 0.4942233\tbest: 0.4942177 (289)\ttotal: 13.6s\tremaining: 3m 10s\n",
      "333:\tlearn: 0.4863026\ttest: 0.4942213\tbest: 0.4942177 (289)\ttotal: 13.7s\tremaining: 3m 10s\n",
      "334:\tlearn: 0.4863016\ttest: 0.4942216\tbest: 0.4942177 (289)\ttotal: 13.7s\tremaining: 3m 10s\n",
      "335:\tlearn: 0.4862961\ttest: 0.4942266\tbest: 0.4942177 (289)\ttotal: 13.7s\tremaining: 3m 10s\n",
      "336:\tlearn: 0.4862855\ttest: 0.4942167\tbest: 0.4942167 (336)\ttotal: 13.8s\tremaining: 3m 10s\n",
      "337:\tlearn: 0.4862722\ttest: 0.4942167\tbest: 0.4942167 (337)\ttotal: 13.8s\tremaining: 3m 10s\n",
      "338:\tlearn: 0.4862680\ttest: 0.4942166\tbest: 0.4942166 (338)\ttotal: 13.9s\tremaining: 3m 10s\n",
      "339:\tlearn: 0.4862590\ttest: 0.4942190\tbest: 0.4942166 (338)\ttotal: 13.9s\tremaining: 3m 10s\n",
      "340:\tlearn: 0.4862534\ttest: 0.4942188\tbest: 0.4942166 (338)\ttotal: 13.9s\tremaining: 3m 10s\n",
      "341:\tlearn: 0.4862461\ttest: 0.4942215\tbest: 0.4942166 (338)\ttotal: 14s\tremaining: 3m 10s\n",
      "342:\tlearn: 0.4862413\ttest: 0.4942222\tbest: 0.4942166 (338)\ttotal: 14s\tremaining: 3m 10s\n",
      "343:\tlearn: 0.4862351\ttest: 0.4942236\tbest: 0.4942166 (338)\ttotal: 14s\tremaining: 3m 10s\n",
      "344:\tlearn: 0.4862343\ttest: 0.4942240\tbest: 0.4942166 (338)\ttotal: 14.1s\tremaining: 3m 10s\n",
      "345:\tlearn: 0.4862306\ttest: 0.4942240\tbest: 0.4942166 (338)\ttotal: 14.1s\tremaining: 3m 10s\n",
      "346:\tlearn: 0.4862286\ttest: 0.4942238\tbest: 0.4942166 (338)\ttotal: 14.2s\tremaining: 3m 10s\n",
      "347:\tlearn: 0.4862236\ttest: 0.4942265\tbest: 0.4942166 (338)\ttotal: 14.2s\tremaining: 3m 10s\n",
      "348:\tlearn: 0.4862137\ttest: 0.4942225\tbest: 0.4942166 (338)\ttotal: 14.3s\tremaining: 3m 10s\n",
      "349:\tlearn: 0.4862074\ttest: 0.4942231\tbest: 0.4942166 (338)\ttotal: 14.3s\tremaining: 3m 10s\n",
      "350:\tlearn: 0.4862043\ttest: 0.4942215\tbest: 0.4942166 (338)\ttotal: 14.4s\tremaining: 3m 10s\n",
      "351:\tlearn: 0.4862017\ttest: 0.4942205\tbest: 0.4942166 (338)\ttotal: 14.4s\tremaining: 3m 10s\n",
      "352:\tlearn: 0.4861988\ttest: 0.4942209\tbest: 0.4942166 (338)\ttotal: 14.4s\tremaining: 3m 10s\n",
      "353:\tlearn: 0.4861963\ttest: 0.4942227\tbest: 0.4942166 (338)\ttotal: 14.5s\tremaining: 3m 10s\n",
      "354:\tlearn: 0.4861946\ttest: 0.4942228\tbest: 0.4942166 (338)\ttotal: 14.5s\tremaining: 3m 10s\n",
      "355:\tlearn: 0.4861935\ttest: 0.4942245\tbest: 0.4942166 (338)\ttotal: 14.6s\tremaining: 3m 10s\n",
      "356:\tlearn: 0.4861912\ttest: 0.4942219\tbest: 0.4942166 (338)\ttotal: 14.6s\tremaining: 3m 10s\n",
      "357:\tlearn: 0.4861884\ttest: 0.4942218\tbest: 0.4942166 (338)\ttotal: 14.7s\tremaining: 3m 10s\n",
      "358:\tlearn: 0.4861841\ttest: 0.4942210\tbest: 0.4942166 (338)\ttotal: 14.7s\tremaining: 3m 10s\n",
      "359:\tlearn: 0.4861834\ttest: 0.4942206\tbest: 0.4942166 (338)\ttotal: 14.7s\tremaining: 3m 10s\n",
      "360:\tlearn: 0.4861823\ttest: 0.4942192\tbest: 0.4942166 (338)\ttotal: 14.8s\tremaining: 3m 9s\n",
      "361:\tlearn: 0.4861797\ttest: 0.4942194\tbest: 0.4942166 (338)\ttotal: 14.8s\tremaining: 3m 9s\n",
      "362:\tlearn: 0.4861640\ttest: 0.4942245\tbest: 0.4942166 (338)\ttotal: 14.9s\tremaining: 3m 9s\n",
      "363:\tlearn: 0.4861565\ttest: 0.4942256\tbest: 0.4942166 (338)\ttotal: 14.9s\tremaining: 3m 9s\n",
      "364:\tlearn: 0.4861543\ttest: 0.4942257\tbest: 0.4942166 (338)\ttotal: 14.9s\tremaining: 3m 9s\n",
      "365:\tlearn: 0.4861522\ttest: 0.4942251\tbest: 0.4942166 (338)\ttotal: 15s\tremaining: 3m 9s\n",
      "366:\tlearn: 0.4861327\ttest: 0.4942303\tbest: 0.4942166 (338)\ttotal: 15s\tremaining: 3m 9s\n",
      "367:\tlearn: 0.4861165\ttest: 0.4942285\tbest: 0.4942166 (338)\ttotal: 15.1s\tremaining: 3m 9s\n",
      "368:\tlearn: 0.4861058\ttest: 0.4942293\tbest: 0.4942166 (338)\ttotal: 15.1s\tremaining: 3m 9s\n",
      "369:\tlearn: 0.4861042\ttest: 0.4942296\tbest: 0.4942166 (338)\ttotal: 15.2s\tremaining: 3m 9s\n",
      "370:\tlearn: 0.4861028\ttest: 0.4942294\tbest: 0.4942166 (338)\ttotal: 15.2s\tremaining: 3m 9s\n",
      "371:\tlearn: 0.4860972\ttest: 0.4942298\tbest: 0.4942166 (338)\ttotal: 15.2s\tremaining: 3m 9s\n",
      "372:\tlearn: 0.4860929\ttest: 0.4942287\tbest: 0.4942166 (338)\ttotal: 15.3s\tremaining: 3m 9s\n",
      "373:\tlearn: 0.4860888\ttest: 0.4942269\tbest: 0.4942166 (338)\ttotal: 15.3s\tremaining: 3m 9s\n",
      "374:\tlearn: 0.4860861\ttest: 0.4942272\tbest: 0.4942166 (338)\ttotal: 15.4s\tremaining: 3m 9s\n",
      "375:\tlearn: 0.4860768\ttest: 0.4942285\tbest: 0.4942166 (338)\ttotal: 15.4s\tremaining: 3m 9s\n",
      "376:\tlearn: 0.4860748\ttest: 0.4942286\tbest: 0.4942166 (338)\ttotal: 15.5s\tremaining: 3m 10s\n"
     ]
    },
    {
     "name": "stdout",
     "output_type": "stream",
     "text": [
      "377:\tlearn: 0.4860704\ttest: 0.4942247\tbest: 0.4942166 (338)\ttotal: 15.5s\tremaining: 3m 10s\n",
      "378:\tlearn: 0.4860609\ttest: 0.4942251\tbest: 0.4942166 (338)\ttotal: 15.6s\tremaining: 3m 10s\n",
      "379:\tlearn: 0.4860576\ttest: 0.4942249\tbest: 0.4942166 (338)\ttotal: 15.6s\tremaining: 3m 10s\n",
      "380:\tlearn: 0.4860549\ttest: 0.4942244\tbest: 0.4942166 (338)\ttotal: 15.7s\tremaining: 3m 10s\n",
      "381:\tlearn: 0.4860516\ttest: 0.4942236\tbest: 0.4942166 (338)\ttotal: 15.7s\tremaining: 3m 10s\n",
      "382:\tlearn: 0.4860438\ttest: 0.4942167\tbest: 0.4942166 (338)\ttotal: 15.8s\tremaining: 3m 10s\n",
      "383:\tlearn: 0.4860399\ttest: 0.4942156\tbest: 0.4942156 (383)\ttotal: 15.8s\tremaining: 3m 10s\n",
      "384:\tlearn: 0.4860333\ttest: 0.4942143\tbest: 0.4942143 (384)\ttotal: 15.9s\tremaining: 3m 10s\n",
      "385:\tlearn: 0.4860320\ttest: 0.4942140\tbest: 0.4942140 (385)\ttotal: 15.9s\tremaining: 3m 10s\n",
      "386:\tlearn: 0.4860199\ttest: 0.4942118\tbest: 0.4942118 (386)\ttotal: 16s\tremaining: 3m 10s\n",
      "387:\tlearn: 0.4860122\ttest: 0.4942124\tbest: 0.4942118 (386)\ttotal: 16s\tremaining: 3m 10s\n",
      "388:\tlearn: 0.4860086\ttest: 0.4942137\tbest: 0.4942118 (386)\ttotal: 16s\tremaining: 3m 10s\n",
      "389:\tlearn: 0.4859956\ttest: 0.4942136\tbest: 0.4942118 (386)\ttotal: 16.1s\tremaining: 3m 10s\n",
      "390:\tlearn: 0.4859942\ttest: 0.4942134\tbest: 0.4942118 (386)\ttotal: 16.1s\tremaining: 3m 10s\n",
      "391:\tlearn: 0.4859747\ttest: 0.4941963\tbest: 0.4941963 (391)\ttotal: 16.2s\tremaining: 3m 10s\n",
      "392:\tlearn: 0.4859651\ttest: 0.4942018\tbest: 0.4941963 (391)\ttotal: 16.2s\tremaining: 3m 10s\n",
      "393:\tlearn: 0.4859600\ttest: 0.4942009\tbest: 0.4941963 (391)\ttotal: 16.3s\tremaining: 3m 10s\n",
      "394:\tlearn: 0.4859592\ttest: 0.4942009\tbest: 0.4941963 (391)\ttotal: 16.3s\tremaining: 3m 10s\n",
      "395:\tlearn: 0.4859581\ttest: 0.4942013\tbest: 0.4941963 (391)\ttotal: 16.4s\tremaining: 3m 10s\n",
      "396:\tlearn: 0.4859483\ttest: 0.4941973\tbest: 0.4941963 (391)\ttotal: 16.4s\tremaining: 3m 10s\n",
      "397:\tlearn: 0.4859340\ttest: 0.4941947\tbest: 0.4941947 (397)\ttotal: 16.4s\tremaining: 3m 10s\n",
      "398:\tlearn: 0.4859281\ttest: 0.4941909\tbest: 0.4941909 (398)\ttotal: 16.5s\tremaining: 3m 10s\n",
      "399:\tlearn: 0.4859257\ttest: 0.4941894\tbest: 0.4941894 (399)\ttotal: 16.5s\tremaining: 3m 10s\n",
      "400:\tlearn: 0.4859236\ttest: 0.4941894\tbest: 0.4941894 (399)\ttotal: 16.6s\tremaining: 3m 10s\n",
      "401:\tlearn: 0.4859195\ttest: 0.4941926\tbest: 0.4941894 (399)\ttotal: 16.6s\tremaining: 3m 10s\n",
      "402:\tlearn: 0.4859151\ttest: 0.4941934\tbest: 0.4941894 (399)\ttotal: 16.7s\tremaining: 3m 10s\n",
      "403:\tlearn: 0.4859136\ttest: 0.4941920\tbest: 0.4941894 (399)\ttotal: 16.7s\tremaining: 3m 10s\n",
      "404:\tlearn: 0.4859016\ttest: 0.4941864\tbest: 0.4941864 (404)\ttotal: 16.8s\tremaining: 3m 10s\n",
      "405:\tlearn: 0.4858984\ttest: 0.4941849\tbest: 0.4941849 (405)\ttotal: 16.8s\tremaining: 3m 10s\n",
      "406:\tlearn: 0.4858953\ttest: 0.4941852\tbest: 0.4941849 (405)\ttotal: 16.9s\tremaining: 3m 10s\n",
      "407:\tlearn: 0.4858937\ttest: 0.4941867\tbest: 0.4941849 (405)\ttotal: 16.9s\tremaining: 3m 10s\n",
      "408:\tlearn: 0.4858883\ttest: 0.4941865\tbest: 0.4941849 (405)\ttotal: 16.9s\tremaining: 3m 10s\n",
      "409:\tlearn: 0.4858848\ttest: 0.4941844\tbest: 0.4941844 (409)\ttotal: 17s\tremaining: 3m 10s\n",
      "410:\tlearn: 0.4858767\ttest: 0.4941849\tbest: 0.4941844 (409)\ttotal: 17s\tremaining: 3m 10s\n",
      "411:\tlearn: 0.4858629\ttest: 0.4941822\tbest: 0.4941822 (411)\ttotal: 17.1s\tremaining: 3m 9s\n",
      "412:\tlearn: 0.4858473\ttest: 0.4941786\tbest: 0.4941786 (412)\ttotal: 17.1s\tremaining: 3m 10s\n",
      "413:\tlearn: 0.4858402\ttest: 0.4941795\tbest: 0.4941786 (412)\ttotal: 17.2s\tremaining: 3m 10s\n",
      "414:\tlearn: 0.4858361\ttest: 0.4941823\tbest: 0.4941786 (412)\ttotal: 17.2s\tremaining: 3m 10s\n",
      "415:\tlearn: 0.4858302\ttest: 0.4941823\tbest: 0.4941786 (412)\ttotal: 17.3s\tremaining: 3m 10s\n",
      "416:\tlearn: 0.4858227\ttest: 0.4941831\tbest: 0.4941786 (412)\ttotal: 17.3s\tremaining: 3m 10s\n",
      "417:\tlearn: 0.4857975\ttest: 0.4941682\tbest: 0.4941682 (417)\ttotal: 17.4s\tremaining: 3m 11s\n",
      "418:\tlearn: 0.4857853\ttest: 0.4941733\tbest: 0.4941682 (417)\ttotal: 17.5s\tremaining: 3m 11s\n",
      "419:\tlearn: 0.4857771\ttest: 0.4941706\tbest: 0.4941682 (417)\ttotal: 17.6s\tremaining: 3m 11s\n",
      "420:\tlearn: 0.4857760\ttest: 0.4941701\tbest: 0.4941682 (417)\ttotal: 17.6s\tremaining: 3m 11s\n",
      "421:\tlearn: 0.4857725\ttest: 0.4941700\tbest: 0.4941682 (417)\ttotal: 17.6s\tremaining: 3m 11s\n",
      "422:\tlearn: 0.4857716\ttest: 0.4941698\tbest: 0.4941682 (417)\ttotal: 17.7s\tremaining: 3m 11s\n",
      "423:\tlearn: 0.4857657\ttest: 0.4941689\tbest: 0.4941682 (417)\ttotal: 17.7s\tremaining: 3m 11s\n",
      "424:\tlearn: 0.4857563\ttest: 0.4941808\tbest: 0.4941682 (417)\ttotal: 17.8s\tremaining: 3m 11s\n",
      "425:\tlearn: 0.4857537\ttest: 0.4941806\tbest: 0.4941682 (417)\ttotal: 17.8s\tremaining: 3m 11s\n",
      "426:\tlearn: 0.4857519\ttest: 0.4941798\tbest: 0.4941682 (417)\ttotal: 17.9s\tremaining: 3m 11s\n",
      "427:\tlearn: 0.4857480\ttest: 0.4941797\tbest: 0.4941682 (417)\ttotal: 17.9s\tremaining: 3m 11s\n",
      "428:\tlearn: 0.4857456\ttest: 0.4941793\tbest: 0.4941682 (417)\ttotal: 18s\tremaining: 3m 11s\n",
      "429:\tlearn: 0.4857428\ttest: 0.4941800\tbest: 0.4941682 (417)\ttotal: 18s\tremaining: 3m 11s\n",
      "430:\tlearn: 0.4857406\ttest: 0.4941792\tbest: 0.4941682 (417)\ttotal: 18.1s\tremaining: 3m 11s\n",
      "431:\tlearn: 0.4857388\ttest: 0.4941789\tbest: 0.4941682 (417)\ttotal: 18.1s\tremaining: 3m 11s\n",
      "432:\tlearn: 0.4857374\ttest: 0.4941789\tbest: 0.4941682 (417)\ttotal: 18.2s\tremaining: 3m 11s\n",
      "433:\tlearn: 0.4857328\ttest: 0.4941758\tbest: 0.4941682 (417)\ttotal: 18.2s\tremaining: 3m 11s\n",
      "434:\tlearn: 0.4857306\ttest: 0.4941765\tbest: 0.4941682 (417)\ttotal: 18.3s\tremaining: 3m 12s\n",
      "435:\tlearn: 0.4857276\ttest: 0.4941759\tbest: 0.4941682 (417)\ttotal: 18.4s\tremaining: 3m 12s\n",
      "436:\tlearn: 0.4857249\ttest: 0.4941747\tbest: 0.4941682 (417)\ttotal: 18.4s\tremaining: 3m 12s\n",
      "437:\tlearn: 0.4857228\ttest: 0.4941751\tbest: 0.4941682 (417)\ttotal: 18.5s\tremaining: 3m 12s\n",
      "438:\tlearn: 0.4857154\ttest: 0.4941803\tbest: 0.4941682 (417)\ttotal: 18.5s\tremaining: 3m 12s\n",
      "439:\tlearn: 0.4856970\ttest: 0.4941799\tbest: 0.4941682 (417)\ttotal: 18.6s\tremaining: 3m 12s\n",
      "440:\tlearn: 0.4856919\ttest: 0.4941773\tbest: 0.4941682 (417)\ttotal: 18.6s\tremaining: 3m 12s\n",
      "441:\tlearn: 0.4856907\ttest: 0.4941754\tbest: 0.4941682 (417)\ttotal: 18.6s\tremaining: 3m 12s\n",
      "442:\tlearn: 0.4856895\ttest: 0.4941745\tbest: 0.4941682 (417)\ttotal: 18.7s\tremaining: 3m 12s\n",
      "443:\tlearn: 0.4856838\ttest: 0.4941745\tbest: 0.4941682 (417)\ttotal: 18.7s\tremaining: 3m 12s\n",
      "444:\tlearn: 0.4856728\ttest: 0.4941772\tbest: 0.4941682 (417)\ttotal: 18.8s\tremaining: 3m 12s\n",
      "445:\tlearn: 0.4856611\ttest: 0.4941711\tbest: 0.4941682 (417)\ttotal: 18.8s\tremaining: 3m 12s\n",
      "446:\tlearn: 0.4856530\ttest: 0.4941718\tbest: 0.4941682 (417)\ttotal: 18.9s\tremaining: 3m 12s\n",
      "447:\tlearn: 0.4856519\ttest: 0.4941713\tbest: 0.4941682 (417)\ttotal: 18.9s\tremaining: 3m 12s\n",
      "448:\tlearn: 0.4856495\ttest: 0.4941725\tbest: 0.4941682 (417)\ttotal: 19s\tremaining: 3m 12s\n",
      "449:\tlearn: 0.4856432\ttest: 0.4941737\tbest: 0.4941682 (417)\ttotal: 19s\tremaining: 3m 11s\n",
      "450:\tlearn: 0.4856308\ttest: 0.4941620\tbest: 0.4941620 (450)\ttotal: 19s\tremaining: 3m 11s\n",
      "451:\tlearn: 0.4856273\ttest: 0.4941593\tbest: 0.4941593 (451)\ttotal: 19.1s\tremaining: 3m 12s\n",
      "452:\tlearn: 0.4856252\ttest: 0.4941606\tbest: 0.4941593 (451)\ttotal: 19.1s\tremaining: 3m 12s\n",
      "453:\tlearn: 0.4856170\ttest: 0.4941615\tbest: 0.4941593 (451)\ttotal: 19.2s\tremaining: 3m 12s\n",
      "454:\tlearn: 0.4856081\ttest: 0.4941606\tbest: 0.4941593 (451)\ttotal: 19.2s\tremaining: 3m 12s\n",
      "455:\tlearn: 0.4856055\ttest: 0.4941618\tbest: 0.4941593 (451)\ttotal: 19.3s\tremaining: 3m 12s\n",
      "456:\tlearn: 0.4856035\ttest: 0.4941612\tbest: 0.4941593 (451)\ttotal: 19.3s\tremaining: 3m 11s\n",
      "457:\tlearn: 0.4856013\ttest: 0.4941617\tbest: 0.4941593 (451)\ttotal: 19.3s\tremaining: 3m 11s\n",
      "458:\tlearn: 0.4855972\ttest: 0.4941615\tbest: 0.4941593 (451)\ttotal: 19.4s\tremaining: 3m 11s\n",
      "459:\tlearn: 0.4855951\ttest: 0.4941620\tbest: 0.4941593 (451)\ttotal: 19.4s\tremaining: 3m 11s\n",
      "460:\tlearn: 0.4855825\ttest: 0.4941590\tbest: 0.4941590 (460)\ttotal: 19.5s\tremaining: 3m 11s\n",
      "461:\tlearn: 0.4855808\ttest: 0.4941562\tbest: 0.4941562 (461)\ttotal: 19.5s\tremaining: 3m 11s\n",
      "462:\tlearn: 0.4855757\ttest: 0.4941591\tbest: 0.4941562 (461)\ttotal: 19.5s\tremaining: 3m 11s\n",
      "463:\tlearn: 0.4855736\ttest: 0.4941608\tbest: 0.4941562 (461)\ttotal: 19.6s\tremaining: 3m 11s\n",
      "464:\tlearn: 0.4855670\ttest: 0.4941619\tbest: 0.4941562 (461)\ttotal: 19.6s\tremaining: 3m 11s\n",
      "465:\tlearn: 0.4855609\ttest: 0.4941639\tbest: 0.4941562 (461)\ttotal: 19.7s\tremaining: 3m 11s\n",
      "466:\tlearn: 0.4855546\ttest: 0.4941701\tbest: 0.4941562 (461)\ttotal: 19.7s\tremaining: 3m 11s\n",
      "467:\tlearn: 0.4855525\ttest: 0.4941706\tbest: 0.4941562 (461)\ttotal: 19.8s\tremaining: 3m 11s\n",
      "468:\tlearn: 0.4855371\ttest: 0.4941679\tbest: 0.4941562 (461)\ttotal: 19.8s\tremaining: 3m 11s\n",
      "469:\tlearn: 0.4855337\ttest: 0.4941683\tbest: 0.4941562 (461)\ttotal: 19.8s\tremaining: 3m 11s\n",
      "470:\tlearn: 0.4855320\ttest: 0.4941685\tbest: 0.4941562 (461)\ttotal: 19.9s\tremaining: 3m 11s\n",
      "471:\tlearn: 0.4855297\ttest: 0.4941668\tbest: 0.4941562 (461)\ttotal: 19.9s\tremaining: 3m 10s\n",
      "472:\tlearn: 0.4855249\ttest: 0.4941636\tbest: 0.4941562 (461)\ttotal: 19.9s\tremaining: 3m 10s\n"
     ]
    },
    {
     "name": "stdout",
     "output_type": "stream",
     "text": [
      "473:\tlearn: 0.4855239\ttest: 0.4941639\tbest: 0.4941562 (461)\ttotal: 20s\tremaining: 3m 10s\n",
      "474:\tlearn: 0.4855099\ttest: 0.4941581\tbest: 0.4941562 (461)\ttotal: 20s\tremaining: 3m 10s\n",
      "475:\tlearn: 0.4854985\ttest: 0.4941543\tbest: 0.4941543 (475)\ttotal: 20.1s\tremaining: 3m 10s\n",
      "476:\tlearn: 0.4854974\ttest: 0.4941549\tbest: 0.4941543 (475)\ttotal: 20.1s\tremaining: 3m 10s\n",
      "477:\tlearn: 0.4854904\ttest: 0.4941538\tbest: 0.4941538 (477)\ttotal: 20.1s\tremaining: 3m 10s\n",
      "478:\tlearn: 0.4854852\ttest: 0.4941540\tbest: 0.4941538 (477)\ttotal: 20.2s\tremaining: 3m 10s\n",
      "479:\tlearn: 0.4854816\ttest: 0.4941544\tbest: 0.4941538 (477)\ttotal: 20.2s\tremaining: 3m 10s\n",
      "480:\tlearn: 0.4854741\ttest: 0.4941561\tbest: 0.4941538 (477)\ttotal: 20.3s\tremaining: 3m 10s\n",
      "481:\tlearn: 0.4854725\ttest: 0.4941557\tbest: 0.4941538 (477)\ttotal: 20.3s\tremaining: 3m 10s\n",
      "482:\tlearn: 0.4854653\ttest: 0.4941561\tbest: 0.4941538 (477)\ttotal: 20.3s\tremaining: 3m 10s\n",
      "483:\tlearn: 0.4854609\ttest: 0.4941599\tbest: 0.4941538 (477)\ttotal: 20.4s\tremaining: 3m 10s\n",
      "484:\tlearn: 0.4854511\ttest: 0.4941604\tbest: 0.4941538 (477)\ttotal: 20.5s\tremaining: 3m 10s\n",
      "485:\tlearn: 0.4854448\ttest: 0.4941640\tbest: 0.4941538 (477)\ttotal: 20.5s\tremaining: 3m 10s\n",
      "486:\tlearn: 0.4854430\ttest: 0.4941651\tbest: 0.4941538 (477)\ttotal: 20.5s\tremaining: 3m 10s\n",
      "487:\tlearn: 0.4854382\ttest: 0.4941662\tbest: 0.4941538 (477)\ttotal: 20.6s\tremaining: 3m 10s\n",
      "488:\tlearn: 0.4854330\ttest: 0.4941676\tbest: 0.4941538 (477)\ttotal: 20.6s\tremaining: 3m 10s\n",
      "489:\tlearn: 0.4854315\ttest: 0.4941675\tbest: 0.4941538 (477)\ttotal: 20.7s\tremaining: 3m 10s\n",
      "490:\tlearn: 0.4854254\ttest: 0.4941695\tbest: 0.4941538 (477)\ttotal: 20.7s\tremaining: 3m 10s\n",
      "491:\tlearn: 0.4854212\ttest: 0.4941701\tbest: 0.4941538 (477)\ttotal: 20.7s\tremaining: 3m 10s\n",
      "492:\tlearn: 0.4854161\ttest: 0.4941720\tbest: 0.4941538 (477)\ttotal: 20.8s\tremaining: 3m 9s\n",
      "493:\tlearn: 0.4854095\ttest: 0.4941673\tbest: 0.4941538 (477)\ttotal: 20.8s\tremaining: 3m 9s\n",
      "494:\tlearn: 0.4854055\ttest: 0.4941668\tbest: 0.4941538 (477)\ttotal: 20.9s\tremaining: 3m 9s\n",
      "495:\tlearn: 0.4853969\ttest: 0.4941635\tbest: 0.4941538 (477)\ttotal: 20.9s\tremaining: 3m 9s\n",
      "496:\tlearn: 0.4853864\ttest: 0.4941603\tbest: 0.4941538 (477)\ttotal: 20.9s\tremaining: 3m 9s\n",
      "497:\tlearn: 0.4853824\ttest: 0.4941585\tbest: 0.4941538 (477)\ttotal: 21s\tremaining: 3m 9s\n",
      "498:\tlearn: 0.4853737\ttest: 0.4941595\tbest: 0.4941538 (477)\ttotal: 21.1s\tremaining: 3m 9s\n",
      "499:\tlearn: 0.4853694\ttest: 0.4941591\tbest: 0.4941538 (477)\ttotal: 21.1s\tremaining: 3m 9s\n",
      "500:\tlearn: 0.4853641\ttest: 0.4941558\tbest: 0.4941538 (477)\ttotal: 21.1s\tremaining: 3m 9s\n",
      "501:\tlearn: 0.4853600\ttest: 0.4941585\tbest: 0.4941538 (477)\ttotal: 21.2s\tremaining: 3m 9s\n",
      "502:\tlearn: 0.4853589\ttest: 0.4941588\tbest: 0.4941538 (477)\ttotal: 21.2s\tremaining: 3m 9s\n",
      "503:\tlearn: 0.4853537\ttest: 0.4941552\tbest: 0.4941538 (477)\ttotal: 21.3s\tremaining: 3m 9s\n",
      "504:\tlearn: 0.4853493\ttest: 0.4941598\tbest: 0.4941538 (477)\ttotal: 21.3s\tremaining: 3m 9s\n",
      "505:\tlearn: 0.4853395\ttest: 0.4941619\tbest: 0.4941538 (477)\ttotal: 21.3s\tremaining: 3m 9s\n",
      "506:\tlearn: 0.4853306\ttest: 0.4941607\tbest: 0.4941538 (477)\ttotal: 21.4s\tremaining: 3m 9s\n",
      "507:\tlearn: 0.4853288\ttest: 0.4941609\tbest: 0.4941538 (477)\ttotal: 21.4s\tremaining: 3m 9s\n",
      "508:\tlearn: 0.4853276\ttest: 0.4941601\tbest: 0.4941538 (477)\ttotal: 21.5s\tremaining: 3m 9s\n",
      "509:\tlearn: 0.4853065\ttest: 0.4941426\tbest: 0.4941426 (509)\ttotal: 21.5s\tremaining: 3m 9s\n",
      "510:\tlearn: 0.4853032\ttest: 0.4941413\tbest: 0.4941413 (510)\ttotal: 21.5s\tremaining: 3m 9s\n",
      "511:\tlearn: 0.4853002\ttest: 0.4941417\tbest: 0.4941413 (510)\ttotal: 21.6s\tremaining: 3m 9s\n",
      "512:\tlearn: 0.4852959\ttest: 0.4941428\tbest: 0.4941413 (510)\ttotal: 21.6s\tremaining: 3m 8s\n",
      "513:\tlearn: 0.4852945\ttest: 0.4941440\tbest: 0.4941413 (510)\ttotal: 21.6s\tremaining: 3m 8s\n",
      "514:\tlearn: 0.4852817\ttest: 0.4941462\tbest: 0.4941413 (510)\ttotal: 21.7s\tremaining: 3m 8s\n",
      "515:\tlearn: 0.4852775\ttest: 0.4941445\tbest: 0.4941413 (510)\ttotal: 21.7s\tremaining: 3m 8s\n",
      "516:\tlearn: 0.4852668\ttest: 0.4941496\tbest: 0.4941413 (510)\ttotal: 21.8s\tremaining: 3m 8s\n",
      "517:\tlearn: 0.4852659\ttest: 0.4941491\tbest: 0.4941413 (510)\ttotal: 21.8s\tremaining: 3m 8s\n",
      "518:\tlearn: 0.4852641\ttest: 0.4941487\tbest: 0.4941413 (510)\ttotal: 21.8s\tremaining: 3m 8s\n",
      "519:\tlearn: 0.4852611\ttest: 0.4941484\tbest: 0.4941413 (510)\ttotal: 21.9s\tremaining: 3m 8s\n",
      "520:\tlearn: 0.4852588\ttest: 0.4941544\tbest: 0.4941413 (510)\ttotal: 21.9s\tremaining: 3m 8s\n",
      "521:\tlearn: 0.4852537\ttest: 0.4941565\tbest: 0.4941413 (510)\ttotal: 22s\tremaining: 3m 8s\n",
      "522:\tlearn: 0.4852479\ttest: 0.4941526\tbest: 0.4941413 (510)\ttotal: 22s\tremaining: 3m 8s\n",
      "523:\tlearn: 0.4852465\ttest: 0.4941530\tbest: 0.4941413 (510)\ttotal: 22s\tremaining: 3m 8s\n",
      "524:\tlearn: 0.4852447\ttest: 0.4941520\tbest: 0.4941413 (510)\ttotal: 22.1s\tremaining: 3m 8s\n",
      "525:\tlearn: 0.4852420\ttest: 0.4941554\tbest: 0.4941413 (510)\ttotal: 22.1s\tremaining: 3m 8s\n",
      "526:\tlearn: 0.4852371\ttest: 0.4941554\tbest: 0.4941413 (510)\ttotal: 22.2s\tremaining: 3m 8s\n",
      "527:\tlearn: 0.4852334\ttest: 0.4941555\tbest: 0.4941413 (510)\ttotal: 22.2s\tremaining: 3m 8s\n",
      "528:\tlearn: 0.4852324\ttest: 0.4941557\tbest: 0.4941413 (510)\ttotal: 22.3s\tremaining: 3m 8s\n",
      "529:\tlearn: 0.4852236\ttest: 0.4941571\tbest: 0.4941413 (510)\ttotal: 22.3s\tremaining: 3m 8s\n",
      "530:\tlearn: 0.4852206\ttest: 0.4941567\tbest: 0.4941413 (510)\ttotal: 22.3s\tremaining: 3m 7s\n",
      "531:\tlearn: 0.4852148\ttest: 0.4941564\tbest: 0.4941413 (510)\ttotal: 22.4s\tremaining: 3m 7s\n",
      "532:\tlearn: 0.4852114\ttest: 0.4941589\tbest: 0.4941413 (510)\ttotal: 22.4s\tremaining: 3m 7s\n",
      "533:\tlearn: 0.4852076\ttest: 0.4941532\tbest: 0.4941413 (510)\ttotal: 22.5s\tremaining: 3m 7s\n",
      "534:\tlearn: 0.4852050\ttest: 0.4941526\tbest: 0.4941413 (510)\ttotal: 22.5s\tremaining: 3m 7s\n",
      "535:\tlearn: 0.4852033\ttest: 0.4941524\tbest: 0.4941413 (510)\ttotal: 22.5s\tremaining: 3m 7s\n",
      "536:\tlearn: 0.4851990\ttest: 0.4941514\tbest: 0.4941413 (510)\ttotal: 22.6s\tremaining: 3m 7s\n",
      "537:\tlearn: 0.4851941\ttest: 0.4941504\tbest: 0.4941413 (510)\ttotal: 22.6s\tremaining: 3m 7s\n",
      "538:\tlearn: 0.4851920\ttest: 0.4941504\tbest: 0.4941413 (510)\ttotal: 22.7s\tremaining: 3m 7s\n",
      "539:\tlearn: 0.4851900\ttest: 0.4941529\tbest: 0.4941413 (510)\ttotal: 22.7s\tremaining: 3m 7s\n",
      "540:\tlearn: 0.4851817\ttest: 0.4941529\tbest: 0.4941413 (510)\ttotal: 22.7s\tremaining: 3m 7s\n",
      "541:\tlearn: 0.4851788\ttest: 0.4941527\tbest: 0.4941413 (510)\ttotal: 22.8s\tremaining: 3m 7s\n",
      "542:\tlearn: 0.4851756\ttest: 0.4941535\tbest: 0.4941413 (510)\ttotal: 22.8s\tremaining: 3m 7s\n",
      "543:\tlearn: 0.4851674\ttest: 0.4941598\tbest: 0.4941413 (510)\ttotal: 22.9s\tremaining: 3m 7s\n",
      "544:\tlearn: 0.4851626\ttest: 0.4941598\tbest: 0.4941413 (510)\ttotal: 22.9s\tremaining: 3m 7s\n",
      "545:\tlearn: 0.4851558\ttest: 0.4941621\tbest: 0.4941413 (510)\ttotal: 22.9s\tremaining: 3m 7s\n",
      "546:\tlearn: 0.4851517\ttest: 0.4941635\tbest: 0.4941413 (510)\ttotal: 23s\tremaining: 3m 6s\n",
      "547:\tlearn: 0.4851438\ttest: 0.4941668\tbest: 0.4941413 (510)\ttotal: 23s\tremaining: 3m 6s\n",
      "548:\tlearn: 0.4851414\ttest: 0.4941664\tbest: 0.4941413 (510)\ttotal: 23.1s\tremaining: 3m 6s\n",
      "549:\tlearn: 0.4851304\ttest: 0.4941736\tbest: 0.4941413 (510)\ttotal: 23.1s\tremaining: 3m 6s\n",
      "550:\tlearn: 0.4851240\ttest: 0.4941760\tbest: 0.4941413 (510)\ttotal: 23.1s\tremaining: 3m 6s\n",
      "551:\tlearn: 0.4851218\ttest: 0.4941759\tbest: 0.4941413 (510)\ttotal: 23.2s\tremaining: 3m 6s\n",
      "552:\tlearn: 0.4851183\ttest: 0.4941717\tbest: 0.4941413 (510)\ttotal: 23.2s\tremaining: 3m 6s\n",
      "553:\tlearn: 0.4851117\ttest: 0.4941733\tbest: 0.4941413 (510)\ttotal: 23.3s\tremaining: 3m 6s\n",
      "554:\tlearn: 0.4851074\ttest: 0.4941703\tbest: 0.4941413 (510)\ttotal: 23.3s\tremaining: 3m 6s\n",
      "555:\tlearn: 0.4851061\ttest: 0.4941725\tbest: 0.4941413 (510)\ttotal: 23.4s\tremaining: 3m 6s\n",
      "556:\tlearn: 0.4851025\ttest: 0.4941751\tbest: 0.4941413 (510)\ttotal: 23.4s\tremaining: 3m 6s\n",
      "557:\tlearn: 0.4851014\ttest: 0.4941754\tbest: 0.4941413 (510)\ttotal: 23.4s\tremaining: 3m 6s\n",
      "558:\tlearn: 0.4850993\ttest: 0.4941756\tbest: 0.4941413 (510)\ttotal: 23.5s\tremaining: 3m 6s\n",
      "559:\tlearn: 0.4850988\ttest: 0.4941756\tbest: 0.4941413 (510)\ttotal: 23.5s\tremaining: 3m 6s\n",
      "560:\tlearn: 0.4850922\ttest: 0.4941752\tbest: 0.4941413 (510)\ttotal: 23.6s\tremaining: 3m 6s\n",
      "561:\tlearn: 0.4850905\ttest: 0.4941752\tbest: 0.4941413 (510)\ttotal: 23.6s\tremaining: 3m 6s\n",
      "562:\tlearn: 0.4850890\ttest: 0.4941763\tbest: 0.4941413 (510)\ttotal: 23.6s\tremaining: 3m 6s\n",
      "563:\tlearn: 0.4850859\ttest: 0.4941748\tbest: 0.4941413 (510)\ttotal: 23.7s\tremaining: 3m 6s\n",
      "564:\tlearn: 0.4850797\ttest: 0.4941733\tbest: 0.4941413 (510)\ttotal: 23.7s\tremaining: 3m 6s\n",
      "565:\tlearn: 0.4850792\ttest: 0.4941733\tbest: 0.4941413 (510)\ttotal: 23.8s\tremaining: 3m 6s\n"
     ]
    },
    {
     "name": "stdout",
     "output_type": "stream",
     "text": [
      "566:\tlearn: 0.4850751\ttest: 0.4941718\tbest: 0.4941413 (510)\ttotal: 23.8s\tremaining: 3m 6s\n",
      "567:\tlearn: 0.4850682\ttest: 0.4941723\tbest: 0.4941413 (510)\ttotal: 23.8s\tremaining: 3m 6s\n",
      "568:\tlearn: 0.4850629\ttest: 0.4941725\tbest: 0.4941413 (510)\ttotal: 23.9s\tremaining: 3m 6s\n",
      "569:\tlearn: 0.4850616\ttest: 0.4941716\tbest: 0.4941413 (510)\ttotal: 23.9s\tremaining: 3m 5s\n",
      "570:\tlearn: 0.4850605\ttest: 0.4941716\tbest: 0.4941413 (510)\ttotal: 24s\tremaining: 3m 5s\n",
      "571:\tlearn: 0.4850538\ttest: 0.4941761\tbest: 0.4941413 (510)\ttotal: 24s\tremaining: 3m 5s\n",
      "572:\tlearn: 0.4850509\ttest: 0.4941763\tbest: 0.4941413 (510)\ttotal: 24s\tremaining: 3m 5s\n",
      "573:\tlearn: 0.4850452\ttest: 0.4941739\tbest: 0.4941413 (510)\ttotal: 24.1s\tremaining: 3m 5s\n",
      "574:\tlearn: 0.4850443\ttest: 0.4941750\tbest: 0.4941413 (510)\ttotal: 24.1s\tremaining: 3m 5s\n",
      "575:\tlearn: 0.4850366\ttest: 0.4941777\tbest: 0.4941413 (510)\ttotal: 24.2s\tremaining: 3m 5s\n",
      "576:\tlearn: 0.4850315\ttest: 0.4941780\tbest: 0.4941413 (510)\ttotal: 24.2s\tremaining: 3m 5s\n",
      "577:\tlearn: 0.4850256\ttest: 0.4941805\tbest: 0.4941413 (510)\ttotal: 24.2s\tremaining: 3m 5s\n",
      "578:\tlearn: 0.4850206\ttest: 0.4941817\tbest: 0.4941413 (510)\ttotal: 24.3s\tremaining: 3m 5s\n",
      "579:\tlearn: 0.4850144\ttest: 0.4941816\tbest: 0.4941413 (510)\ttotal: 24.3s\tremaining: 3m 5s\n",
      "580:\tlearn: 0.4850071\ttest: 0.4941832\tbest: 0.4941413 (510)\ttotal: 24.4s\tremaining: 3m 5s\n",
      "581:\tlearn: 0.4849968\ttest: 0.4941788\tbest: 0.4941413 (510)\ttotal: 24.4s\tremaining: 3m 5s\n",
      "582:\tlearn: 0.4849768\ttest: 0.4941746\tbest: 0.4941413 (510)\ttotal: 24.5s\tremaining: 3m 5s\n",
      "583:\tlearn: 0.4849724\ttest: 0.4941751\tbest: 0.4941413 (510)\ttotal: 24.5s\tremaining: 3m 5s\n",
      "584:\tlearn: 0.4849661\ttest: 0.4941758\tbest: 0.4941413 (510)\ttotal: 24.5s\tremaining: 3m 5s\n",
      "585:\tlearn: 0.4849616\ttest: 0.4941769\tbest: 0.4941413 (510)\ttotal: 24.6s\tremaining: 3m 5s\n",
      "586:\tlearn: 0.4849556\ttest: 0.4941719\tbest: 0.4941413 (510)\ttotal: 24.6s\tremaining: 3m 5s\n",
      "587:\tlearn: 0.4849527\ttest: 0.4941734\tbest: 0.4941413 (510)\ttotal: 24.7s\tremaining: 3m 5s\n",
      "588:\tlearn: 0.4849473\ttest: 0.4941751\tbest: 0.4941413 (510)\ttotal: 24.7s\tremaining: 3m 5s\n",
      "589:\tlearn: 0.4849445\ttest: 0.4941824\tbest: 0.4941413 (510)\ttotal: 24.8s\tremaining: 3m 5s\n",
      "590:\tlearn: 0.4849429\ttest: 0.4941825\tbest: 0.4941413 (510)\ttotal: 24.8s\tremaining: 3m 4s\n",
      "591:\tlearn: 0.4849388\ttest: 0.4941854\tbest: 0.4941413 (510)\ttotal: 24.8s\tremaining: 3m 4s\n",
      "592:\tlearn: 0.4849372\ttest: 0.4941858\tbest: 0.4941413 (510)\ttotal: 24.9s\tremaining: 3m 4s\n",
      "593:\tlearn: 0.4849321\ttest: 0.4941846\tbest: 0.4941413 (510)\ttotal: 24.9s\tremaining: 3m 4s\n",
      "594:\tlearn: 0.4849265\ttest: 0.4941843\tbest: 0.4941413 (510)\ttotal: 25s\tremaining: 3m 4s\n",
      "595:\tlearn: 0.4849233\ttest: 0.4941832\tbest: 0.4941413 (510)\ttotal: 25s\tremaining: 3m 4s\n",
      "596:\tlearn: 0.4849192\ttest: 0.4941851\tbest: 0.4941413 (510)\ttotal: 25s\tremaining: 3m 4s\n",
      "597:\tlearn: 0.4849155\ttest: 0.4941854\tbest: 0.4941413 (510)\ttotal: 25.1s\tremaining: 3m 4s\n",
      "598:\tlearn: 0.4849071\ttest: 0.4941802\tbest: 0.4941413 (510)\ttotal: 25.1s\tremaining: 3m 4s\n",
      "599:\tlearn: 0.4849069\ttest: 0.4941801\tbest: 0.4941413 (510)\ttotal: 25.2s\tremaining: 3m 4s\n",
      "600:\tlearn: 0.4848989\ttest: 0.4941783\tbest: 0.4941413 (510)\ttotal: 25.2s\tremaining: 3m 4s\n",
      "601:\tlearn: 0.4848948\ttest: 0.4941788\tbest: 0.4941413 (510)\ttotal: 25.3s\tremaining: 3m 4s\n",
      "602:\tlearn: 0.4848938\ttest: 0.4941784\tbest: 0.4941413 (510)\ttotal: 25.3s\tremaining: 3m 4s\n",
      "603:\tlearn: 0.4848912\ttest: 0.4941781\tbest: 0.4941413 (510)\ttotal: 25.3s\tremaining: 3m 4s\n",
      "604:\tlearn: 0.4848893\ttest: 0.4941758\tbest: 0.4941413 (510)\ttotal: 25.4s\tremaining: 3m 4s\n",
      "605:\tlearn: 0.4848876\ttest: 0.4941762\tbest: 0.4941413 (510)\ttotal: 25.4s\tremaining: 3m 4s\n",
      "606:\tlearn: 0.4848841\ttest: 0.4941780\tbest: 0.4941413 (510)\ttotal: 25.4s\tremaining: 3m 4s\n",
      "607:\tlearn: 0.4848776\ttest: 0.4941788\tbest: 0.4941413 (510)\ttotal: 25.5s\tremaining: 3m 4s\n",
      "608:\tlearn: 0.4848754\ttest: 0.4941825\tbest: 0.4941413 (510)\ttotal: 25.5s\tremaining: 3m 4s\n",
      "609:\tlearn: 0.4848686\ttest: 0.4941807\tbest: 0.4941413 (510)\ttotal: 25.6s\tremaining: 3m 4s\n",
      "610:\tlearn: 0.4848589\ttest: 0.4941865\tbest: 0.4941413 (510)\ttotal: 25.6s\tremaining: 3m 4s\n",
      "Stopped by overfitting detector  (100 iterations wait)\n",
      "\n",
      "bestTest = 0.4941412689\n",
      "bestIteration = 510\n",
      "\n",
      "Shrink model to first 511 iterations.\n"
     ]
    },
    {
     "data": {
      "text/plain": [
       "<catboost.core.CatBoostClassifier at 0x7f8d0173ba00>"
      ]
     },
     "execution_count": 64,
     "metadata": {},
     "output_type": "execute_result"
    }
   ],
   "source": [
    "cbm_classifier.fit(\n",
    "    X_train, y_train,\n",
    "    eval_set=(X_test, y_test),\n",
    "    early_stopping_rounds = 100, # to avoid overfitting,\n",
    "    cat_features = CATEGORICAL_COLS \n",
    ")"
   ]
  },
  {
   "cell_type": "markdown",
   "metadata": {},
   "source": [
    "## 2.5.3. Model Evaluation"
   ]
  },
  {
   "cell_type": "markdown",
   "metadata": {},
   "source": [
    "Let's make basic shapley plot to investigate feature importance"
   ]
  },
  {
   "cell_type": "code",
   "execution_count": 65,
   "metadata": {},
   "outputs": [],
   "source": [
    "explainer = shap.TreeExplainer(cbm_classifier)\n",
    "shap_values = explainer.shap_values(X_train)"
   ]
  },
  {
   "cell_type": "code",
   "execution_count": 66,
   "metadata": {},
   "outputs": [
    {
     "data": {
      "image/png": "[encoded data removed]",
      "text/plain": [
       "<Figure size 800x510 with 1 Axes>"
      ]
     },
     "metadata": {},
     "output_type": "display_data"
    }
   ],
   "source": [
    "shap.summary_plot(shap_values, X_train, show = False, color_bar = False)"
   ]
  },
  {
   "cell_type": "code",
   "execution_count": 67,
   "metadata": {},
   "outputs": [],
   "source": [
    "# predictions on test\n",
    "y_test_pred = cbm_classifier.predict_proba(X_test)"
   ]
  },
  {
   "cell_type": "code",
   "execution_count": 68,
   "metadata": {},
   "outputs": [
    {
     "name": "stdout",
     "output_type": "stream",
     "text": [
      "ROC AUC score = 0.68\n"
     ]
    }
   ],
   "source": [
    "from sklearn.metrics import roc_auc_score\n",
    "\n",
    "print(f\"ROC AUC score = {roc_auc_score(y_test, y_test_pred[:, 1]):.2f}\")"
   ]
  },
  {
   "cell_type": "markdown",
   "metadata": {},
   "source": [
    "# TODO\n",
    "- Estimate the performance of the model on the test set using Precision@K, MRR, MAP@K: LightFM seperately, LightFM + Ranker"
   ]
  },
  {
   "cell_type": "markdown",
   "metadata": {},
   "source": [
    "## LightFM"
   ]
  },
  {
   "cell_type": "code",
   "execution_count": 69,
   "metadata": {},
   "outputs": [],
   "source": [
    "# your code should be here\n",
    "def precision_k(y_true: np.array, y_pred: np.array, k: int) -> float:\n",
    "    \"\"\"\n",
    "    y_true: true labels\n",
    "    y_pred: predicted lables\n",
    "    k: cutoff length\n",
    "    \"\"\"\n",
    "\n",
    "    # delete condition for positive_results\n",
    "    if sum(y_true) == 0:\n",
    "        return -1\n",
    "\n",
    "    argsort = np.argsort(y_pred)[::-1]\n",
    "    y_true_sorted = y_true[argsort]\n",
    "    true_positives = y_true_sorted[:k].sum()\n",
    "\n",
    "    return true_positives / k"
   ]
  },
  {
   "cell_type": "code",
   "execution_count": 70,
   "metadata": {},
   "outputs": [
    {
     "data": {
      "text/html": [
       "<div>\n",
       "<style scoped>\n",
       "    .dataframe tbody tr th:only-of-type {\n",
       "        vertical-align: middle;\n",
       "    }\n",
       "\n",
       "    .dataframe tbody tr th {\n",
       "        vertical-align: top;\n",
       "    }\n",
       "\n",
       "    .dataframe thead th {\n",
       "        text-align: right;\n",
       "    }\n",
       "</style>\n",
       "<table border=\"1\" class=\"dataframe\">\n",
       "  <thead>\n",
       "    <tr style=\"text-align: right;\">\n",
       "      <th></th>\n",
       "      <th>user_id</th>\n",
       "      <th>item_id</th>\n",
       "      <th>last_watch_dt</th>\n",
       "      <th>total_dur</th>\n",
       "      <th>watched_pct</th>\n",
       "    </tr>\n",
       "  </thead>\n",
       "  <tbody>\n",
       "    <tr>\n",
       "      <th>0</th>\n",
       "      <td>176549</td>\n",
       "      <td>9506</td>\n",
       "      <td>2021-05-11</td>\n",
       "      <td>4250</td>\n",
       "      <td>72.000</td>\n",
       "    </tr>\n",
       "    <tr>\n",
       "      <th>1</th>\n",
       "      <td>699317</td>\n",
       "      <td>1659</td>\n",
       "      <td>2021-05-29</td>\n",
       "      <td>8317</td>\n",
       "      <td>100.000</td>\n",
       "    </tr>\n",
       "    <tr>\n",
       "      <th>2</th>\n",
       "      <td>864613</td>\n",
       "      <td>7638</td>\n",
       "      <td>2021-07-05</td>\n",
       "      <td>14483</td>\n",
       "      <td>100.000</td>\n",
       "    </tr>\n",
       "    <tr>\n",
       "      <th>3</th>\n",
       "      <td>964868</td>\n",
       "      <td>9506</td>\n",
       "      <td>2021-04-30</td>\n",
       "      <td>6725</td>\n",
       "      <td>100.000</td>\n",
       "    </tr>\n",
       "    <tr>\n",
       "      <th>4</th>\n",
       "      <td>1032142</td>\n",
       "      <td>6686</td>\n",
       "      <td>2021-05-13</td>\n",
       "      <td>11286</td>\n",
       "      <td>100.000</td>\n",
       "    </tr>\n",
       "  </tbody>\n",
       "</table>\n",
       "</div>"
      ],
      "text/plain": [
       "   user_id  item_id last_watch_dt  total_dur  watched_pct\n",
       "0   176549     9506    2021-05-11       4250       72.000\n",
       "1   699317     1659    2021-05-29       8317      100.000\n",
       "2   864613     7638    2021-07-05      14483      100.000\n",
       "3   964868     9506    2021-04-30       6725      100.000\n",
       "4  1032142     6686    2021-05-13      11286      100.000"
      ]
     },
     "execution_count": 70,
     "metadata": {},
     "output_type": "execute_result"
    }
   ],
   "source": [
    "local_train.head(5)"
   ]
  },
  {
   "cell_type": "code",
   "execution_count": 71,
   "metadata": {},
   "outputs": [
    {
     "data": {
      "text/html": [
       "<div>\n",
       "<style scoped>\n",
       "    .dataframe tbody tr th:only-of-type {\n",
       "        vertical-align: middle;\n",
       "    }\n",
       "\n",
       "    .dataframe tbody tr th {\n",
       "        vertical-align: top;\n",
       "    }\n",
       "\n",
       "    .dataframe thead th {\n",
       "        text-align: right;\n",
       "    }\n",
       "</style>\n",
       "<table border=\"1\" class=\"dataframe\">\n",
       "  <thead>\n",
       "    <tr style=\"text-align: right;\">\n",
       "      <th></th>\n",
       "      <th>user_id</th>\n",
       "      <th>item_id</th>\n",
       "      <th>last_watch_dt</th>\n",
       "      <th>total_dur</th>\n",
       "      <th>watched_pct</th>\n",
       "    </tr>\n",
       "  </thead>\n",
       "  <tbody>\n",
       "    <tr>\n",
       "      <th>0</th>\n",
       "      <td>176549</td>\n",
       "      <td>9506</td>\n",
       "      <td>2021-05-11</td>\n",
       "      <td>4250</td>\n",
       "      <td>72.000</td>\n",
       "    </tr>\n",
       "    <tr>\n",
       "      <th>1</th>\n",
       "      <td>699317</td>\n",
       "      <td>1659</td>\n",
       "      <td>2021-05-29</td>\n",
       "      <td>8317</td>\n",
       "      <td>100.000</td>\n",
       "    </tr>\n",
       "    <tr>\n",
       "      <th>2</th>\n",
       "      <td>656683</td>\n",
       "      <td>7107</td>\n",
       "      <td>2021-05-09</td>\n",
       "      <td>10</td>\n",
       "      <td>0.000</td>\n",
       "    </tr>\n",
       "    <tr>\n",
       "      <th>3</th>\n",
       "      <td>864613</td>\n",
       "      <td>7638</td>\n",
       "      <td>2021-07-05</td>\n",
       "      <td>14483</td>\n",
       "      <td>100.000</td>\n",
       "    </tr>\n",
       "    <tr>\n",
       "      <th>4</th>\n",
       "      <td>964868</td>\n",
       "      <td>9506</td>\n",
       "      <td>2021-04-30</td>\n",
       "      <td>6725</td>\n",
       "      <td>100.000</td>\n",
       "    </tr>\n",
       "  </tbody>\n",
       "</table>\n",
       "</div>"
      ],
      "text/plain": [
       "   user_id  item_id last_watch_dt  total_dur  watched_pct\n",
       "0   176549     9506    2021-05-11       4250       72.000\n",
       "1   699317     1659    2021-05-29       8317      100.000\n",
       "2   656683     7107    2021-05-09         10        0.000\n",
       "3   864613     7638    2021-07-05      14483      100.000\n",
       "4   964868     9506    2021-04-30       6725      100.000"
      ]
     },
     "execution_count": 71,
     "metadata": {},
     "output_type": "execute_result"
    }
   ],
   "source": [
    "interactions.head(5)"
   ]
  },
  {
   "cell_type": "code",
   "execution_count": 72,
   "metadata": {},
   "outputs": [
    {
     "name": "stdout",
     "output_type": "stream",
     "text": [
      "   user_id item_id  rank           item_name last_watch_dt  total_dur  \\\n",
      "0   646903   10440     1         Хрустальный           NaN        NaN   \n",
      "1   646903   14741     2  Цвет из иных миров           NaN        NaN   \n",
      "2   646903   16361     3   Doom: Аннигиляция           NaN        NaN   \n",
      "3   646903    9728     4   Гнев человеческий           NaN        NaN   \n",
      "4   646903    9169     5            Взаперти           NaN        NaN   \n",
      "\n",
      "   watched_pct  \n",
      "0          NaN  \n",
      "1          NaN  \n",
      "2          NaN  \n",
      "3          NaN  \n",
      "4          NaN  \n",
      "<class 'pandas.core.frame.DataFrame'>\n",
      "Int64Index: 1447390 entries, 0 to 1447389\n",
      "Data columns (total 7 columns):\n",
      " #   Column         Non-Null Count    Dtype  \n",
      "---  ------         --------------    -----  \n",
      " 0   user_id        1447390 non-null  int64  \n",
      " 1   item_id        1447390 non-null  object \n",
      " 2   rank           1447390 non-null  int64  \n",
      " 3   item_name      1447390 non-null  object \n",
      " 4   last_watch_dt  419418 non-null   object \n",
      " 5   total_dur      419418 non-null   float64\n",
      " 6   watched_pct    419418 non-null   float64\n",
      "dtypes: float64(2), int64(2), object(3)\n",
      "memory usage: 88.3+ MB\n"
     ]
    }
   ],
   "source": [
    "y_pred = test_preds.groupby('user_id')['rank'].apply(lambda x: np.array(x))\n",
    "y_true = pd.merge(test_preds, interactions, how = 'left', on = ['user_id', 'item_id'])\n",
    "print(y_true.head(5))\n",
    "y_true.info()\n"
   ]
  },
  {
   "cell_type": "code",
   "execution_count": 73,
   "metadata": {},
   "outputs": [],
   "source": [
    "# def filler(data: np.array):\n",
    "#     result = np.zeros_like(data) \n",
    "#     not_missing = ~np.isnan(data) \n",
    "#     result[not_missing] = 1 \n",
    "    # return result\n"
   ]
  },
  {
   "cell_type": "code",
   "execution_count": 74,
   "metadata": {},
   "outputs": [],
   "source": [
    "# y_true['last_watch_dt'] = y_true['last_watch_dt'].apply(lambda row: filler(np.array(y_true['last_watch_dt']))[0])"
   ]
  },
  {
   "cell_type": "code",
   "execution_count": 75,
   "metadata": {},
   "outputs": [
    {
     "name": "stdout",
     "output_type": "stream",
     "text": [
      "<class 'pandas.core.frame.DataFrame'>\n",
      "Int64Index: 1447390 entries, 0 to 1447389\n",
      "Data columns (total 7 columns):\n",
      " #   Column         Non-Null Count    Dtype  \n",
      "---  ------         --------------    -----  \n",
      " 0   user_id        1447390 non-null  int64  \n",
      " 1   item_id        1447390 non-null  object \n",
      " 2   rank           1447390 non-null  int64  \n",
      " 3   item_name      1447390 non-null  object \n",
      " 4   last_watch_dt  1447390 non-null  int64  \n",
      " 5   total_dur      419418 non-null   float64\n",
      " 6   watched_pct    419418 non-null   float64\n",
      "dtypes: float64(2), int64(3), object(2)\n",
      "memory usage: 88.3+ MB\n"
     ]
    }
   ],
   "source": [
    "y_true['last_watch_dt'] = y_true['last_watch_dt'].fillna(0)\n",
    "y_true['y_true'] = y_true['last_watch_dt'].apply(lambda x: 1 if x!=0 else 0)\n",
    "y_true.info()"
   ]
  },
  {
   "cell_type": "code",
   "execution_count": 76,
   "metadata": {},
   "outputs": [],
   "source": [
    "y_true = y_true.groupby('user_id')['y_true'].apply(lambda x: np.array(x))"
   ]
  },
  {
   "cell_type": "code",
   "execution_count": 77,
   "metadata": {},
   "outputs": [
    {
     "data": {
      "text/plain": [
       "user_id\n",
       "11    [1, 0, 0, 0, 0, 0, 0, 0, 0, 0]\n",
       "21    [0, 1, 1, 1, 0, 1, 0, 0, 1, 0]\n",
       "30    [0, 0, 0, 1, 0, 0, 0, 0, 0, 0]\n",
       "37    [1, 1, 0, 1, 1, 1, 0, 1, 0, 0]\n",
       "53    [1, 0, 1, 1, 1, 0, 0, 0, 0, 0]\n",
       "Name: last_watch_dt, dtype: object"
      ]
     },
     "execution_count": 77,
     "metadata": {},
     "output_type": "execute_result"
    }
   ],
   "source": [
    "y_true.head(5)"
   ]
  },
  {
   "cell_type": "code",
   "execution_count": 78,
   "metadata": {},
   "outputs": [
    {
     "name": "stdout",
     "output_type": "stream",
     "text": [
      "Mean precision@10: 0.2211000490538141\n"
     ]
    }
   ],
   "source": [
    "precision_10 = []\n",
    "for true, pred in zip(y_true, y_pred):\n",
    "    precision_10.append(precision_k(true, pred, 10))\n",
    "mean_precision_10 = np.mean(precision_10)\n",
    "print(f'Mean precision@10: {mean_precision_10}')"
   ]
  },
  {
   "cell_type": "code",
   "execution_count": 79,
   "metadata": {},
   "outputs": [],
   "source": [
    "def average_precision(y_true: np.array, y_pred: np.array, k: int) -> float:\n",
    "\n",
    "   \n",
    "    if sum(y_true) == 0:\n",
    "        return -1\n",
    "\n",
    "    if len(y_pred) > k:\n",
    "        y_pred = y_pred[:k]\n",
    "\n",
    "    argsort = np.argsort(y_pred)[::-1]\n",
    "    y_true_sorted = y_true[argsort]\n",
    "\n",
    "    num_hits = 0\n",
    "    score = 0\n",
    "\n",
    "    for i, p in enumerate(y_true_sorted, 1):\n",
    "        if p == 1:\n",
    "            num_hits += 1\n",
    "            score += num_hits / i\n",
    "    if num_hits == 0:\n",
    "        output = 0\n",
    "    \n",
    "    else:\n",
    "        output = score / min(len(y_true), k)\n",
    "\n",
    "    return output"
   ]
  },
  {
   "cell_type": "code",
   "execution_count": 80,
   "metadata": {},
   "outputs": [
    {
     "name": "stdout",
     "output_type": "stream",
     "text": [
      "MAP@10: 0.0602817677182914\n"
     ]
    }
   ],
   "source": [
    "ap_10 = []\n",
    "for true, pred in zip(y_true, y_pred):\n",
    "    ap_10.append(average_precision(true, pred, 10))\n",
    "map_10 = np.mean(ap_10)\n",
    "print(f'MAP@10: {map_10}')"
   ]
  },
  {
   "cell_type": "code",
   "execution_count": 81,
   "metadata": {},
   "outputs": [],
   "source": [
    "def reciprocal_rank(y_true: np.array, y_pred: np.array) -> float:\n",
    "    \n",
    "    argsort = np.argsort(y_pred)[::-1]\n",
    "    y_true_sorted = y_true[argsort]\n",
    "    for i, val in enumerate(y_true_sorted, 1):     \n",
    "        if val == 1:\n",
    "            return 1 / i\n",
    "    return 0"
   ]
  },
  {
   "cell_type": "code",
   "execution_count": 82,
   "metadata": {},
   "outputs": [
    {
     "name": "stdout",
     "output_type": "stream",
     "text": [
      "MRR10: 0.35993435967993614\n"
     ]
    }
   ],
   "source": [
    "RR = []\n",
    "for true, pred in zip(y_true, y_pred):\n",
    "    RR.append(reciprocal_rank(true, pred))\n",
    "MRR = np.mean(RR)\n",
    "print(f'MRR10: {MRR}')"
   ]
  },
  {
   "cell_type": "code",
   "execution_count": 83,
   "metadata": {},
   "outputs": [
    {
     "data": {
      "text/html": [
       "<div>\n",
       "<style scoped>\n",
       "    .dataframe tbody tr th:only-of-type {\n",
       "        vertical-align: middle;\n",
       "    }\n",
       "\n",
       "    .dataframe tbody tr th {\n",
       "        vertical-align: top;\n",
       "    }\n",
       "\n",
       "    .dataframe thead th {\n",
       "        text-align: right;\n",
       "    }\n",
       "</style>\n",
       "<table border=\"1\" class=\"dataframe\">\n",
       "  <thead>\n",
       "    <tr style=\"text-align: right;\">\n",
       "      <th></th>\n",
       "      <th>user_id</th>\n",
       "      <th>RR</th>\n",
       "      <th>AP</th>\n",
       "      <th>Precision@10</th>\n",
       "    </tr>\n",
       "  </thead>\n",
       "  <tbody>\n",
       "    <tr>\n",
       "      <th>0</th>\n",
       "      <td>646903</td>\n",
       "      <td>0.100</td>\n",
       "      <td>0.010</td>\n",
       "      <td>0.100</td>\n",
       "    </tr>\n",
       "    <tr>\n",
       "      <th>1</th>\n",
       "      <td>215229</td>\n",
       "      <td>0.500</td>\n",
       "      <td>0.238</td>\n",
       "      <td>0.500</td>\n",
       "    </tr>\n",
       "    <tr>\n",
       "      <th>2</th>\n",
       "      <td>81786</td>\n",
       "      <td>0.143</td>\n",
       "      <td>0.014</td>\n",
       "      <td>0.100</td>\n",
       "    </tr>\n",
       "    <tr>\n",
       "      <th>3</th>\n",
       "      <td>985101</td>\n",
       "      <td>0.333</td>\n",
       "      <td>0.296</td>\n",
       "      <td>0.600</td>\n",
       "    </tr>\n",
       "    <tr>\n",
       "      <th>4</th>\n",
       "      <td>205710</td>\n",
       "      <td>0.167</td>\n",
       "      <td>0.123</td>\n",
       "      <td>0.400</td>\n",
       "    </tr>\n",
       "  </tbody>\n",
       "</table>\n",
       "</div>"
      ],
      "text/plain": [
       "   user_id    RR    AP  Precision@10\n",
       "0   646903 0.100 0.010         0.100\n",
       "1   215229 0.500 0.238         0.500\n",
       "2    81786 0.143 0.014         0.100\n",
       "3   985101 0.333 0.296         0.600\n",
       "4   205710 0.167 0.123         0.400"
      ]
     },
     "execution_count": 83,
     "metadata": {},
     "output_type": "execute_result"
    }
   ],
   "source": [
    "cols = {\n",
    "    'user_id' : pd.Series(test_preds['user_id'].unique()), \n",
    "    'RR' : pd.Series(RR),\n",
    "    'AP' : pd.Series(ap_10),\n",
    "    'Precision@10' : pd.Series(precision_10)\n",
    "}\n",
    "final_df = pd.DataFrame(cols)\n",
    "final_df.head(5)\n"
   ]
  },
  {
   "cell_type": "markdown",
   "metadata": {},
   "source": [
    "## + Ranker"
   ]
  },
  {
   "cell_type": "code",
   "execution_count": 84,
   "metadata": {},
   "outputs": [],
   "source": [
    "def precision_k(y_true: np.array, y_pred: np.array, k: int) -> float:\n",
    "    \"\"\"\n",
    "    y_true: true labels\n",
    "    y_pred: predicted lables\n",
    "    k: cutoff length\n",
    "    \"\"\"\n",
    "\n",
    "    if sum(y_true) == 0:\n",
    "        return -1\n",
    "\n",
    "    argsort = np.argsort(y_pred)[::-1]\n",
    "    y_true_sorted = y_true[argsort]\n",
    "    true_positives = y_true_sorted[:k].sum()\n",
    "\n",
    "    return true_positives / k"
   ]
  },
  {
   "cell_type": "code",
   "execution_count": 85,
   "metadata": {},
   "outputs": [
    {
     "name": "stdout",
     "output_type": "stream",
     "text": [
      "<class 'pandas.core.frame.DataFrame'>\n",
      "Int64Index: 70499 entries, 0 to 70498\n",
      "Data columns (total 17 columns):\n",
      " #   Column         Non-Null Count  Dtype         \n",
      "---  ------         --------------  -----         \n",
      " 0   user_id        70499 non-null  int64         \n",
      " 1   item_id        70499 non-null  object        \n",
      " 2   rank           70499 non-null  int64         \n",
      " 3   item_name      70499 non-null  object        \n",
      " 4   last_watch_dt  15701 non-null  datetime64[ns]\n",
      " 5   total_dur      15701 non-null  float64       \n",
      " 6   watched_pct    15701 non-null  float64       \n",
      " 7   target         70499 non-null  int64         \n",
      " 8   age            56653 non-null  object        \n",
      " 9   income         56693 non-null  object        \n",
      " 10  sex            56581 non-null  object        \n",
      " 11  kids_flg       57117 non-null  float64       \n",
      " 12  content_type   70499 non-null  object        \n",
      " 13  release_year   70499 non-null  float64       \n",
      " 14  for_kids       1394 non-null   float64       \n",
      " 15  age_rating     70499 non-null  float64       \n",
      " 16  pred           70499 non-null  float64       \n",
      "dtypes: datetime64[ns](1), float64(7), int64(3), object(6)\n",
      "memory usage: 9.7+ MB\n"
     ]
    }
   ],
   "source": [
    "y_test_pred = cbm_classifier.predict_proba(X_test)\n",
    "cbm_test_set['pred'] = y_test_pred[:,1]\n",
    "cbm_test_set.info()"
   ]
  },
  {
   "cell_type": "code",
   "execution_count": 86,
   "metadata": {},
   "outputs": [
    {
     "name": "stdout",
     "output_type": "stream",
     "text": [
      "user_id\n",
      "166    [0.2617144794197511, 0.08358532234688947, 0.33...\n",
      "205            [0.2126672888176627, 0.16497528283408586]\n",
      "240    [0.4037608820130571, 0.34665052785892725, 0.30...\n",
      "299    [0.41395212586690766, 0.19790614855039235, 0.1...\n",
      "304    [0.27370189738223427, 0.07821073360342794, 0.3...\n",
      "Name: pred, dtype: object\n",
      "user_id\n",
      "166    [1, 1, 1, 1, 0]\n",
      "205             [0, 0]\n",
      "240          [0, 0, 1]\n",
      "299       [1, 0, 0, 0]\n",
      "304          [0, 0, 1]\n",
      "Name: target, dtype: object\n"
     ]
    }
   ],
   "source": [
    "model_y_pred = cbm_test_set.groupby('user_id')['pred']\n",
    "model_y_pred = model_y_pred.apply(lambda row: np.array(row))\n",
    "y_true = cbm_test_set.groupby('user_id')['target']\n",
    "y_true = y_true.apply(lambda row: np.array(row))\n",
    "\n",
    "print(model_y_pred.head(5))\n",
    "\n",
    "print(y_true.head(5))"
   ]
  },
  {
   "cell_type": "code",
   "execution_count": 87,
   "metadata": {},
   "outputs": [
    {
     "data": {
      "text/plain": [
       "-0.5077362523956952"
      ]
     },
     "execution_count": 87,
     "metadata": {},
     "output_type": "execute_result"
    }
   ],
   "source": [
    "r_precision_10 = []\n",
    "for true, pred in zip(y_true, model_y_pred):\n",
    "    r_precision_10.append(precision_k(true, pred, 10))\n",
    "mean_r_precision_10 = np.mean(r_precision_10)\n",
    "mean_r_precision_10"
   ]
  },
  {
   "cell_type": "code",
   "execution_count": 88,
   "metadata": {},
   "outputs": [],
   "source": [
    "def average_precision(y_true: np.array, y_pred: np.array, k: int) -> float:\n",
    "\n",
    "    if sum(y_true) == 0:\n",
    "        return -1\n",
    "\n",
    "    if len(y_pred) > k:\n",
    "        y_pred = y_pred[:k]\n",
    "\n",
    "    argsort = np.argsort(y_pred)[::-1]\n",
    "    y_true_sorted = y_true[argsort]\n",
    "\n",
    "    num_hits = 0\n",
    "    score = 0\n",
    "\n",
    "    for i, p in enumerate(y_true_sorted, 1):\n",
    "        if p == 1:\n",
    "            num_hits += 1\n",
    "            score += num_hits / i\n",
    "    if num_hits == 0:\n",
    "        output = 0\n",
    "    \n",
    "    else:\n",
    "        output = score / min(len(y_true), k)\n",
    "\n",
    "    return output\n"
   ]
  },
  {
   "cell_type": "code",
   "execution_count": 89,
   "metadata": {},
   "outputs": [
    {
     "name": "stdout",
     "output_type": "stream",
     "text": [
      "MAP@10: -0.381317528670709\n"
     ]
    }
   ],
   "source": [
    "r_ap_10 = []\n",
    "for true, pred in zip(y_true, model_y_pred):\n",
    "    r_ap_10.append(average_precision(true, pred, 10))\n",
    "r_map_10 = np.mean(r_ap_10)\n",
    "print(f'MAP@10: {r_map_10}')"
   ]
  },
  {
   "cell_type": "code",
   "execution_count": 90,
   "metadata": {},
   "outputs": [],
   "source": [
    "def reciprocal_rank(y_true: np.array, y_pred: np.array) -> float:\n",
    "    \n",
    "    argsort = np.argsort(y_pred)[::-1]\n",
    "    y_true_sorted = y_true[argsort]\n",
    "    for i, val in enumerate(y_true_sorted, 1):     \n",
    "        if val == 1:\n",
    "            return 1 / i\n",
    "    return 0"
   ]
  },
  {
   "cell_type": "code",
   "execution_count": 91,
   "metadata": {},
   "outputs": [
    {
     "name": "stdout",
     "output_type": "stream",
     "text": [
      "MRR: 0.35169975885090876\n"
     ]
    }
   ],
   "source": [
    "r_RR = []\n",
    "for true, pred in zip(y_true, model_y_pred):\n",
    "    r_RR.append(reciprocal_rank(true, pred))\n",
    "r_MRR = np.mean(r_RR)\n",
    "print(f'MRR: {r_MRR}')"
   ]
  },
  {
   "cell_type": "code",
   "execution_count": 92,
   "metadata": {},
   "outputs": [
    {
     "data": {
      "text/html": [
       "<div>\n",
       "<style scoped>\n",
       "    .dataframe tbody tr th:only-of-type {\n",
       "        vertical-align: middle;\n",
       "    }\n",
       "\n",
       "    .dataframe tbody tr th {\n",
       "        vertical-align: top;\n",
       "    }\n",
       "\n",
       "    .dataframe thead th {\n",
       "        text-align: right;\n",
       "    }\n",
       "</style>\n",
       "<table border=\"1\" class=\"dataframe\">\n",
       "  <thead>\n",
       "    <tr style=\"text-align: right;\">\n",
       "      <th></th>\n",
       "      <th>user_id</th>\n",
       "      <th>RR</th>\n",
       "      <th>AP</th>\n",
       "      <th>Precision@10</th>\n",
       "    </tr>\n",
       "  </thead>\n",
       "  <tbody>\n",
       "    <tr>\n",
       "      <th>0</th>\n",
       "      <td>1094371</td>\n",
       "      <td>1.000</td>\n",
       "      <td>0.760</td>\n",
       "      <td>0.400</td>\n",
       "    </tr>\n",
       "    <tr>\n",
       "      <th>1</th>\n",
       "      <td>849539</td>\n",
       "      <td>0.000</td>\n",
       "      <td>-1.000</td>\n",
       "      <td>-1.000</td>\n",
       "    </tr>\n",
       "    <tr>\n",
       "      <th>2</th>\n",
       "      <td>812798</td>\n",
       "      <td>0.333</td>\n",
       "      <td>0.111</td>\n",
       "      <td>0.100</td>\n",
       "    </tr>\n",
       "    <tr>\n",
       "      <th>3</th>\n",
       "      <td>666848</td>\n",
       "      <td>1.000</td>\n",
       "      <td>0.250</td>\n",
       "      <td>0.100</td>\n",
       "    </tr>\n",
       "    <tr>\n",
       "      <th>4</th>\n",
       "      <td>59464</td>\n",
       "      <td>1.000</td>\n",
       "      <td>0.333</td>\n",
       "      <td>0.100</td>\n",
       "    </tr>\n",
       "  </tbody>\n",
       "</table>\n",
       "</div>"
      ],
      "text/plain": [
       "   user_id    RR     AP  Precision@10\n",
       "0  1094371 1.000  0.760         0.400\n",
       "1   849539 0.000 -1.000        -1.000\n",
       "2   812798 0.333  0.111         0.100\n",
       "3   666848 1.000  0.250         0.100\n",
       "4    59464 1.000  0.333         0.100"
      ]
     },
     "execution_count": 92,
     "metadata": {},
     "output_type": "execute_result"
    }
   ],
   "source": [
    "cols = {\n",
    "    'user_id' : pd.Series(cbm_test_set['user_id'].unique()), \n",
    "    'RR' : pd.Series(r_RR),\n",
    "    'AP' : pd.Series(r_ap_10),\n",
    "    'Precision@10' : pd.Series(r_precision_10)\n",
    "}\n",
    "final_df = pd.DataFrame(cols)\n",
    "final_df.head(5)\n"
   ]
  }
 ],
 "metadata": {
  "kernelspec": {
   "display_name": "Python 3 (ipykernel)",
   "language": "python",
   "name": "python3"
  },
  "language_info": {
   "codemirror_mode": {
    "name": "ipython",
    "version": 3
   },
   "file_extension": ".py",
   "mimetype": "text/x-python",
   "name": "python",
   "nbconvert_exporter": "python",
   "pygments_lexer": "ipython3",
   "version": "3.9.13"
  },
  "vscode": {
   "interpreter": {
    "hash": "f2d007ce7c74fe41dcd6cb53c80a05eb04c24d9c4918ecd21236b3a1c808c520"
   }
  }
 },
 "nbformat": 4,
 "nbformat_minor": 2
}
