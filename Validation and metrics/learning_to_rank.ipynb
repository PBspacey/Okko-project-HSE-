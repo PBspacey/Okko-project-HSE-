{
  "cells": [
    {
      "cell_type": "markdown",
      "metadata": {
        "id": "AMjtld93n0Yt"
      },
      "source": [
        "# 0. Configuration"
      ]
    },
    {
      "cell_type": "code",
      "execution_count": 19,
      "metadata": {
        "id": "Se4jT_5nn0Yw"
      },
      "outputs": [],
      "source": [
        "# links to shared data MovieLens\n",
        "# source on kaggle: https://www.kaggle.com/code/quangnhatbui/movie-recommender/data\n",
        "RATINGS_SMALL_URL = 'https://drive.google.com/file/d/1BlZfCLLs5A13tbNSJZ1GPkHLWQOnPlE4/view?usp=share_link'\n",
        "MOVIES_METADATA_URL = 'https://drive.google.com/file/d/19g6-apYbZb5D-wRj4L7aYKhxS-fDM4Fb/view?usp=share_link'"
      ]
    },
    {
      "cell_type": "markdown",
      "metadata": {
        "id": "hqYHSi2nn0Yx"
      },
      "source": [
        "# 1. Modules and functions"
      ]
    },
    {
      "cell_type": "code",
      "execution_count": 20,
      "metadata": {
        "id": "vWak-KSnn0Yx"
      },
      "outputs": [],
      "source": [
        "# just to make it available to download w/o SSL verification\n",
        "import ssl\n",
        "ssl._create_default_https_context = ssl._create_unverified_context\n",
        "\n",
        "import random\n",
        "import numpy as np\n",
        "import pandas as pd\n",
        "import datetime as dt\n",
        "from itertools import permutations\n",
        "\n",
        "import torch\n",
        "from catboost import CatBoostRegressor\n",
        "from sklearn.metrics import mean_absolute_error\n",
        "from sklearn.model_selection import train_test_split\n",
        "\n",
        "import warnings\n",
        "warnings.filterwarnings('ignore')\n",
        "\n",
        "\n",
        "RANDOM_STATE = 42"
      ]
    },
    {
      "cell_type": "markdown",
      "metadata": {
        "id": "mGnJPJH1n0Yy"
      },
      "source": [
        "## 1.1. Helper functions to avoid copy paste"
      ]
    },
    {
      "cell_type": "code",
      "execution_count": 21,
      "metadata": {
        "id": "KeVy3VSAn0Yy"
      },
      "outputs": [],
      "source": [
        "def read_csv_from_gdrive(url):\n",
        "    \"\"\"\n",
        "    gets csv data from a given url (taken from file -> share -> copy link)\n",
        "    :url: example https://drive.google.com/file/d/1BlZfCLLs5A13tbNSJZ1GPkHLWQOnPlE4/view?usp=share_link\n",
        "    \"\"\"\n",
        "    file_id = url.split('/')[-2]\n",
        "    file_path = 'https://drive.google.com/uc?export=download&id=' + file_id\n",
        "    data = pd.read_csv(file_path)\n",
        "\n",
        "    return data"
      ]
    },
    {
      "cell_type": "markdown",
      "metadata": {
        "id": "tNnHx952n0Yz"
      },
      "source": [
        "# 2. Main"
      ]
    },
    {
      "cell_type": "markdown",
      "metadata": {
        "id": "IE3mAOK5n0Yz"
      },
      "source": [
        "## 2.1. RankNet"
      ]
    },
    {
      "cell_type": "code",
      "execution_count": 22,
      "metadata": {
        "id": "Y56X2Dx8n0Yz"
      },
      "outputs": [],
      "source": [
        "class RankNet(torch.nn.Module):\n",
        "    def __init__(self, input_features_len, hidden_dim = 10):\n",
        "        super().__init__()\n",
        "        self.hidden_dim = hidden_dim\n",
        "        self.model = torch.nn.Sequential(\n",
        "            torch.nn.Linear(input_features_len, self.hidden_dim),# y = ax + b,\n",
        "            torch.nn.ReLU(),\n",
        "            torch.nn.Linear(self.hidden_dim, 1),\n",
        "        )\n",
        "        \n",
        "        self.out_activation = torch.nn.Sigmoid() # this transformation equiavalent to RankNet formula\n",
        "\n",
        "    def forward(self, input_1, input_2):\n",
        "        logits_1 = self.predict(input_1)\n",
        "        logits_2 = self.predict(input_2)\n",
        "        \n",
        "        logits_diff = logits_1 - logits_2\n",
        "        out = self.out_activation(logits_diff)\n",
        "\n",
        "        return out\n",
        "    \n",
        "    def predict(self, inp):\n",
        "        logits = self.model(inp)\n",
        "        return logits"
      ]
    },
    {
      "cell_type": "code",
      "execution_count": 23,
      "metadata": {
        "colab": {
          "base_uri": "https://localhost:8080/"
        },
        "id": "xkVnct0nn0Y0",
        "outputId": "0c7b8b0e-b8cc-42e3-e7a0-6487da2c6f27"
      },
      "outputs": [
        {
          "data": {
            "text/plain": [
              "RankNet(\n",
              "  (model): Sequential(\n",
              "    (0): Linear(in_features=8, out_features=10, bias=True)\n",
              "    (1): ReLU()\n",
              "    (2): Linear(in_features=10, out_features=1, bias=True)\n",
              "  )\n",
              "  (out_activation): Sigmoid()\n",
              ")"
            ]
          },
          "execution_count": 23,
          "metadata": {},
          "output_type": "execute_result"
        }
      ],
      "source": [
        "model = RankNet(input_features_len = 8)\n",
        "model"
      ]
    },
    {
      "cell_type": "code",
      "execution_count": 24,
      "metadata": {
        "colab": {
          "base_uri": "https://localhost:8080/"
        },
        "id": "N_M3uPnsn0Y0",
        "outputId": "83ff482d-e906-46fe-95a2-392a255e5e71"
      },
      "outputs": [
        {
          "data": {
            "text/plain": [
              "tensor([[0.2759, 0.3244, 0.0082, 0.5144, 0.6399, 0.4097, 0.3812, 0.1590],\n",
              "        [0.0215, 0.3778, 0.8829, 0.4616, 0.6699, 0.5547, 0.0726, 0.1677],\n",
              "        [0.7774, 0.8193, 0.7958, 0.7589, 0.4801, 0.9044, 0.0704, 0.6440],\n",
              "        [0.9980, 0.0588, 0.3363, 0.2658, 0.1366, 0.6074, 0.3080, 0.5849]])"
            ]
          },
          "execution_count": 24,
          "metadata": {},
          "output_type": "execute_result"
        }
      ],
      "source": [
        "input_1, input_2 = torch.rand(4, 8), torch.rand(4, 8)\n",
        "input_2"
      ]
    },
    {
      "cell_type": "code",
      "execution_count": 25,
      "metadata": {
        "colab": {
          "base_uri": "https://localhost:8080/"
        },
        "id": "NGGjkcG2n0Y1",
        "outputId": "8364b46a-7cad-4d83-96ee-d26da0e6600c"
      },
      "outputs": [
        {
          "data": {
            "text/plain": [
              "tensor([[0.7231, 0.3011, 0.3202, 0.7999, 0.0229, 0.1968, 0.2186, 0.8810],\n",
              "        [0.8002, 0.0492, 0.6219, 0.7998, 0.5362, 0.0484, 0.5579, 0.6946],\n",
              "        [0.2207, 0.8750, 0.7767, 0.9506, 0.1830, 0.2600, 0.3407, 0.2279],\n",
              "        [0.7689, 0.5600, 0.2776, 0.5299, 0.7415, 0.4746, 0.2560, 0.8700]])"
            ]
          },
          "execution_count": 25,
          "metadata": {},
          "output_type": "execute_result"
        }
      ],
      "source": [
        "input_1"
      ]
    },
    {
      "cell_type": "markdown",
      "metadata": {
        "id": "OwAy0rSan0Y1"
      },
      "source": [
        "$$P_{ij} \\equiv P(U_{i}>U_{j}) \\equiv \\frac{1}{1 + \\exp^{-\\sigma(s_{i} - s{j})}}$$\n"
      ]
    },
    {
      "cell_type": "code",
      "execution_count": 26,
      "metadata": {
        "colab": {
          "base_uri": "https://localhost:8080/"
        },
        "id": "TR0uS0s-n0Y1",
        "outputId": "7d37ed97-ba0e-46bb-eff8-70bbcad1ed3f"
      },
      "outputs": [
        {
          "data": {
            "text/plain": [
              "tensor([[0.5133],\n",
              "        [0.4914],\n",
              "        [0.4825],\n",
              "        [0.4663]], grad_fn=<SortBackward0>)"
            ]
          },
          "execution_count": 26,
          "metadata": {},
          "output_type": "execute_result"
        }
      ],
      "source": [
        "preds = torch.sort(model(input_1, input_2), descending = True, dim = 0)\n",
        "preds[0]"
      ]
    },
    {
      "cell_type": "markdown",
      "metadata": {
        "id": "hvrG_O_3n0Y1"
      },
      "source": [
        "## 2.2. ListNet"
      ]
    },
    {
      "cell_type": "code",
      "execution_count": 27,
      "metadata": {
        "colab": {
          "base_uri": "https://localhost:8080/"
        },
        "id": "JTK8WLo6n0Y1",
        "outputId": "815bd78c-7072-4163-f76b-ad3a95b0319c"
      },
      "outputs": [
        {
          "name": "stdout",
          "output_type": "stream",
          "text": [
            "('Avatar', 'Ozark', 'The Godfather')\n",
            "('Avatar', 'The Godfather', 'Ozark')\n",
            "('Ozark', 'Avatar', 'The Godfather')\n",
            "('Ozark', 'The Godfather', 'Avatar')\n",
            "('The Godfather', 'Avatar', 'Ozark')\n",
            "('The Godfather', 'Ozark', 'Avatar')\n"
          ]
        }
      ],
      "source": [
        "movies_to_rank = {'The Godfather', 'Avatar', 'Ozark'}\n",
        "permutations_list = list(permutations(movies_to_rank))\n",
        "\n",
        "for i in permutations_list:\n",
        "    print(i)"
      ]
    },
    {
      "cell_type": "code",
      "execution_count": 28,
      "metadata": {
        "colab": {
          "base_uri": "https://localhost:8080/"
        },
        "id": "i6zsGXtdn0Y1",
        "outputId": "fc19d05d-d13e-4ba9-90b8-45422f837e21"
      },
      "outputs": [
        {
          "name": "stdout",
          "output_type": "stream",
          "text": [
            "('The Godfather', 'Ozark', 'Avatar')\n"
          ]
        }
      ],
      "source": [
        "pi = random.choice(permutations_list)\n",
        "print(pi)"
      ]
    },
    {
      "cell_type": "code",
      "execution_count": 29,
      "metadata": {
        "colab": {
          "base_uri": "https://localhost:8080/"
        },
        "id": "ESKGVIpyn0Y2",
        "outputId": "6e2a3c14-691c-4c69-ee84-d020e8d16087"
      },
      "outputs": [
        {
          "name": "stdout",
          "output_type": "stream",
          "text": [
            "{'Avatar': 0.4967141530112327, 'Ozark': -0.13826430117118466, 'The Godfather': 0.6476885381006925}\n"
          ]
        }
      ],
      "source": [
        "np.random.seed(RANDOM_STATE)\n",
        "scores_dict = {x: np.random.randn(1)[0] for x in movies_to_rank}  \n",
        "print(scores_dict)\n",
        "\n",
        "# unpack pi and assign movies to scores\n",
        "score_movie_pos_1, score_movie_pos_2, score_movie_pos_3 = scores_dict[pi[0]], scores_dict[pi[1]], scores_dict[pi[2]]\n"
      ]
    },
    {
      "cell_type": "code",
      "execution_count": 30,
      "metadata": {
        "colab": {
          "base_uri": "https://localhost:8080/"
        },
        "id": "U_0pP480n0Y2",
        "outputId": "ed02bad8-6861-49eb-b592-815982284dd9"
      },
      "outputs": [
        {
          "name": "stdout",
          "output_type": "stream",
          "text": [
            "First term is: 0.4318619033836114\n",
            "Second term is: 0.3463825470936087\n",
            "Third term is: 1.0\n"
          ]
        }
      ],
      "source": [
        "first_term = np.exp(score_movie_pos_1) / (np.exp(score_movie_pos_1) + np.exp(score_movie_pos_2)\\\n",
        "                                         + np.exp(score_movie_pos_3))\n",
        "\n",
        "second_term = np.exp(score_movie_pos_2) / (np.exp(score_movie_pos_2) + np.exp(score_movie_pos_3))\n",
        "\n",
        "third_term = np.exp(score_movie_pos_3) / np.exp(score_movie_pos_3)\n",
        "\n",
        "print(f'First term is: {first_term}')\n",
        "print(f'Second term is: {second_term}')\n",
        "print(f'Third term is: {third_term}')"
      ]
    },
    {
      "cell_type": "markdown",
      "metadata": {
        "id": "XHLNjaczn0Y2"
      },
      "source": [
        "$P_{s}(<The Godfather, Avatar, Ozark>) = \\prod^3_{j = 1} \\frac {\\phi(s_{\\pi(j)})} {\\sum^3_{k = j} \\phi(s_{\\pi(k)})}$ which is equal to"
      ]
    },
    {
      "cell_type": "code",
      "execution_count": 31,
      "metadata": {
        "colab": {
          "base_uri": "https://localhost:8080/"
        },
        "id": "I3XY-2DCn0Y2",
        "outputId": "4fad18ea-2181-419a-96c8-dd6feae53f52"
      },
      "outputs": [
        {
          "name": "stdout",
          "output_type": "stream",
          "text": [
            "Permutation probability is: 0.14958942608670928\n"
          ]
        }
      ],
      "source": [
        "permutation_proba = first_term * second_term * third_term\n",
        "\n",
        "print(f'Permutation probability is: {permutation_proba}')\n"
      ]
    },
    {
      "cell_type": "markdown",
      "metadata": {
        "id": "3vcp-F3Kn0Y2"
      },
      "source": [
        "## 2.3. CatBoost Ranker"
      ]
    },
    {
      "cell_type": "markdown",
      "metadata": {
        "id": "OFFBDVs8n0Y2"
      },
      "source": [
        "### 2.3.1. Load Data"
      ]
    },
    {
      "cell_type": "markdown",
      "metadata": {
        "id": "tm6CvvR2n0Y2"
      },
      "source": [
        "`interactions` dataset shows list of movies that users watched, along with given ratings:"
      ]
    },
    {
      "cell_type": "code",
      "execution_count": 32,
      "metadata": {
        "colab": {
          "base_uri": "https://localhost:8080/",
          "height": 206
        },
        "id": "h2s5nUXxn0Y3",
        "outputId": "03ca69be-ac50-4a5e-cb42-dba5c9654619"
      },
      "outputs": [
        {
          "data": {
            "text/html": [
              "<div>\n",
              "<style scoped>\n",
              "    .dataframe tbody tr th:only-of-type {\n",
              "        vertical-align: middle;\n",
              "    }\n",
              "\n",
              "    .dataframe tbody tr th {\n",
              "        vertical-align: top;\n",
              "    }\n",
              "\n",
              "    .dataframe thead th {\n",
              "        text-align: right;\n",
              "    }\n",
              "</style>\n",
              "<table border=\"1\" class=\"dataframe\">\n",
              "  <thead>\n",
              "    <tr style=\"text-align: right;\">\n",
              "      <th></th>\n",
              "      <th>userId</th>\n",
              "      <th>movieId</th>\n",
              "      <th>rating</th>\n",
              "      <th>timestamp</th>\n",
              "    </tr>\n",
              "  </thead>\n",
              "  <tbody>\n",
              "    <tr>\n",
              "      <th>0</th>\n",
              "      <td>1</td>\n",
              "      <td>31</td>\n",
              "      <td>2.5</td>\n",
              "      <td>1260759144</td>\n",
              "    </tr>\n",
              "    <tr>\n",
              "      <th>1</th>\n",
              "      <td>1</td>\n",
              "      <td>1029</td>\n",
              "      <td>3.0</td>\n",
              "      <td>1260759179</td>\n",
              "    </tr>\n",
              "    <tr>\n",
              "      <th>2</th>\n",
              "      <td>1</td>\n",
              "      <td>1061</td>\n",
              "      <td>3.0</td>\n",
              "      <td>1260759182</td>\n",
              "    </tr>\n",
              "    <tr>\n",
              "      <th>3</th>\n",
              "      <td>1</td>\n",
              "      <td>1129</td>\n",
              "      <td>2.0</td>\n",
              "      <td>1260759185</td>\n",
              "    </tr>\n",
              "    <tr>\n",
              "      <th>4</th>\n",
              "      <td>1</td>\n",
              "      <td>1172</td>\n",
              "      <td>4.0</td>\n",
              "      <td>1260759205</td>\n",
              "    </tr>\n",
              "  </tbody>\n",
              "</table>\n",
              "</div>"
            ],
            "text/plain": [
              "   userId  movieId  rating   timestamp\n",
              "0       1       31     2.5  1260759144\n",
              "1       1     1029     3.0  1260759179\n",
              "2       1     1061     3.0  1260759182\n",
              "3       1     1129     2.0  1260759185\n",
              "4       1     1172     4.0  1260759205"
            ]
          },
          "execution_count": 32,
          "metadata": {},
          "output_type": "execute_result"
        }
      ],
      "source": [
        "# interactions data\n",
        "interactions = read_csv_from_gdrive(RATINGS_SMALL_URL)\n",
        "interactions.head()"
      ]
    },
    {
      "cell_type": "markdown",
      "metadata": {
        "id": "8D2G1a8Zn0Y3"
      },
      "source": [
        "`movies_metadata` dataset shows the list of movies existing on OKKO platform:"
      ]
    },
    {
      "cell_type": "code",
      "execution_count": 33,
      "metadata": {
        "colab": {
          "base_uri": "https://localhost:8080/",
          "height": 515
        },
        "id": "QEanQrgpn0Y3",
        "outputId": "4c6f64a8-c5ac-400b-8746-96c4c678d06c"
      },
      "outputs": [
        {
          "data": {
            "text/html": [
              "<div>\n",
              "<style scoped>\n",
              "    .dataframe tbody tr th:only-of-type {\n",
              "        vertical-align: middle;\n",
              "    }\n",
              "\n",
              "    .dataframe tbody tr th {\n",
              "        vertical-align: top;\n",
              "    }\n",
              "\n",
              "    .dataframe thead th {\n",
              "        text-align: right;\n",
              "    }\n",
              "</style>\n",
              "<table border=\"1\" class=\"dataframe\">\n",
              "  <thead>\n",
              "    <tr style=\"text-align: right;\">\n",
              "      <th></th>\n",
              "      <th>adult</th>\n",
              "      <th>belongs_to_collection</th>\n",
              "      <th>budget</th>\n",
              "      <th>genres</th>\n",
              "      <th>homepage</th>\n",
              "      <th>id</th>\n",
              "      <th>imdb_id</th>\n",
              "      <th>original_language</th>\n",
              "      <th>original_title</th>\n",
              "      <th>overview</th>\n",
              "      <th>...</th>\n",
              "      <th>release_date</th>\n",
              "      <th>revenue</th>\n",
              "      <th>runtime</th>\n",
              "      <th>spoken_languages</th>\n",
              "      <th>status</th>\n",
              "      <th>tagline</th>\n",
              "      <th>title</th>\n",
              "      <th>video</th>\n",
              "      <th>vote_average</th>\n",
              "      <th>vote_count</th>\n",
              "    </tr>\n",
              "  </thead>\n",
              "  <tbody>\n",
              "    <tr>\n",
              "      <th>0</th>\n",
              "      <td>False</td>\n",
              "      <td>{'id': 10194, 'name': 'Toy Story Collection', ...</td>\n",
              "      <td>30000000</td>\n",
              "      <td>[{'id': 16, 'name': 'Animation'}, {'id': 35, '...</td>\n",
              "      <td>http://toystory.disney.com/toy-story</td>\n",
              "      <td>862</td>\n",
              "      <td>tt0114709</td>\n",
              "      <td>en</td>\n",
              "      <td>Toy Story</td>\n",
              "      <td>Led by Woody, Andy's toys live happily in his ...</td>\n",
              "      <td>...</td>\n",
              "      <td>1995-10-30</td>\n",
              "      <td>373554033.0</td>\n",
              "      <td>81.0</td>\n",
              "      <td>[{'iso_639_1': 'en', 'name': 'English'}]</td>\n",
              "      <td>Released</td>\n",
              "      <td>NaN</td>\n",
              "      <td>Toy Story</td>\n",
              "      <td>False</td>\n",
              "      <td>7.7</td>\n",
              "      <td>5415.0</td>\n",
              "    </tr>\n",
              "    <tr>\n",
              "      <th>1</th>\n",
              "      <td>False</td>\n",
              "      <td>NaN</td>\n",
              "      <td>65000000</td>\n",
              "      <td>[{'id': 12, 'name': 'Adventure'}, {'id': 14, '...</td>\n",
              "      <td>NaN</td>\n",
              "      <td>8844</td>\n",
              "      <td>tt0113497</td>\n",
              "      <td>en</td>\n",
              "      <td>Jumanji</td>\n",
              "      <td>When siblings Judy and Peter discover an encha...</td>\n",
              "      <td>...</td>\n",
              "      <td>1995-12-15</td>\n",
              "      <td>262797249.0</td>\n",
              "      <td>104.0</td>\n",
              "      <td>[{'iso_639_1': 'en', 'name': 'English'}, {'iso...</td>\n",
              "      <td>Released</td>\n",
              "      <td>Roll the dice and unleash the excitement!</td>\n",
              "      <td>Jumanji</td>\n",
              "      <td>False</td>\n",
              "      <td>6.9</td>\n",
              "      <td>2413.0</td>\n",
              "    </tr>\n",
              "    <tr>\n",
              "      <th>2</th>\n",
              "      <td>False</td>\n",
              "      <td>{'id': 119050, 'name': 'Grumpy Old Men Collect...</td>\n",
              "      <td>0</td>\n",
              "      <td>[{'id': 10749, 'name': 'Romance'}, {'id': 35, ...</td>\n",
              "      <td>NaN</td>\n",
              "      <td>15602</td>\n",
              "      <td>tt0113228</td>\n",
              "      <td>en</td>\n",
              "      <td>Grumpier Old Men</td>\n",
              "      <td>A family wedding reignites the ancient feud be...</td>\n",
              "      <td>...</td>\n",
              "      <td>1995-12-22</td>\n",
              "      <td>0.0</td>\n",
              "      <td>101.0</td>\n",
              "      <td>[{'iso_639_1': 'en', 'name': 'English'}]</td>\n",
              "      <td>Released</td>\n",
              "      <td>Still Yelling. Still Fighting. Still Ready for...</td>\n",
              "      <td>Grumpier Old Men</td>\n",
              "      <td>False</td>\n",
              "      <td>6.5</td>\n",
              "      <td>92.0</td>\n",
              "    </tr>\n",
              "  </tbody>\n",
              "</table>\n",
              "<p>3 rows × 24 columns</p>\n",
              "</div>"
            ],
            "text/plain": [
              "   adult                              belongs_to_collection    budget  \\\n",
              "0  False  {'id': 10194, 'name': 'Toy Story Collection', ...  30000000   \n",
              "1  False                                                NaN  65000000   \n",
              "2  False  {'id': 119050, 'name': 'Grumpy Old Men Collect...         0   \n",
              "\n",
              "                                              genres  \\\n",
              "0  [{'id': 16, 'name': 'Animation'}, {'id': 35, '...   \n",
              "1  [{'id': 12, 'name': 'Adventure'}, {'id': 14, '...   \n",
              "2  [{'id': 10749, 'name': 'Romance'}, {'id': 35, ...   \n",
              "\n",
              "                               homepage     id    imdb_id original_language  \\\n",
              "0  http://toystory.disney.com/toy-story    862  tt0114709                en   \n",
              "1                                   NaN   8844  tt0113497                en   \n",
              "2                                   NaN  15602  tt0113228                en   \n",
              "\n",
              "     original_title                                           overview  ...  \\\n",
              "0         Toy Story  Led by Woody, Andy's toys live happily in his ...  ...   \n",
              "1           Jumanji  When siblings Judy and Peter discover an encha...  ...   \n",
              "2  Grumpier Old Men  A family wedding reignites the ancient feud be...  ...   \n",
              "\n",
              "  release_date      revenue runtime  \\\n",
              "0   1995-10-30  373554033.0    81.0   \n",
              "1   1995-12-15  262797249.0   104.0   \n",
              "2   1995-12-22          0.0   101.0   \n",
              "\n",
              "                                    spoken_languages    status  \\\n",
              "0           [{'iso_639_1': 'en', 'name': 'English'}]  Released   \n",
              "1  [{'iso_639_1': 'en', 'name': 'English'}, {'iso...  Released   \n",
              "2           [{'iso_639_1': 'en', 'name': 'English'}]  Released   \n",
              "\n",
              "                                             tagline             title  video  \\\n",
              "0                                                NaN         Toy Story  False   \n",
              "1          Roll the dice and unleash the excitement!           Jumanji  False   \n",
              "2  Still Yelling. Still Fighting. Still Ready for...  Grumpier Old Men  False   \n",
              "\n",
              "  vote_average vote_count  \n",
              "0          7.7     5415.0  \n",
              "1          6.9     2413.0  \n",
              "2          6.5       92.0  \n",
              "\n",
              "[3 rows x 24 columns]"
            ]
          },
          "execution_count": 33,
          "metadata": {},
          "output_type": "execute_result"
        }
      ],
      "source": [
        "# information about films etc\n",
        "movies_metadata = read_csv_from_gdrive(MOVIES_METADATA_URL)\n",
        "movies_metadata.head(3)"
      ]
    },
    {
      "cell_type": "code",
      "execution_count": 34,
      "metadata": {
        "id": "uj5EurqIn0Y3"
      },
      "outputs": [],
      "source": [
        "movies_metadata['id'] = movies_metadata['id'].astype(str)\n",
        "interactions['movieId'] = interactions['movieId'].astype(str)"
      ]
    },
    {
      "cell_type": "code",
      "execution_count": 35,
      "metadata": {
        "id": "F7uwe9Msn0Y3"
      },
      "outputs": [],
      "source": [
        "movies_metadata.rename(columns = {'id': 'movieId'}, inplace = True)"
      ]
    },
    {
      "cell_type": "code",
      "execution_count": 36,
      "metadata": {
        "colab": {
          "base_uri": "https://localhost:8080/"
        },
        "id": "UEmTCRAwn0Y3",
        "outputId": "3ad29130-9d1a-41aa-c00f-002c885b663e"
      },
      "outputs": [
        {
          "name": "stdout",
          "output_type": "stream",
          "text": [
            "(100004, 4) (44989, 4)\n"
          ]
        }
      ],
      "source": [
        "# leave only those films that intersect with each other\n",
        "interactions_filtered = interactions.loc[interactions['movieId'].isin(movies_metadata['movieId'])]\n",
        "print(interactions.shape, interactions_filtered.shape)"
      ]
    },
    {
      "cell_type": "markdown",
      "metadata": {
        "id": "TGAPf3IAn0Y3"
      },
      "source": [
        "### 2.3.2 Data Preparation"
      ]
    },
    {
      "cell_type": "code",
      "execution_count": 37,
      "metadata": {
        "id": "KioNKf3vn0Y3"
      },
      "outputs": [],
      "source": [
        "TEST_SIZE = .25"
      ]
    },
    {
      "cell_type": "code",
      "execution_count": 38,
      "metadata": {
        "id": "am0e11xBn0Y3"
      },
      "outputs": [],
      "source": [
        "# convert timestamp to date\n",
        "interactions_filtered['dttm'] = interactions_filtered['timestamp']\\\n",
        "                                .apply(lambda x: pd.to_datetime(dt.datetime.fromtimestamp(x).strftime('%Y-%m-%d')))"
      ]
    },
    {
      "cell_type": "markdown",
      "metadata": {
        "id": "GolhrZZOn0Y4"
      },
      "source": [
        "Let's calculate some basic features, but keep in mind that our data of historical ratings depends on time.\n",
        "We need to avoid data leak -- use future values in past data"
      ]
    },
    {
      "cell_type": "code",
      "execution_count": 39,
      "metadata": {
        "id": "XpoDPNiIn0Y4"
      },
      "outputs": [],
      "source": [
        "ITEM_FEATURES_LIST = ['revenue', 'budget', 'runtime']"
      ]
    },
    {
      "cell_type": "code",
      "execution_count": 40,
      "metadata": {
        "colab": {
          "base_uri": "https://localhost:8080/",
          "height": 81
        },
        "id": "oe7GGeHbn0Y4",
        "outputId": "a61cfd6e-6866-4b1f-afea-5ac584b68a19"
      },
      "outputs": [
        {
          "data": {
            "text/html": [
              "<div>\n",
              "<style scoped>\n",
              "    .dataframe tbody tr th:only-of-type {\n",
              "        vertical-align: middle;\n",
              "    }\n",
              "\n",
              "    .dataframe tbody tr th {\n",
              "        vertical-align: top;\n",
              "    }\n",
              "\n",
              "    .dataframe thead th {\n",
              "        text-align: right;\n",
              "    }\n",
              "</style>\n",
              "<table border=\"1\" class=\"dataframe\">\n",
              "  <thead>\n",
              "    <tr style=\"text-align: right;\">\n",
              "      <th></th>\n",
              "      <th>userId</th>\n",
              "      <th>dttm</th>\n",
              "      <th>user_mean_rating</th>\n",
              "      <th>user_watch_count</th>\n",
              "    </tr>\n",
              "  </thead>\n",
              "  <tbody>\n",
              "    <tr>\n",
              "      <th>2</th>\n",
              "      <td>3</td>\n",
              "      <td>2011-03-01</td>\n",
              "      <td>3.541667</td>\n",
              "      <td>24</td>\n",
              "    </tr>\n",
              "    <tr>\n",
              "      <th>3</th>\n",
              "      <td>3</td>\n",
              "      <td>2011-03-02</td>\n",
              "      <td>3.500000</td>\n",
              "      <td>1</td>\n",
              "    </tr>\n",
              "  </tbody>\n",
              "</table>\n",
              "</div>"
            ],
            "text/plain": [
              "   userId       dttm  user_mean_rating  user_watch_count\n",
              "2       3 2011-03-01          3.541667                24\n",
              "3       3 2011-03-02          3.500000                 1"
            ]
          },
          "execution_count": 40,
          "metadata": {},
          "output_type": "execute_result"
        }
      ],
      "source": [
        "# calculate avg ratings by users and items daily\n",
        "daily_users_feature = interactions_filtered.groupby(['userId', 'dttm']).agg({'rating': 'mean',\n",
        "                                              'movieId': 'count'})\\\n",
        "                                  .reset_index().sort_values(['userId', 'dttm'])\\\n",
        "                                  .rename(columns = {'rating': 'user_mean_rating',\n",
        "                                                     'movieId': 'user_watch_count'})\n",
        "\n",
        "\n",
        "daily_users_feature['dttm'] = daily_users_feature['dttm'].apply(lambda x: x + dt.timedelta(days = 1))\n",
        "daily_users_feature.loc[daily_users_feature['userId'] == 3]"
      ]
    },
    {
      "cell_type": "code",
      "execution_count": 41,
      "metadata": {
        "colab": {
          "base_uri": "https://localhost:8080/",
          "height": 833
        },
        "id": "i9uzZbs7n0Y4",
        "outputId": "236e3057-af54-4a3c-efba-ec572b4d1467"
      },
      "outputs": [
        {
          "data": {
            "text/html": [
              "<div>\n",
              "<style scoped>\n",
              "    .dataframe tbody tr th:only-of-type {\n",
              "        vertical-align: middle;\n",
              "    }\n",
              "\n",
              "    .dataframe tbody tr th {\n",
              "        vertical-align: top;\n",
              "    }\n",
              "\n",
              "    .dataframe thead th {\n",
              "        text-align: right;\n",
              "    }\n",
              "</style>\n",
              "<table border=\"1\" class=\"dataframe\">\n",
              "  <thead>\n",
              "    <tr style=\"text-align: right;\">\n",
              "      <th></th>\n",
              "      <th>userId</th>\n",
              "      <th>movieId</th>\n",
              "      <th>rating</th>\n",
              "      <th>timestamp</th>\n",
              "      <th>dttm</th>\n",
              "    </tr>\n",
              "  </thead>\n",
              "  <tbody>\n",
              "    <tr>\n",
              "      <th>97</th>\n",
              "      <td>3</td>\n",
              "      <td>110</td>\n",
              "      <td>4.0</td>\n",
              "      <td>1298922049</td>\n",
              "      <td>2011-02-28</td>\n",
              "    </tr>\n",
              "    <tr>\n",
              "      <th>98</th>\n",
              "      <td>3</td>\n",
              "      <td>247</td>\n",
              "      <td>3.5</td>\n",
              "      <td>1298861637</td>\n",
              "      <td>2011-02-28</td>\n",
              "    </tr>\n",
              "    <tr>\n",
              "      <th>99</th>\n",
              "      <td>3</td>\n",
              "      <td>267</td>\n",
              "      <td>3.0</td>\n",
              "      <td>1298861761</td>\n",
              "      <td>2011-02-28</td>\n",
              "    </tr>\n",
              "    <tr>\n",
              "      <th>100</th>\n",
              "      <td>3</td>\n",
              "      <td>296</td>\n",
              "      <td>4.5</td>\n",
              "      <td>1298862418</td>\n",
              "      <td>2011-02-28</td>\n",
              "    </tr>\n",
              "    <tr>\n",
              "      <th>101</th>\n",
              "      <td>3</td>\n",
              "      <td>318</td>\n",
              "      <td>5.0</td>\n",
              "      <td>1298862121</td>\n",
              "      <td>2011-02-28</td>\n",
              "    </tr>\n",
              "    <tr>\n",
              "      <th>104</th>\n",
              "      <td>3</td>\n",
              "      <td>377</td>\n",
              "      <td>2.5</td>\n",
              "      <td>1298923242</td>\n",
              "      <td>2011-02-28</td>\n",
              "    </tr>\n",
              "    <tr>\n",
              "      <th>105</th>\n",
              "      <td>3</td>\n",
              "      <td>527</td>\n",
              "      <td>3.0</td>\n",
              "      <td>1298862528</td>\n",
              "      <td>2011-02-28</td>\n",
              "    </tr>\n",
              "    <tr>\n",
              "      <th>106</th>\n",
              "      <td>3</td>\n",
              "      <td>588</td>\n",
              "      <td>3.0</td>\n",
              "      <td>1298922100</td>\n",
              "      <td>2011-02-28</td>\n",
              "    </tr>\n",
              "    <tr>\n",
              "      <th>107</th>\n",
              "      <td>3</td>\n",
              "      <td>592</td>\n",
              "      <td>3.0</td>\n",
              "      <td>1298923247</td>\n",
              "      <td>2011-02-28</td>\n",
              "    </tr>\n",
              "    <tr>\n",
              "      <th>108</th>\n",
              "      <td>3</td>\n",
              "      <td>593</td>\n",
              "      <td>3.0</td>\n",
              "      <td>1298921840</td>\n",
              "      <td>2011-02-28</td>\n",
              "    </tr>\n",
              "    <tr>\n",
              "      <th>109</th>\n",
              "      <td>3</td>\n",
              "      <td>595</td>\n",
              "      <td>2.0</td>\n",
              "      <td>1298923260</td>\n",
              "      <td>2011-02-28</td>\n",
              "    </tr>\n",
              "    <tr>\n",
              "      <th>111</th>\n",
              "      <td>3</td>\n",
              "      <td>778</td>\n",
              "      <td>4.0</td>\n",
              "      <td>1298863157</td>\n",
              "      <td>2011-02-28</td>\n",
              "    </tr>\n",
              "    <tr>\n",
              "      <th>112</th>\n",
              "      <td>3</td>\n",
              "      <td>866</td>\n",
              "      <td>3.0</td>\n",
              "      <td>1298861687</td>\n",
              "      <td>2011-02-28</td>\n",
              "    </tr>\n",
              "    <tr>\n",
              "      <th>116</th>\n",
              "      <td>3</td>\n",
              "      <td>1271</td>\n",
              "      <td>3.0</td>\n",
              "      <td>1298861605</td>\n",
              "      <td>2011-02-28</td>\n",
              "    </tr>\n",
              "    <tr>\n",
              "      <th>117</th>\n",
              "      <td>3</td>\n",
              "      <td>1378</td>\n",
              "      <td>4.0</td>\n",
              "      <td>1298861658</td>\n",
              "      <td>2011-02-28</td>\n",
              "    </tr>\n",
              "    <tr>\n",
              "      <th>118</th>\n",
              "      <td>3</td>\n",
              "      <td>1580</td>\n",
              "      <td>3.5</td>\n",
              "      <td>1298922089</td>\n",
              "      <td>2011-02-28</td>\n",
              "    </tr>\n",
              "    <tr>\n",
              "      <th>119</th>\n",
              "      <td>3</td>\n",
              "      <td>1721</td>\n",
              "      <td>4.5</td>\n",
              "      <td>1298923236</td>\n",
              "      <td>2011-02-28</td>\n",
              "    </tr>\n",
              "    <tr>\n",
              "      <th>120</th>\n",
              "      <td>3</td>\n",
              "      <td>1884</td>\n",
              "      <td>4.0</td>\n",
              "      <td>1298863143</td>\n",
              "      <td>2011-02-28</td>\n",
              "    </tr>\n",
              "    <tr>\n",
              "      <th>121</th>\n",
              "      <td>3</td>\n",
              "      <td>2028</td>\n",
              "      <td>4.0</td>\n",
              "      <td>1298921862</td>\n",
              "      <td>2011-02-28</td>\n",
              "    </tr>\n",
              "    <tr>\n",
              "      <th>124</th>\n",
              "      <td>3</td>\n",
              "      <td>2694</td>\n",
              "      <td>3.0</td>\n",
              "      <td>1298862710</td>\n",
              "      <td>2011-02-28</td>\n",
              "    </tr>\n",
              "    <tr>\n",
              "      <th>127</th>\n",
              "      <td>3</td>\n",
              "      <td>2762</td>\n",
              "      <td>3.5</td>\n",
              "      <td>1298922057</td>\n",
              "      <td>2011-02-28</td>\n",
              "    </tr>\n",
              "    <tr>\n",
              "      <th>128</th>\n",
              "      <td>3</td>\n",
              "      <td>2841</td>\n",
              "      <td>4.0</td>\n",
              "      <td>1298861733</td>\n",
              "      <td>2011-02-28</td>\n",
              "    </tr>\n",
              "    <tr>\n",
              "      <th>130</th>\n",
              "      <td>3</td>\n",
              "      <td>2959</td>\n",
              "      <td>5.0</td>\n",
              "      <td>1298862874</td>\n",
              "      <td>2011-02-28</td>\n",
              "    </tr>\n",
              "    <tr>\n",
              "      <th>142</th>\n",
              "      <td>3</td>\n",
              "      <td>44191</td>\n",
              "      <td>3.5</td>\n",
              "      <td>1298932740</td>\n",
              "      <td>2011-03-01</td>\n",
              "    </tr>\n",
              "    <tr>\n",
              "      <th>145</th>\n",
              "      <td>3</td>\n",
              "      <td>58559</td>\n",
              "      <td>3.0</td>\n",
              "      <td>1298922071</td>\n",
              "      <td>2011-02-28</td>\n",
              "    </tr>\n",
              "  </tbody>\n",
              "</table>\n",
              "</div>"
            ],
            "text/plain": [
              "     userId movieId  rating   timestamp       dttm\n",
              "97        3     110     4.0  1298922049 2011-02-28\n",
              "98        3     247     3.5  1298861637 2011-02-28\n",
              "99        3     267     3.0  1298861761 2011-02-28\n",
              "100       3     296     4.5  1298862418 2011-02-28\n",
              "101       3     318     5.0  1298862121 2011-02-28\n",
              "104       3     377     2.5  1298923242 2011-02-28\n",
              "105       3     527     3.0  1298862528 2011-02-28\n",
              "106       3     588     3.0  1298922100 2011-02-28\n",
              "107       3     592     3.0  1298923247 2011-02-28\n",
              "108       3     593     3.0  1298921840 2011-02-28\n",
              "109       3     595     2.0  1298923260 2011-02-28\n",
              "111       3     778     4.0  1298863157 2011-02-28\n",
              "112       3     866     3.0  1298861687 2011-02-28\n",
              "116       3    1271     3.0  1298861605 2011-02-28\n",
              "117       3    1378     4.0  1298861658 2011-02-28\n",
              "118       3    1580     3.5  1298922089 2011-02-28\n",
              "119       3    1721     4.5  1298923236 2011-02-28\n",
              "120       3    1884     4.0  1298863143 2011-02-28\n",
              "121       3    2028     4.0  1298921862 2011-02-28\n",
              "124       3    2694     3.0  1298862710 2011-02-28\n",
              "127       3    2762     3.5  1298922057 2011-02-28\n",
              "128       3    2841     4.0  1298861733 2011-02-28\n",
              "130       3    2959     5.0  1298862874 2011-02-28\n",
              "142       3   44191     3.5  1298932740 2011-03-01\n",
              "145       3   58559     3.0  1298922071 2011-02-28"
            ]
          },
          "execution_count": 41,
          "metadata": {},
          "output_type": "execute_result"
        }
      ],
      "source": [
        "interactions_filtered.loc[interactions_filtered['userId'] == 3]"
      ]
    },
    {
      "cell_type": "code",
      "execution_count": 42,
      "metadata": {
        "id": "Obea3Dj7n0Y4"
      },
      "outputs": [],
      "source": [
        "cumulative_total_cnt = daily_users_feature.set_index('dttm').groupby(['userId'])['user_watch_count']\\\n",
        "                        .rolling(window = 3, min_periods = 1).sum()\\\n",
        "                        .reset_index()[['userId', 'dttm', 'user_watch_count']]\\\n",
        "                        .rename(columns = {'user_watch_count': 'user_total_watch_count_last_3_days'})"
      ]
    },
    {
      "cell_type": "code",
      "execution_count": 43,
      "metadata": {
        "id": "lRiDM8VSn0Y4"
      },
      "outputs": [],
      "source": [
        "# merge item features\n",
        "main_df = pd.merge(\n",
        "    interactions_filtered, movies_metadata[['movieId']+ ITEM_FEATURES_LIST],\n",
        "    how = 'left', on = 'movieId'\n",
        "                   ).drop_duplicates().reset_index(drop = True)\n",
        "assert main_df.shape[0] == interactions_filtered.shape[0]"
      ]
    },
    {
      "cell_type": "code",
      "execution_count": 44,
      "metadata": {
        "id": "PowKyiAAn0Y4"
      },
      "outputs": [],
      "source": [
        "main_df = main_df.sort_values('dttm').reset_index(drop = True)\n",
        "daily_users_feature = daily_users_feature.sort_values('dttm').reset_index(drop = True)\n",
        "cumulative_total_cnt = cumulative_total_cnt.sort_values('dttm').reset_index(drop = True)"
      ]
    },
    {
      "cell_type": "code",
      "execution_count": 45,
      "metadata": {
        "id": "yPZGebWAn0Y4"
      },
      "outputs": [],
      "source": [
        "# merge user features with watch count\n",
        "main_df = pd.merge_asof(\n",
        "    main_df, daily_users_feature,\n",
        "    on = 'dttm', by = 'userId',\n",
        "    direction = 'backward',\n",
        "    allow_exact_matches = True\n",
        "    )\n",
        "assert main_df.shape[0] == interactions_filtered.shape[0]"
      ]
    },
    {
      "cell_type": "code",
      "execution_count": 46,
      "metadata": {
        "id": "jD9Ft5Q8n0Y5"
      },
      "outputs": [],
      "source": [
        "main_df = pd.merge_asof(\n",
        "    main_df, cumulative_total_cnt,\n",
        "    on = 'dttm', by = 'userId',\n",
        "    direction = 'backward',\n",
        "    allow_exact_matches = True\n",
        "    )\n",
        "assert main_df.shape[0] == interactions_filtered.shape[0]"
      ]
    },
    {
      "cell_type": "code",
      "execution_count": 47,
      "metadata": {
        "id": "r8sAZB_Kn0Y5"
      },
      "outputs": [],
      "source": [
        "# tmp  = main_df.loc[main_df['userId'] == 671][['userId', 'dttm']]\n",
        "# pd.merge_asof(\n",
        "#     tmp.sort_values('dttm'), cumulative_total_cnt.sort_values('dttm'),\n",
        "#     on = 'dttm', by = 'userId', direction = 'backward',\n",
        "#     allow_exact_matches = True).sort_values('dttm')"
      ]
    },
    {
      "cell_type": "code",
      "execution_count": 48,
      "metadata": {
        "colab": {
          "base_uri": "https://localhost:8080/"
        },
        "id": "yuygrPCen0Y5",
        "outputId": "4595e1e6-cf71-4e3f-a6ea-8d8a1e5abedb"
      },
      "outputs": [
        {
          "data": {
            "text/plain": [
              "userId                                0.000000\n",
              "movieId                               0.000000\n",
              "rating                                0.000000\n",
              "timestamp                             0.000000\n",
              "dttm                                  0.000000\n",
              "revenue                               0.000000\n",
              "budget                                0.000000\n",
              "runtime                               0.000089\n",
              "user_mean_rating                      0.612327\n",
              "user_watch_count                      0.612327\n",
              "user_total_watch_count_last_3_days    0.612327\n",
              "dtype: float64"
            ]
          },
          "execution_count": 48,
          "metadata": {},
          "output_type": "execute_result"
        }
      ],
      "source": [
        "# anyway we left some NaN\n",
        "main_df.isnull().sum() / len(main_df) "
      ]
    },
    {
      "cell_type": "code",
      "execution_count": 49,
      "metadata": {
        "colab": {
          "base_uri": "https://localhost:8080/",
          "height": 661
        },
        "id": "Koj6FERL5POo",
        "outputId": "cabad3b0-9da5-42c7-c734-6e3f0a06dcba"
      },
      "outputs": [
        {
          "data": {
            "text/html": [
              "<div>\n",
              "<style scoped>\n",
              "    .dataframe tbody tr th:only-of-type {\n",
              "        vertical-align: middle;\n",
              "    }\n",
              "\n",
              "    .dataframe tbody tr th {\n",
              "        vertical-align: top;\n",
              "    }\n",
              "\n",
              "    .dataframe thead th {\n",
              "        text-align: right;\n",
              "    }\n",
              "</style>\n",
              "<table border=\"1\" class=\"dataframe\">\n",
              "  <thead>\n",
              "    <tr style=\"text-align: right;\">\n",
              "      <th></th>\n",
              "      <th>userId</th>\n",
              "      <th>movieId</th>\n",
              "      <th>rating</th>\n",
              "      <th>timestamp</th>\n",
              "      <th>dttm</th>\n",
              "      <th>revenue</th>\n",
              "      <th>budget</th>\n",
              "      <th>runtime</th>\n",
              "      <th>user_mean_rating</th>\n",
              "      <th>user_watch_count</th>\n",
              "      <th>user_total_watch_count_last_3_days</th>\n",
              "    </tr>\n",
              "  </thead>\n",
              "  <tbody>\n",
              "    <tr>\n",
              "      <th>0</th>\n",
              "      <td>383</td>\n",
              "      <td>21</td>\n",
              "      <td>3.0</td>\n",
              "      <td>789652009</td>\n",
              "      <td>1995-01-09</td>\n",
              "      <td>0.0</td>\n",
              "      <td>0</td>\n",
              "      <td>95.0</td>\n",
              "      <td>NaN</td>\n",
              "      <td>NaN</td>\n",
              "      <td>NaN</td>\n",
              "    </tr>\n",
              "    <tr>\n",
              "      <th>1</th>\n",
              "      <td>224</td>\n",
              "      <td>427</td>\n",
              "      <td>3.0</td>\n",
              "      <td>828214011</td>\n",
              "      <td>1996-03-30</td>\n",
              "      <td>0.0</td>\n",
              "      <td>0</td>\n",
              "      <td>110.0</td>\n",
              "      <td>NaN</td>\n",
              "      <td>NaN</td>\n",
              "      <td>NaN</td>\n",
              "    </tr>\n",
              "    <tr>\n",
              "      <th>2</th>\n",
              "      <td>224</td>\n",
              "      <td>335</td>\n",
              "      <td>4.0</td>\n",
              "      <td>828214012</td>\n",
              "      <td>1996-03-30</td>\n",
              "      <td>5321508.0</td>\n",
              "      <td>5000000</td>\n",
              "      <td>175.0</td>\n",
              "      <td>NaN</td>\n",
              "      <td>NaN</td>\n",
              "      <td>NaN</td>\n",
              "    </tr>\n",
              "    <tr>\n",
              "      <th>3</th>\n",
              "      <td>224</td>\n",
              "      <td>337</td>\n",
              "      <td>4.0</td>\n",
              "      <td>828214012</td>\n",
              "      <td>1996-03-30</td>\n",
              "      <td>11576431.0</td>\n",
              "      <td>0</td>\n",
              "      <td>94.0</td>\n",
              "      <td>NaN</td>\n",
              "      <td>NaN</td>\n",
              "      <td>NaN</td>\n",
              "    </tr>\n",
              "    <tr>\n",
              "      <th>4</th>\n",
              "      <td>224</td>\n",
              "      <td>339</td>\n",
              "      <td>4.0</td>\n",
              "      <td>828214012</td>\n",
              "      <td>1996-03-30</td>\n",
              "      <td>2015810.0</td>\n",
              "      <td>3500000</td>\n",
              "      <td>129.0</td>\n",
              "      <td>NaN</td>\n",
              "      <td>NaN</td>\n",
              "      <td>NaN</td>\n",
              "    </tr>\n",
              "    <tr>\n",
              "      <th>...</th>\n",
              "      <td>...</td>\n",
              "      <td>...</td>\n",
              "      <td>...</td>\n",
              "      <td>...</td>\n",
              "      <td>...</td>\n",
              "      <td>...</td>\n",
              "      <td>...</td>\n",
              "      <td>...</td>\n",
              "      <td>...</td>\n",
              "      <td>...</td>\n",
              "      <td>...</td>\n",
              "    </tr>\n",
              "    <tr>\n",
              "      <th>44984</th>\n",
              "      <td>251</td>\n",
              "      <td>551</td>\n",
              "      <td>5.0</td>\n",
              "      <td>1476551142</td>\n",
              "      <td>2016-10-15</td>\n",
              "      <td>84563118.0</td>\n",
              "      <td>5000000</td>\n",
              "      <td>117.0</td>\n",
              "      <td>4.461538</td>\n",
              "      <td>13.0</td>\n",
              "      <td>13.0</td>\n",
              "    </tr>\n",
              "    <tr>\n",
              "      <th>44985</th>\n",
              "      <td>251</td>\n",
              "      <td>44191</td>\n",
              "      <td>3.0</td>\n",
              "      <td>1476623070</td>\n",
              "      <td>2016-10-16</td>\n",
              "      <td>0.0</td>\n",
              "      <td>945000</td>\n",
              "      <td>92.0</td>\n",
              "      <td>4.583333</td>\n",
              "      <td>24.0</td>\n",
              "      <td>37.0</td>\n",
              "    </tr>\n",
              "    <tr>\n",
              "      <th>44986</th>\n",
              "      <td>251</td>\n",
              "      <td>81847</td>\n",
              "      <td>4.5</td>\n",
              "      <td>1476623282</td>\n",
              "      <td>2016-10-16</td>\n",
              "      <td>0.0</td>\n",
              "      <td>0</td>\n",
              "      <td>108.0</td>\n",
              "      <td>4.583333</td>\n",
              "      <td>24.0</td>\n",
              "      <td>37.0</td>\n",
              "    </tr>\n",
              "    <tr>\n",
              "      <th>44987</th>\n",
              "      <td>251</td>\n",
              "      <td>1265</td>\n",
              "      <td>4.0</td>\n",
              "      <td>1476622980</td>\n",
              "      <td>2016-10-16</td>\n",
              "      <td>137587063.0</td>\n",
              "      <td>60000000</td>\n",
              "      <td>96.0</td>\n",
              "      <td>4.583333</td>\n",
              "      <td>24.0</td>\n",
              "      <td>37.0</td>\n",
              "    </tr>\n",
              "    <tr>\n",
              "      <th>44988</th>\n",
              "      <td>547</td>\n",
              "      <td>47493</td>\n",
              "      <td>3.0</td>\n",
              "      <td>1476587644</td>\n",
              "      <td>2016-10-16</td>\n",
              "      <td>0.0</td>\n",
              "      <td>0</td>\n",
              "      <td>117.0</td>\n",
              "      <td>4.500000</td>\n",
              "      <td>1.0</td>\n",
              "      <td>3.0</td>\n",
              "    </tr>\n",
              "  </tbody>\n",
              "</table>\n",
              "<p>44989 rows × 11 columns</p>\n",
              "</div>"
            ],
            "text/plain": [
              "       userId movieId  rating   timestamp       dttm      revenue    budget  \\\n",
              "0         383      21     3.0   789652009 1995-01-09          0.0         0   \n",
              "1         224     427     3.0   828214011 1996-03-30          0.0         0   \n",
              "2         224     335     4.0   828214012 1996-03-30    5321508.0   5000000   \n",
              "3         224     337     4.0   828214012 1996-03-30   11576431.0         0   \n",
              "4         224     339     4.0   828214012 1996-03-30    2015810.0   3500000   \n",
              "...       ...     ...     ...         ...        ...          ...       ...   \n",
              "44984     251     551     5.0  1476551142 2016-10-15   84563118.0   5000000   \n",
              "44985     251   44191     3.0  1476623070 2016-10-16          0.0    945000   \n",
              "44986     251   81847     4.5  1476623282 2016-10-16          0.0         0   \n",
              "44987     251    1265     4.0  1476622980 2016-10-16  137587063.0  60000000   \n",
              "44988     547   47493     3.0  1476587644 2016-10-16          0.0         0   \n",
              "\n",
              "       runtime  user_mean_rating  user_watch_count  \\\n",
              "0         95.0               NaN               NaN   \n",
              "1        110.0               NaN               NaN   \n",
              "2        175.0               NaN               NaN   \n",
              "3         94.0               NaN               NaN   \n",
              "4        129.0               NaN               NaN   \n",
              "...        ...               ...               ...   \n",
              "44984    117.0          4.461538              13.0   \n",
              "44985     92.0          4.583333              24.0   \n",
              "44986    108.0          4.583333              24.0   \n",
              "44987     96.0          4.583333              24.0   \n",
              "44988    117.0          4.500000               1.0   \n",
              "\n",
              "       user_total_watch_count_last_3_days  \n",
              "0                                     NaN  \n",
              "1                                     NaN  \n",
              "2                                     NaN  \n",
              "3                                     NaN  \n",
              "4                                     NaN  \n",
              "...                                   ...  \n",
              "44984                                13.0  \n",
              "44985                                37.0  \n",
              "44986                                37.0  \n",
              "44987                                37.0  \n",
              "44988                                 3.0  \n",
              "\n",
              "[44989 rows x 11 columns]"
            ]
          },
          "execution_count": 49,
          "metadata": {},
          "output_type": "execute_result"
        }
      ],
      "source": [
        "main_df"
      ]
    },
    {
      "cell_type": "code",
      "execution_count": 50,
      "metadata": {
        "id": "4M8iMhZ_n0Y5"
      },
      "outputs": [],
      "source": [
        "FINAL_FEATURES_LIST = ['revenue', 'budget', 'runtime', 'user_mean_rating',\n",
        "                       'user_watch_count', 'user_total_watch_count_last_3_days']"
      ]
    },
    {
      "cell_type": "code",
      "execution_count": 51,
      "metadata": {
        "id": "6VaMgJadn0Y5"
      },
      "outputs": [],
      "source": [
        "ID_COLS = ['userId', 'movieId']"
      ]
    },
    {
      "cell_type": "code",
      "execution_count": 52,
      "metadata": {
        "id": "ctI4TtOIn0Y5"
      },
      "outputs": [],
      "source": [
        "TARGET = 'rating'"
      ]
    },
    {
      "cell_type": "code",
      "execution_count": 53,
      "metadata": {
        "colab": {
          "base_uri": "https://localhost:8080/"
        },
        "id": "XocbbrUwn0Y5",
        "outputId": "0f849582-0335-4731-9025-479045a27693"
      },
      "outputs": [
        {
          "name": "stdout",
          "output_type": "stream",
          "text": [
            "Shape of train set X, y: (33741, 8), 33741\n",
            "Shape of train set X, y: (11248, 8), 11248\n"
          ]
        }
      ],
      "source": [
        "X = main_df[ID_COLS + FINAL_FEATURES_LIST]\n",
        "y = main_df[TARGET]\n",
        "\n",
        "X_train, X_test, y_train, y_test = train_test_split(\n",
        "    X, y,\n",
        "    test_size = TEST_SIZE,\n",
        "    random_state = RANDOM_STATE)\n",
        "\n",
        "print(f'Shape of train set X, y: {X_train.shape}, {len(y_train)}')\n",
        "print(f'Shape of train set X, y: {X_test.shape}, {len(y_test)}')"
      ]
    },
    {
      "cell_type": "code",
      "execution_count": 54,
      "metadata": {
        "colab": {
          "base_uri": "https://localhost:8080/"
        },
        "id": "0JA914504lv8",
        "outputId": "ee82313f-7bf9-4b1b-c5c7-37e058e60b32"
      },
      "outputs": [
        {
          "data": {
            "text/plain": [
              "33179    2.0\n",
              "28551    5.0\n",
              "18785    3.0\n",
              "18716    4.0\n",
              "14499    4.0\n",
              "Name: rating, dtype: float64"
            ]
          },
          "execution_count": 54,
          "metadata": {},
          "output_type": "execute_result"
        }
      ],
      "source": [
        "y_test.head(5)"
      ]
    },
    {
      "cell_type": "markdown",
      "metadata": {
        "id": "9LIA_gHhn0Y5"
      },
      "source": [
        "### 2.3.3. Train Model"
      ]
    },
    {
      "cell_type": "code",
      "execution_count": 55,
      "metadata": {
        "id": "RbpoWqOZn0Y5"
      },
      "outputs": [],
      "source": [
        "# init model\n",
        "model = CatBoostRegressor(\n",
        "    loss_function = 'MAE',\n",
        "    iterations = 2000,\n",
        "    learning_rate = .1,\n",
        "    depth = 6,\n",
        "    verbose = False\n",
        ")"
      ]
    },
    {
      "cell_type": "code",
      "execution_count": 56,
      "metadata": {
        "colab": {
          "base_uri": "https://localhost:8080/"
        },
        "id": "QcoiECOnn0Y5",
        "outputId": "e8c114cd-b076-4a45-e46c-a9b394e8a7c0"
      },
      "outputs": [
        {
          "data": {
            "text/plain": [
              "<catboost.core.CatBoostRegressor at 0x7fcb7e1fd340>"
            ]
          },
          "execution_count": 56,
          "metadata": {},
          "output_type": "execute_result"
        }
      ],
      "source": [
        "model.fit(\n",
        "    X_train, y_train,\n",
        "    eval_set=(X_test, y_test),\n",
        "    early_stopping_rounds = 20 # to avoid overfitting,\n",
        ")"
      ]
    },
    {
      "cell_type": "code",
      "execution_count": 57,
      "metadata": {
        "colab": {
          "base_uri": "https://localhost:8080/"
        },
        "id": "0b7HWDwrn0Y5",
        "outputId": "9658b591-aff7-4e56-9d37-5b060ed3b322"
      },
      "outputs": [
        {
          "data": {
            "text/plain": [
              "{'learn': {'MAE': 0.6618374739119923},\n",
              " 'validation': {'MAE': 0.721013774188702}}"
            ]
          },
          "execution_count": 57,
          "metadata": {},
          "output_type": "execute_result"
        }
      ],
      "source": [
        "model.best_score_"
      ]
    },
    {
      "cell_type": "markdown",
      "metadata": {
        "id": "5J2_4vvTn0Y5"
      },
      "source": [
        "# TODO\n",
        "- Add baseline comparison from the model (well, we discussed what is baseline for MAE metric -- now, you have to define, how you are going to calculate it)"
      ]
    },
    {
      "cell_type": "markdown",
      "metadata": {
        "id": "L-qp-oVt2ZMt"
      },
      "source": [
        "For MAE is more appropriate to use mean as the baseline, so, we calculate mean and put it in the formula instead of y_pred "
      ]
    },
    {
      "cell_type": "code",
      "execution_count": 58,
      "metadata": {
        "id": "SF-yBKGi2YN5"
      },
      "outputs": [],
      "source": [
        "median_film_rating = main_df.groupby('movieId')['rating'].median().to_dict()"
      ]
    },
    {
      "cell_type": "code",
      "execution_count": 59,
      "metadata": {
        "colab": {
          "base_uri": "https://localhost:8080/"
        },
        "id": "WM_IrFQW-L2D",
        "outputId": "59739b59-47ca-4ef5-a142-ac00ec214cd7"
      },
      "outputs": [
        {
          "data": {
            "text/plain": [
              "33179    3.5\n",
              "28551    4.5\n",
              "18785    4.0\n",
              "18716    4.0\n",
              "14499    4.0\n",
              "Name: movieId, dtype: float64"
            ]
          },
          "execution_count": 59,
          "metadata": {},
          "output_type": "execute_result"
        }
      ],
      "source": [
        "y_base = X_test['movieId'].map(median_film_rating)\n",
        "y_base.head(5)"
      ]
    },
    {
      "cell_type": "code",
      "execution_count": 60,
      "metadata": {
        "colab": {
          "base_uri": "https://localhost:8080/"
        },
        "id": "PQwecmnUDR9_",
        "outputId": "c5933a6b-64c0-4dee-b5d4-061ebd03a51e"
      },
      "outputs": [
        {
          "data": {
            "text/plain": [
              "0.678453947368421"
            ]
          },
          "execution_count": 60,
          "metadata": {},
          "output_type": "execute_result"
        }
      ],
      "source": [
        "mae = mean_absolute_error(y_test, y_base)\n",
        "mae"
      ]
    },
    {
      "cell_type": "code",
      "execution_count": 63,
      "metadata": {
        "colab": {
          "base_uri": "https://localhost:8080/"
        },
        "id": "EYifylYGDbua",
        "outputId": "89ae5db1-96b0-4264-8108-87bc371f88ea"
      },
      "outputs": [
        {
          "name": "stdout",
          "output_type": "stream",
          "text": [
            "Model Mae: {'learn': {'MAE': 0.6618374739119923}, 'validation': {'MAE': 0.721013774188702}}\n",
            "baseline MAE: 0.678453947368421\n"
          ]
        }
      ],
      "source": [
        "print(f'Model Mae: {model.best_score_}')\n",
        "print(f'baseline MAE: {mae}')"
      ]
    }
  ],
  "metadata": {
    "colab": {
      "provenance": []
    },
    "kernelspec": {
      "display_name": "Python 3 (ipykernel)",
      "language": "python",
      "name": "python3"
    },
    "language_info": {
      "codemirror_mode": {
        "name": "ipython",
        "version": 3
      },
      "file_extension": ".py",
      "mimetype": "text/x-python",
      "name": "python",
      "nbconvert_exporter": "python",
      "pygments_lexer": "ipython3",
      "version": "3.9.13"
    },
    "vscode": {
      "interpreter": {
        "hash": "f2d007ce7c74fe41dcd6cb53c80a05eb04c24d9c4918ecd21236b3a1c808c520"
      }
    }
  },
  "nbformat": 4,
  "nbformat_minor": 0
}
